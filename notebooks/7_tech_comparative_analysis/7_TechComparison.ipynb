{
 "cells": [
  {
   "cell_type": "markdown",
   "metadata": {},
   "source": [
    "# 技術側の分析\n"
   ]
  },
  {
   "cell_type": "markdown",
   "metadata": {},
   "source": [
    "<a id=top></a>\n"
   ]
  },
  {
   "cell_type": "markdown",
   "metadata": {},
   "source": [
    "<a href='#data'>データインポート</a>\n"
   ]
  },
  {
   "cell_type": "markdown",
   "metadata": {},
   "source": [
    "---\n"
   ]
  },
  {
   "cell_type": "markdown",
   "metadata": {},
   "source": [
    "<a id=init></a>\n",
    "\n",
    "## **1. モジュールインポート・初期条件設定**\n"
   ]
  },
  {
   "cell_type": "code",
   "execution_count": null,
   "metadata": {},
   "outputs": [],
   "source": [
    "import pandas as pd\n",
    "import numpy as np\n",
    "import sys\n",
    "\n",
    "sys.path.append('../../src')\n",
    "from ecomplexity import ecomplexity\n",
    "import matplotlib.pyplot as plt\n",
    "import seaborn as sns\n",
    "import cv2\n",
    "from PIL import Image\n",
    "import io\n",
    "\n",
    "import matplotlib.ticker as ptick\n",
    "import networkx as nx\n",
    "import networkx.algorithms.bipartite as bip\n",
    "\n",
    "plt.rcParams['font.family'] = 'Meiryo'\n",
    "plt.rcParams['font.size'] = 20\n",
    "\n",
    "# 小数点以下 桁数 6\n",
    "pd.options.display.float_format = '{:.3f}'.format"
   ]
  },
  {
   "cell_type": "code",
   "execution_count": null,
   "metadata": {},
   "outputs": [],
   "source": [
    "import initial_condition\n",
    "from process import weight\n",
    "from visualize import rank as vr"
   ]
  },
  {
   "cell_type": "code",
   "execution_count": null,
   "metadata": {},
   "outputs": [],
   "source": [
    "global data_dir, ex_dir, output_dir\n",
    "data_dir = '../../data/processed/internal/technology/'\n",
    "ex_dir = '../../data/processed/external/'\n",
    "output_dir = '../../output/figures/'"
   ]
  },
  {
   "cell_type": "code",
   "execution_count": null,
   "metadata": {},
   "outputs": [],
   "source": [
    "# 初期条件\n",
    "ar = initial_condition.AR\n",
    "year_style = initial_condition.YEAR_STYLE\n",
    "\n",
    "year_start = initial_condition.YEAR_START\n",
    "year_end = initial_condition.YEAR_END\n",
    "year_range = initial_condition.YEAR_RANGE\n",
    "\n",
    "extract_population = initial_condition.EXTRACT_POPULATION\n",
    "top_p_or_num = initial_condition.TOP_P_OR_NUM\n",
    "region_corporation = initial_condition.REGION_CORPORATION\n",
    "applicant_weight = initial_condition.APPLICANT_WEIGHT\n",
    "\n",
    "classification = initial_condition.CLASSIFICATION\n",
    "class_weight = initial_condition.CLASS_WEIGHT\n",
    "\n",
    "color_list = initial_condition.COLOR_LIST\n",
    "\n",
    "input_condition = f'{ar}_{year_style}_{extract_population}_{top_p_or_num[0]}_{top_p_or_num[1]}_{region_corporation}_{applicant_weight}_{classification}_{class_weight}'\n",
    "fig_name_base = f'{ar}_{year_style}_{extract_population}_{top_p_or_num[0]}_{top_p_or_num[1]}_{region_corporation}_{applicant_weight}_{classification}_{class_weight}.png'\n"
   ]
  },
  {
   "cell_type": "code",
   "execution_count": null,
   "metadata": {},
   "outputs": [],
   "source": [
    "# 条件確認\n",
    "input_condition"
   ]
  },
  {
   "cell_type": "code",
   "execution_count": null,
   "metadata": {},
   "outputs": [],
   "source": [
    "period_order_dict = {\n",
    "    f'{period_start}-{period_start+year_range-1}': i\n",
    "    for i, period_start in enumerate(range(year_start, year_end + 1, year_range))\n",
    "}\n",
    "\n",
    "period_order_dict[f'{year_start}-{year_end}'] = len(period_order_dict)\n",
    "period_order_dict"
   ]
  },
  {
   "cell_type": "markdown",
   "metadata": {},
   "source": [
    "<a href=#top>TOP に戻る</a>\n",
    "\n",
    "---\n"
   ]
  },
  {
   "cell_type": "markdown",
   "metadata": {},
   "source": [
    "<a id='data'></a>\n",
    "\n",
    "## **2. データインポート**\n"
   ]
  },
  {
   "cell_type": "code",
   "execution_count": null,
   "metadata": {},
   "outputs": [],
   "source": [
    "jp_df = pd.read_csv(f'{data_dir}{input_condition}.csv', \n",
    "                    encoding='utf-8',\n",
    "                    sep=','\n",
    "                    )\n",
    "\n",
    "# schmoch_df = pd.read_csv(f'{ex_dir}schmoch/35.csv', \n",
    "#                          encoding='utf-8', \n",
    "#                          sep=',', \n",
    "#                          usecols=['Field_number', 'Field_en']).drop_duplicates()\n",
    "\n",
    "# jp_df = pd.merge(jp_df, schmoch_df, left_on=classification, right_on='Field_number', how='left')\\\n",
    "#         .drop(columns=['Field_number', classification])\\\n",
    "#         .rename(columns={'Field_en': classification})\\\n",
    "#         .sort_values(f'{ar}_{year_style}_period', key=lambda col: col.map(period_order_dict))\n",
    "jp_df = jp_df.sort_values(f'{ar}_{year_style}_period', key=lambda col: col.map(period_order_dict))\n",
    "\n",
    "eu_df = pd.read_csv(f'{ex_dir}abroad/eu.csv', \n",
    "                    encoding='utf-8', \n",
    "                    sep=',')\n",
    "eu_df\n"
   ]
  },
  {
   "cell_type": "code",
   "execution_count": null,
   "metadata": {},
   "outputs": [],
   "source": [
    "jp_df"
   ]
  },
  {
   "cell_type": "code",
   "execution_count": null,
   "metadata": {},
   "outputs": [],
   "source": [
    "eu_jp_df = pd.merge(jp_df[jp_df[f'{ar}_{year_style}_period']==f'{year_start}-{year_end}'][[classification, 'tci', 'reg_num']], \n",
    "                    eu_df[[classification, 'schmoch5', 'TCI_eu', 'reg_num_eu']], \n",
    "                    on=classification, how='outer').rename(columns={'tci': 'TCI_jp', 'reg_num': 'reg_num_jp'})\n",
    "eu_jp_df['TCI_jp'] = (eu_jp_df['TCI_jp'] - eu_jp_df['TCI_jp'].min()) / (eu_jp_df['TCI_jp'].max() - eu_jp_df['TCI_jp'].min()) * 100\n",
    "eu_jp_df = eu_jp_df.sort_values('TCI_jp', ascending=False).reset_index(drop=True)\n",
    "eu_jp_df['schmoch5'] = eu_jp_df['schmoch5'].replace('Mechanical engineering', 'Mechanical engineering, machinery')\n",
    "eu_jp_df['schmoch5'] = eu_jp_df['schmoch5'].replace('Chemistry', 'Chemistry, pharmaceuticals')"
   ]
  },
  {
   "cell_type": "code",
   "execution_count": null,
   "metadata": {},
   "outputs": [],
   "source": [
    "jp_df[~jp_df['schmoch35'].isin(eu_df['schmoch35'])]['schmoch35'].unique()"
   ]
  },
  {
   "cell_type": "code",
   "execution_count": null,
   "metadata": {},
   "outputs": [],
   "source": [
    "eu_jp_df['TCI_rank_jp'] = eu_jp_df['TCI_jp'].rank(ascending=False)\n",
    "eu_jp_df['TCI_rank_eu'] = eu_jp_df['TCI_eu'].rank(ascending=False)\n",
    "eu_jp_df"
   ]
  },
  {
   "cell_type": "code",
   "execution_count": null,
   "metadata": {},
   "outputs": [],
   "source": [
    "df_dict = {}\n",
    "tech_color = {\n",
    "        'Chemistry, pharmaceuticals': 'red',\n",
    "        'Electrical engineering': 'blue',\n",
    "        'Instruments': 'green', \n",
    "        'Mechanical engineering, machinery': 'orange',\n",
    "        'Other fields': 'gray'\n",
    "    }\n",
    "combi_dict = {  # ind: [x, y, title, xlabel, ylabel, legend_loc]\n",
    "    1: [\"TCI_jp\", \"TCI_eu\", \"relation between the TCIs in Japanese corporation and EU regions\", \"Japanese Corporations（period：1981-2010 fiscal year）\", \"EU Regions（period：1985-2009 year）\", \"center\", ],\n",
    "    2: [\"TCI_rank_jp\", \"TCI_rank_eu\", \"relation between the TCIs in Japanese corporation and EU regions\", \"Japanese Corporations ranking（period：1981-2010 fiscal year）\", \"EU Regions ranking（period：1985-2009 year）\", \"center\", ],\n",
    "    # 2: [\"reg_num_jp\", \"reg_num_eu\", \"corr between the patent amounts in Japan and EU\", \"Japan（period：1981-2010 fiscal year）\", \"EU（period：1985-2009 year）\", \"center\", ],\n",
    "    # 3: [\"reg_num_jp\", \"TCI_jp\", \"relation between the patent counts and the TCIs in Japan\", \"Patent Counts\", \"TCIs\", \"center left\", ],\n",
    "    4: [\"TCI_jp\", \"reg_num_jp\", \"relation between the patent counts and the TCIs in Japan\", \"TCIs\", \"Patent Counts\", \"center left\", ],\n",
    "    # 5: [\"reg_num_eu\", \"TCI_eu\", \"corr between the patent amounts in EU and TCI in EU\", \"EU（period：1985-2009 year）\", \"EU（period：1985-2009 year）\", \"center\", ],\n",
    "    # 2: [\"TCI_eu\", \"TCI_jp\", \"corr between the TCIs in Japan and EU\", \"EU（period：1985-2009 year）\", \"Japan（period：1981-2010 fiscal year）\", \"center\", ],\n",
    "}\n",
    "plt.rcParams['font.size'] = 24\n",
    "plt.rcParams['font.family'] = 'Meiryo'\n",
    "for i, combi in combi_dict.items():\n",
    "    fig, ax = plt.subplots(figsize=(8, 8))\n",
    "    period = f\"{year_start}-{year_end}\"\n",
    "    corr_num = round(eu_jp_df[combi[0]].corr(eu_jp_df[combi[1]]), 3)\n",
    "    print(period, corr_num)\n",
    "    # ax.scatter(eu_jp_df[combi[0]], eu_jp_df[combi[1]],\n",
    "    #            s=20, alpha=0.8, color=\"black\", )\n",
    "    # if i == 4:\n",
    "    ax.axvline(x=eu_jp_df[combi[0]].mean(), color=\"gray\", linestyle=\"--\", )\n",
    "    ax.axhline(y=eu_jp_df[combi[1]].mean(), color=\"gray\", linestyle=\"--\", )\n",
    "    ax.set_title(combi[2]+'(corr=' + r\"$\\bf{\" + str(corr_num)+ \"}$\" +')\\n')\n",
    "    if combi[0] in [\"reg_num\"]: ax.set_xscale(\"log\")\n",
    "    if combi[1] in [\"reg_num\"]: ax.set_yscale(\"log\")\n",
    "    x_min = eu_jp_df[combi[0]].min()\n",
    "    x_2smallest = (eu_jp_df[combi[0]].nsmallest(2).iloc[1])\n",
    "    y_2smallest = (eu_jp_df[combi[1]].nsmallest(2).iloc[1])\n",
    "    head_df = eu_jp_df.head(5)\n",
    "    between_df = eu_jp_df.iloc[5:len(eu_jp_df)-5, :]\n",
    "    tail_df = eu_jp_df.tail(5)\n",
    "    if i != 5:\n",
    "        # display(eu_jp_df)\n",
    "        # for i, row in head_df.iterrows():\n",
    "        #     ax.text(row[combi[0]], row[combi[1]], f'{i+1} {row[\"schmoch35\"]}', fontsize=18, color=\"red\")\n",
    "        #     ax.scatter(row[combi[0]], row[combi[1]], s=20, color=\"red\")\n",
    "        # for i, row in between_df.iterrows():\n",
    "        #     ax.text(row[combi[0]], row[combi[1]], f'{i+1} {row[\"schmoch35\"]}', fontsize=15, color=\"black\")\n",
    "        #     ax.scatter(row[combi[0]], row[combi[1]], s=20, color=\"black\")\n",
    "        # for i, row in tail_df.iterrows():\n",
    "        #     ax.text(row[combi[0]], row[combi[1]], f'{i+1} {row[\"schmoch35\"]}', fontsize=18, color=\"blue\", )\n",
    "        #     ax.scatter(row[combi[0]], row[combi[1]], s=20, color=\"blue\")\n",
    "        # for i, row in head_df.iterrows():\n",
    "        #     ax.text(row[combi[0]], row[combi[1]], f'{i+1} {row[\"schmoch35\"]}', fontsize=18, color=\"red\")\n",
    "            \n",
    "            # if i == 4: ax.scatter(row[combi[0]], row[combi[1]], s=40, color=tech_color[row['schmoch5']], label=row['schmoch5'])\n",
    "            # else: ax.scatter(row[combi[0]], row[combi[1]], s=40, color=tech_color[row['schmoch5']])\n",
    "        # for i, row in between_df.iterrows():\n",
    "        #     # ax.text(row[combi[0]], row[combi[1]], i+1, fontsize=15, color=\"black\")\n",
    "        #     if i == 7: ax.scatter(row[combi[0]], row[combi[1]], s=40, color=tech_color[row['schmoch5']], label=row['schmoch5'])\n",
    "        #     else: ax.scatter(row[combi[0]], row[combi[1]], s=40, color=tech_color[row['schmoch5']])\n",
    "            \n",
    "        # for i, row in tail_df.iterrows():\n",
    "        #     # ax.text(row[combi[0]], row[combi[1]], i+1, fontsize=18, color=\"blue\")\n",
    "        #     ax.scatter(row[combi[0]], row[combi[1]], s=40, color=\"blue\", label=f'{i+1} {row[\"schmoch35\"]}')\n",
    "        for tech_color_key in tech_color.keys():\n",
    "            ax.scatter(eu_jp_df[eu_jp_df['schmoch5']==tech_color_key][combi[0]], eu_jp_df[eu_jp_df['schmoch5']==tech_color_key][combi[1]], \n",
    "                       color=tech_color[tech_color_key], label=tech_color_key, \n",
    "                       s=60)\n",
    "        # for ind, row in head_df.iterrows():\n",
    "        #     if ind == 1: ax.text(row[combi[0]]+1, row[combi[1]]-2, f'\\n{ind+1} {row[\"schmoch35\"]}', fontsize=20, color=tech_color[row['schmoch5']])\n",
    "        #     else: ax.text(row[combi[0]]+1, row[combi[1]]-1, f'{ind+1} {row[\"schmoch35\"]}', fontsize=20, color=tech_color[row['schmoch5']])\n",
    "    # elif i == 2:\n",
    "    #     for i, row in head_df.iterrows():\n",
    "    #         ax.text(row[combi[0]], row[combi[1]], i+1, fontsize=18, color=\"red\")\n",
    "    #         ax.scatter(row[combi[0]], row[combi[1]], s=20, color=\"red\")\n",
    "    #     for i, row in between_df.iterrows():\n",
    "    #         ax.text(row[combi[0]], row[combi[1]], i+1, fontsize=15, color=\"black\")\n",
    "    #         ax.scatter(row[combi[0]], row[combi[1]], s=20, color=\"black\")\n",
    "    #     for i, row in tail_df.iterrows():\n",
    "    #         ax.text(row[combi[0]], row[combi[1]], i+1, fontsize=18, color=\"blue\", )\n",
    "    #         ax.scatter(row[combi[0]], row[combi[1]], s=20, color=\"blue\")\n",
    "    ax.set_ylabel(combi[4])\n",
    "    ax.set_xlabel(combi[3])\n",
    "    # ax.set_xscale('log')\n",
    "    ax.legend(loc=combi[5], fontsize=20, bbox_to_anchor=(1.55, 0.5), borderaxespad=0)\n",
    "    plt.show()\n"
   ]
  },
  {
   "cell_type": "code",
   "execution_count": null,
   "metadata": {},
   "outputs": [],
   "source": [
    "sample_df = eu_jp_df.copy()\n",
    "sample_df_dict = {\n",
    "    \"0\": sample_df.melt(id_vars=[classification], value_vars=[\"TCI_jp\", \"TCI_eu\"]).sort_values(\n",
    "        [\"variable\", \"value\"], ascending=[False, False])\n",
    "}\n",
    "sample_df_dict['0']\n"
   ]
  },
  {
   "cell_type": "code",
   "execution_count": null,
   "metadata": {},
   "outputs": [],
   "source": [
    "sample_df = eu_jp_df.copy()\n",
    "sample_melt_df = sample_df.melt(id_vars=[classification], value_vars=[\"reg_num_jp\", \"reg_num_eu\"]).sort_values(\n",
    "        [\"variable\", \"value\"], ascending=[False, False])\n",
    "sample_df_dict = {\n",
    "    \"0\": sample_melt_df[sample_melt_df['variable']=='reg_num_jp'], \n",
    "    \"1\": sample_melt_df[sample_melt_df['variable']=='reg_num_eu'],\n",
    "}\n",
    "\n",
    "\n",
    "\n",
    "fs = (30, 30)\n",
    "\n",
    "sample = vr.rank_doubleaxis(\n",
    "    sample_df_dict,\n",
    "    rank_num=33,\n",
    "    member_col=classification,\n",
    "    value_col=\"value\",\n",
    "    prop_dict={\n",
    "        \"figsize\": fs,\n",
    "        \"xlabel\": \"\",\n",
    "        \"ylabel\": \"\",\n",
    "        \"title\": \"\",\n",
    "        \"fontsize\": 40,\n",
    "        \"year_range\": 1,\n",
    "        \"ascending\": False,\n",
    "        # 'color': color_dict\n",
    "        \"color\": \"default\",\n",
    "    },\n",
    ")\n",
    "plt.title(\"Japan vs EU patent amount\", fontsize=40)\n",
    "plt.xticks(range(0, 2), ['Japan', 'EU'], rotation=90)"
   ]
  },
  {
   "cell_type": "code",
   "execution_count": null,
   "metadata": {},
   "outputs": [],
   "source": [
    "sample_df = eu_jp_df.copy()\n",
    "sample_melt_df = sample_df.melt(id_vars=[classification], value_vars=[\"TCI_jp\", \"TCI_eu\"]).sort_values(\n",
    "        [\"variable\", \"value\"], ascending=[False, False])\n",
    "sample_df_dict = {\n",
    "    \"0\": sample_melt_df[sample_melt_df['variable']=='TCI_jp'], \n",
    "    \"1\": sample_melt_df[sample_melt_df['variable']=='TCI_eu'],\n",
    "}\n",
    "\n",
    "fs = (30, 30)\n",
    "\n",
    "sample = vr.rank_doubleaxis(\n",
    "    sample_df_dict,\n",
    "    rank_num=33,\n",
    "    member_col=classification,\n",
    "    value_col=\"value\",\n",
    "    prop_dict={\n",
    "        \"figsize\": fs,\n",
    "        \"xlabel\": \"\",\n",
    "        \"ylabel\": \"\",\n",
    "        \"title\": \"\",\n",
    "        \"fontsize\": 40,\n",
    "        \"year_range\": 1,\n",
    "        \"ascending\": False,\n",
    "        # 'color': color_dict\n",
    "        \"color\": \"default\",\n",
    "    },\n",
    ")\n",
    "plt.title(\"Japan vs EU TCI\", fontsize=40)\n",
    "\n",
    "plt.xticks(range(0, 2), ['Japan', 'EU'], rotation=90)"
   ]
  },
  {
   "cell_type": "code",
   "execution_count": null,
   "metadata": {},
   "outputs": [],
   "source": [
    "import matplotlib.pyplot as plt\n",
    "import pandas as pd\n",
    "import seaborn as sns\n",
    "import squarify\n",
    "\n",
    "sns.set_style('darkgrid')\n",
    "df_2col = df[df[f'{ar}_{year_style}_period'] == f'{year_start}-{year_end}'][\n",
    "    ['schmoch35', 'reg_num']\n",
    "].sort_values('reg_num', ascending=False)\n",
    "# df_raw = pd.read_csv('https://github.com/selva86/datasets/raw/master/import squarify.csv')\n",
    "\n",
    "# df_raw = pd.read_csv('https://github.com/selva86/datasets/raw/master/mpg_ggplot2.csv')\n",
    "# display(df_raw)\n",
    "# display(df_raw.groupby('class').size().reset_index(name='counts'))\n",
    "labels = df_2col.apply(lambda x: str(x[0]) + '\\n (' + str(round(x[1], 1)) + ')', axis=1)\n",
    "sizes = df_2col['reg_num'].values.tolist()\n",
    "colors = [plt.cm.Spectral(i / float(len(labels))) for i in range(len(labels))]\n",
    "# colors = color_list\n",
    "# display(sizes)\n",
    "plt.figure(figsize=(40, 30), dpi=120)\n",
    "squarify.plot(sizes=sizes, label=labels, color=colors, alpha=0.8)\n",
    "\n",
    "plt.title('Treemap of Vechile Class')\n",
    "plt.axis('off')\n",
    "plt.show()"
   ]
  }
 ],
 "metadata": {
  "kernelspec": {
   "display_name": "economic_complexity",
   "language": "python",
   "name": "python3"
  },
  "language_info": {
   "codemirror_mode": {
    "name": "ipython",
    "version": 3
   },
   "file_extension": ".py",
   "mimetype": "text/x-python",
   "name": "python",
   "nbconvert_exporter": "python",
   "pygments_lexer": "ipython3",
   "version": "3.11.7"
  }
 },
 "nbformat": 4,
 "nbformat_minor": 2
}
