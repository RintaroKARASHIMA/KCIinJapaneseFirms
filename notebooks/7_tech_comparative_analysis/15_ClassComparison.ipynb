{
 "cells": [
  {
   "cell_type": "code",
   "execution_count": null,
   "metadata": {},
   "outputs": [],
   "source": [
    "import pandas as pd\n",
    "import numpy as np\n",
    "from glob import glob\n",
    "import sys\n",
    "\n",
    "sys.path.append('../../src')\n",
    "from ecomplexity import ecomplexity\n",
    "import matplotlib.pyplot as plt\n",
    "import seaborn as sns\n",
    "import cv2\n",
    "from PIL import Image\n",
    "import io\n",
    "\n",
    "import matplotlib.ticker as ptick\n",
    "import networkx as nx\n",
    "import networkx.algorithms.bipartite as bip\n",
    "\n",
    "plt.rcParams['font.size'] = 18\n",
    "plt.rcParams['font.family'] = 'Meiryo'\n",
    "plt.rcParams['axes.axisbelow'] = True\n",
    "\n",
    "# 小数点以下 桁数 6\n",
    "pd.options.display.float_format = '{:.3f}'.format\n"
   ]
  },
  {
   "cell_type": "code",
   "execution_count": null,
   "metadata": {},
   "outputs": [],
   "source": [
    "data_dir = '../../data/processed/internal/tech_comparison/'\n",
    "\n"
   ]
  },
  {
   "cell_type": "code",
   "execution_count": null,
   "metadata": {},
   "outputs": [],
   "source": [
    "path_list = glob(data_dir+'*')\n",
    "path_list\n"
   ]
  },
  {
   "cell_type": "code",
   "execution_count": null,
   "metadata": {},
   "outputs": [],
   "source": [
    "name_df = pd.read_csv(path_list[0], \n",
    "            encoding='utf-8', \n",
    "            sep=',')\n",
    "addr_df = pd.read_csv(path_list[1], \n",
    "            encoding='utf-8', \n",
    "            sep=',')\n"
   ]
  },
  {
   "cell_type": "code",
   "execution_count": null,
   "metadata": {},
   "outputs": [],
   "source": [
    "tech_color = {\n",
    "        'Chemistry, pharmaceuticals': 'red',\n",
    "        'Electrical engineering': 'blue',\n",
    "        'Instruments': 'green', \n",
    "        'Mechanical engineering, machinery': 'orange',\n",
    "        'Other fields': 'gray'\n",
    "    }\n",
    "\n",
    "fig, (ax1, ax2) = plt.subplots(nrows=2, ncols=1, figsize=(12, 8), sharex=True)\n",
    "\n",
    "ax1.scatter(name_df['schmoch35'], name_df['schmoch35_tci'], color='tab:blue', label='Schmoch（N=35）')\n",
    "ax1.scatter(name_df['schmoch35'], name_df['ipc3_tci'], color='red', alpha=0.5, label='IPC Sub-Class（N=127）')\n",
    "ax1.set_ylabel('Corporate', fontsize=24, fontweight='bold')\n",
    "ax1.grid(True, linestyle='--', which='major', axis='x')\n",
    "\n",
    "ax2.xaxis.set_major_locator(MultipleLocator(1))\n",
    "ax.yaxis.set_major_locator(FixedLocator(first_top_sources['rank'].to_list()))\n",
    "    \n",
    "# ax.yaxis.set_major_formatter(\n",
    "#     FixedFormatter(\n",
    "#         [name_conv_dict[name] for name in first_top_sources[member_col].to_list()]\n",
    "#     )\n",
    "# )\n",
    "ax2.yaxis.set_major_formatter(\n",
    "    FixedFormatter(\n",
    "        first_top_sources[member_col].to_list()\n",
    "    )\n",
    ")\n",
    "\n",
    "ax2.scatter(addr_df['schmoch35'], addr_df['schmoch35_tci'], color='tab:blue', label='Schmoch（N=35）')\n",
    "ax2.scatter(addr_df['schmoch35'], addr_df['ipc3_tci'], color='red', alpha=0.5, label='IPC Sub-Class（N=127）')\n",
    "ax2.set_ylabel('Regional', fontsize=24, fontweight='bold')\n",
    "\n",
    "ax2.grid(True, linestyle='--', which='major', axis='x')\n",
    "\n",
    "ax2.set_xticklabels(name_df['schmoch35'].drop_duplicates(), rotation=90)\n",
    "ax2.set_xlabel('Schmoch', fontsize=24, fontweight='bold')\n",
    "\n",
    "\n",
    "# ax.set_xscale('log')\n",
    "# ax.legend(loc='center left', fontsize=20, bbox_to_anchor=(1.5, 0.5), borderaxespad=0, prop={'weight': 'bold'})\n",
    "# ax.legend(loc='lower left', fontsize=20, prop={'weight': 'bold'})\n",
    "\n",
    "plt.show()\n"
   ]
  },
  {
   "cell_type": "code",
   "execution_count": null,
   "metadata": {},
   "outputs": [],
   "source": [
    "# First create some toy data:\n",
    "x = np.linspace(0, 2*np.pi, 400)\n",
    "y = np.sin(x**2)\n",
    "\n",
    "\n",
    "\n",
    "# Create four polar Axes and access them through the returned array\n",
    "fig, axs = plt.subplots(2, 2, subplot_kw=dict(projection=\"polar\"))\n",
    "axs[0, 0].plot(x, y)\n",
    "axs[1, 1].scatter(x, y)\n"
   ]
  }
 ],
 "metadata": {
  "kernelspec": {
   "display_name": "economic_complexity",
   "language": "python",
   "name": "python3"
  },
  "language_info": {
   "codemirror_mode": {
    "name": "ipython",
    "version": 3
   },
   "file_extension": ".py",
   "mimetype": "text/x-python",
   "name": "python",
   "nbconvert_exporter": "python",
   "pygments_lexer": "ipython3",
   "version": "3.11.7"
  }
 },
 "nbformat": 4,
 "nbformat_minor": 2
}
