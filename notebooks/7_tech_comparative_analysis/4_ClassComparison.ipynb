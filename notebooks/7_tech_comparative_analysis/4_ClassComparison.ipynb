{
 "cells": [
  {
   "cell_type": "code",
   "execution_count": null,
   "metadata": {},
   "outputs": [],
   "source": [
    "import pandas as pd\n",
    "import numpy as np\n",
    "from glob import glob\n",
    "import sys\n",
    "\n",
    "sys.path.append('../../src')\n",
    "from ecomplexity import ecomplexity\n",
    "import matplotlib.pyplot as plt\n",
    "import seaborn as sns\n",
    "import cv2\n",
    "from PIL import Image\n",
    "import io\n",
    "\n",
    "import matplotlib.ticker as ptick\n",
    "from matplotlib.ticker import MultipleLocator, FixedFormatter, FixedLocator\n",
    "\n",
    "\n",
    "import networkx as nx\n",
    "import networkx.algorithms.bipartite as bip\n",
    "\n",
    "plt.rcParams['font.size'] = 18\n",
    "plt.rcParams['font.family'] = 'Meiryo'\n",
    "plt.rcParams['axes.axisbelow'] = True\n",
    "\n",
    "# 小数点以下 桁数 6\n",
    "pd.options.display.float_format = '{:.3f}'.format\n"
   ]
  },
  {
   "cell_type": "code",
   "execution_count": null,
   "metadata": {},
   "outputs": [],
   "source": [
    "import initial_condition\n",
    "from process import weight\n",
    "from visualize import rank as vr\n"
   ]
  },
  {
   "cell_type": "code",
   "execution_count": null,
   "metadata": {},
   "outputs": [],
   "source": [
    "data_dir = '../../data/processed/internal/tech_comparison/'\n",
    "\n"
   ]
  },
  {
   "cell_type": "code",
   "execution_count": null,
   "metadata": {},
   "outputs": [],
   "source": [
    "path_list = glob(data_dir+'*')\n",
    "path_list\n"
   ]
  },
  {
   "cell_type": "code",
   "execution_count": null,
   "metadata": {},
   "outputs": [],
   "source": [
    "name_df = pd.read_csv(path_list[0], \n",
    "            encoding='utf-8', \n",
    "            sep=',')\n",
    "addr_df = pd.read_csv(path_list[1], \n",
    "            encoding='utf-8', \n",
    "            sep=',')\n",
    "display(name_df.head())\n"
   ]
  },
  {
   "cell_type": "code",
   "execution_count": null,
   "metadata": {},
   "outputs": [],
   "source": [
    "name_df[name_df['schmoch5'].str.contains('pharmaceuticals')].drop_duplicates(subset='ipc3', ignore_index=True)"
   ]
  },
  {
   "cell_type": "code",
   "execution_count": null,
   "metadata": {},
   "outputs": [],
   "source": [
    "output_dir = '../../output/figures/tech_comparison/'\n"
   ]
  },
  {
   "cell_type": "code",
   "execution_count": null,
   "metadata": {},
   "outputs": [],
   "source": [
    "print(*name_df.query('schmoch35 == \"Basic materials chemistry\"')['ipc3'].values, sep=', ')"
   ]
  },
  {
   "cell_type": "code",
   "execution_count": null,
   "metadata": {},
   "outputs": [],
   "source": [
    "name_df['ipc3'].nunique()"
   ]
  },
  {
   "cell_type": "code",
   "execution_count": null,
   "metadata": {},
   "outputs": [],
   "source": [
    "tech_color = {\n",
    "        'Chemistry, pharmaceuticals': 'tab:red',\n",
    "        'Electrical engineering': 'tab:blue',\n",
    "        'Instruments': 'tab:green', \n",
    "        'Mechanical engineering, machinery': 'tab:orange',\n",
    "        'Other fields': 'tab:gray'\n",
    "    }\n",
    "\n",
    "fig, (ax1, ax2) = plt.subplots(nrows=2, ncols=1, figsize=(12, 8), sharex=True)\n",
    "\n",
    "ax1.scatter(name_df['schmoch35'], name_df['schmoch35_tci'], color='tab:blue', label='Schmoch（N=35）')\n",
    "ax1.scatter(name_df['schmoch35'], name_df['ipc3_tci'], color='red', alpha=0.6, label='IPC Class（N=124）')\n",
    "ax2.set_ylabel('TCI in Regions', fontsize=24, fontweight='bold')\n",
    "ax2.grid(True, linestyle='--', which='major', axis='x')\n",
    "# ax2.legend(loc='upper left', fontsize=15, prop={'weight': 'bold'},bbox_to_anchor=(1.05, 0.5), borderaxespad=0)\n",
    "ax1.legend(loc='upper left', fontsize=15, prop={'weight': 'bold'},bbox_to_anchor=(-0.55, 0.5), borderaxespad=0)\n",
    "# ax2.text(1.125, 0.75, 'Corporate', fontsize=32, fontweight='bold', transform=ax2.transAxes)\n",
    "# ax2.xaxis.set_major_locator(MultipleLocator(1))\n",
    "# ax2.xaxis.set_major_locator(FixedLocator(name_df['schmoch35'].index.to_list()))\n",
    "    \n",
    "# ax.yaxis.set_major_formatter(\n",
    "#     FixedFormatter(\n",
    "#         [name_conv_dict[name] for name in first_top_sources[member_col].to_list()]\n",
    "#     )\n",
    "# )\n",
    "# ax2.xaxis.set_major_formatter(\n",
    "#     FixedFormatter(\n",
    "#         name_df['schmoch35'].to_list()\n",
    "#     )\n",
    "# )\n",
    "ax2.scatter(addr_df['schmoch35'], addr_df['schmoch35_tci'], color='tab:green', label='Schmoch（N=35）')\n",
    "ax2.scatter(addr_df['schmoch35'], addr_df['ipc3_tci'], color='tab:orange', alpha=0.6, label='IPC Class（N=124）')\n",
    "ax1.set_ylabel('TCI in Corporations', fontsize=24, fontweight='bold')\n",
    "ax1.set_yticklabels([int(_) for _ in ax1.get_yticks()], rotation=90)\n",
    "ax1.grid(True, linestyle='--', which='major', axis='x')\n",
    "# ax1.legend(loc='upper left', fontsize=15, prop={'weight': 'bold'},bbox_to_anchor=(1.05, 0.5), borderaxespad=0)\n",
    "ax2.legend(loc='upper left', fontsize=15, prop={'weight': 'bold'},bbox_to_anchor=(-0.55, 0.5), borderaxespad=0)\n",
    "\n",
    "# ax1.text(1.1375, 0.75, 'Regional', fontsize=32, fontweight='bold', transform=ax2.transAxes)\n",
    "\n",
    "ax2.set_xticklabels(name_df['schmoch35'].drop_duplicates(), rotation=90)\n",
    "ax2.set_xlabel('Schmoch', fontsize=24, fontweight='bold', rotation=180)\n",
    "ax2.set_yticks(range(0, 100+1, 25), range(0, 100+1, 25))\n",
    "ax2.set_yticklabels([_ for _ in range(0, 100+1, 25)], rotation=90)\n",
    "\n",
    "\n",
    "\n",
    "# ax.set_xscale('log')\n",
    "# ax.legend(loc='center left', fontsize=20, bbox_to_anchor=(1.5, 0.5), borderaxespad=0, prop={'weight': 'bold'})\n",
    "# ax.legend(loc='lower left', fontsize=20, prop={'weight': 'bold'})\n",
    "fig.savefig(output_dir+'schmoch35_ipc3.png', dpi=400, bbox_inches='tight')\n",
    "plt.show()\n"
   ]
  },
  {
   "cell_type": "code",
   "execution_count": null,
   "metadata": {},
   "outputs": [],
   "source": [
    "import numpy as np\n",
    "from scipy.stats import wilcoxon\n",
    "\n",
    "# データセットの例\n",
    "# pre_training = np.array([10.0, 8.5, 7.0, 9.5, 6.5, 7.5])\n",
    "# post_training = np.array([9.0, 8.0, 9.0, 7.0, 6.5, 7.0])\n",
    "name_df['tci_abs'] = abs(name_df['schmoch35_tci'] - name_df['ipc3_tci'])\n",
    "addr_df['tci_abs'] = abs(addr_df['schmoch35_tci'] - addr_df['ipc3_tci'])\n",
    "name_df['schmoch35-ipc3'] = name_df['schmoch35'] + '-' + name_df['ipc3']\n",
    "addr_df['schmoch35-ipc3'] = addr_df['schmoch35'] + '-' + addr_df['ipc3']\n",
    "name_addr_df = pd.merge(name_df[['schmoch35-ipc3', 'tci_abs']].rename(columns={'tci_abs':'tci_abs_name'}), addr_df[['schmoch35-ipc3', 'tci_abs']].rename(columns={'tci_abs':'tci_abs_addr'}), on='schmoch35-ipc3', how='inner')\n",
    "statistic, p_value = wilcoxon(name_addr_df['tci_abs_name'], name_addr_df['tci_abs_addr'])\n",
    "print(statistic, p_value)"
   ]
  },
  {
   "cell_type": "code",
   "execution_count": null,
   "metadata": {},
   "outputs": [],
   "source": [
    "len(name_df)"
   ]
  },
  {
   "cell_type": "code",
   "execution_count": null,
   "metadata": {},
   "outputs": [],
   "source": [
    "name_df['tci_abs'].mean(), addr_df['tci_abs'].mean()\n",
    "name_df['tci_abs'].std(), addr_df['tci_abs'].std()\n",
    "name_addr_df['tci_abs_name'].plot(kind='hist', bins=int(np.log2(len(name_addr_df))+1), alpha=1, label='Corporate')\n",
    "name_addr_df['tci_abs_addr'].plot(kind='hist', bins=int(np.log2(len(name_addr_df))+1), alpha=0.8, label='Regional')\n",
    "plt.xlabel('Absolute difference of TCI\\n(IPC Class - Schmoch)', fontsize=24, fontweight='bold')\n",
    "plt.ylabel('Frequency', fontsize=24)\n",
    "plt.legend(fontsize=20, prop={'weight': 'bold'})"
   ]
  },
  {
   "cell_type": "code",
   "execution_count": null,
   "metadata": {},
   "outputs": [],
   "source": [
    "bubble_df = name_df.drop_duplicates('schmoch35', ignore_index=True)[['schmoch35', 'schmoch5', 'schmoch35_tci']].sort_values('schmoch35_tci', ascending=True)\n",
    "plt.figure(figsize=(2, 20))\n",
    "plt.scatter([1]*35, bubble_df['schmoch35'], alpha=0.5)"
   ]
  },
  {
   "cell_type": "code",
   "execution_count": null,
   "metadata": {},
   "outputs": [],
   "source": []
  },
  {
   "cell_type": "code",
   "execution_count": null,
   "metadata": {},
   "outputs": [],
   "source": [
    "print(name_df.drop_duplicates(subset='schmoch35')['schmoch35_tci'].mean())\n",
    "print(name_df.drop_duplicates(subset='schmoch35')['schmoch35_tci'].std())\n",
    "print(addr_df.drop_duplicates(subset='schmoch35')['schmoch35_tci'].mean())\n",
    "print(addr_df.drop_duplicates(subset='schmoch35')['schmoch35_tci'].std())\n",
    "print('***************************')\n",
    "print(name_df.drop_duplicates(subset='ipc3')['ipc3_tci'].mean())\n",
    "print(name_df.drop_duplicates(subset='ipc3')['ipc3_tci'].std())\n",
    "print(addr_df.drop_duplicates(subset='ipc3')['ipc3_tci'].mean())\n",
    "print(addr_df.drop_duplicates(subset='ipc3')['ipc3_tci'].std())\n",
    "# name_df.drop_duplicates(subset='schmoch35')['schmoch35_tci'].count()"
   ]
  },
  {
   "cell_type": "code",
   "execution_count": null,
   "metadata": {},
   "outputs": [],
   "source": [
    "plt.title('法人-技術で求めたTCI')\n",
    "name_df.drop_duplicates(subset='schmoch35')['schmoch35_tci'].plot(kind='hist', bins=7, alpha=0.5, label='Schmoch35')\n",
    "name_df.drop_duplicates(subset='ipc3')['ipc3_tci'].plot(kind='hist', bins=7, alpha=0.5, label='IPC(N=124)')\n",
    "plt.legend()\n",
    "plt.show()\n",
    "plt.title('都市-技術で求めたTCI')\n",
    "addr_df.drop_duplicates(subset='schmoch35')['schmoch35_tci'].plot(kind='hist', bins=7, alpha=0.5, label='Schmoch35')\n",
    "addr_df.drop_duplicates(subset='ipc3')['ipc3_tci'].plot(kind='hist', bins=7, alpha=0.5, label='IPC(N=124)')\n",
    "plt.legend()\n",
    "plt.show()"
   ]
  },
  {
   "cell_type": "code",
   "execution_count": null,
   "metadata": {},
   "outputs": [],
   "source": [
    "plt.scatter([0]*35, name_df.drop_duplicates(subset='schmoch35')['schmoch35_tci'], alpha=0.5)\n",
    "# plt.show()\n",
    "plt.scatter([1]*124, name_df.drop_duplicates(subset='ipc3')['ipc3_tci'], alpha=0.5)\n",
    "# plt.scatter([0]*35, name_df.drop_duplicates(subset='schmoch35')['schmoch35_tci'])\n",
    "# plt.scatter([0]*35, name_df.drop_duplicates(subset='schmoch35')['schmoch35_tci'])"
   ]
  },
  {
   "cell_type": "code",
   "execution_count": null,
   "metadata": {},
   "outputs": [],
   "source": [
    "print(sum(((name_df['schmoch35_tci']-name_df['ipc3_tci'])**2)))\n",
    "print(sum(((addr_df['schmoch35_tci']-addr_df['ipc3_tci'])**2)))\n",
    "print(sum(np.sqrt((name_df['schmoch35_tci']-name_df['ipc3_tci'])**2)))\n",
    "print(sum(np.sqrt((addr_df['schmoch35_tci']-addr_df['ipc3_tci'])**2)))"
   ]
  },
  {
   "cell_type": "code",
   "execution_count": null,
   "metadata": {},
   "outputs": [],
   "source": [
    "import pandas as pd\n",
    "import numpy as np\n",
    "import statsmodels.api as sm\n",
    "import matplotlib.pyplot as plt\n",
    "\n",
    "# サンプルデータの生成\n",
    "np.random.seed(0)\n",
    "data_corporate = pd.DataFrame({\n",
    "    'Schmoch_TCI': np.random.normal(50, 10, 35),\n",
    "    'IPC_TCI': np.random.normal(50, 20, 35)\n",
    "})\n",
    "\n",
    "data_city = pd.DataFrame({\n",
    "    'Schmoch_TCI': np.random.normal(50, 15, 35),\n",
    "    'IPC_TCI': np.random.normal(50, 25, 35)\n",
    "})\n",
    "\n",
    "# 法人レベルのデータでの回帰分析\n",
    "X_corporate = sm.add_constant(name_df['schmoch35_tci'])  # 独立変数\n",
    "y_corporate = name_df['ipc3_tci']  # 従属変数\n",
    "model_corporate = sm.OLS(y_corporate, X_corporate).fit()\n",
    "\n",
    "# 都市レベルのデータでの回帰分析\n",
    "X_city = sm.add_constant(addr_df['schmoch35_tci'])\n",
    "y_city = addr_df['ipc3_tci']\n",
    "model_city = sm.OLS(y_city, X_city).fit()\n",
    "\n",
    "# 結果の出力\n",
    "print(\"法人レベルの回帰モデルの結果:\")\n",
    "print(model_corporate.summary())\n",
    "print(\"\\n都市レベルの回帰モデルの結果:\")\n",
    "print(model_city.summary())\n",
    "\n",
    "# 残差プロット\n",
    "plt.figure(figsize=(12, 6))\n",
    "plt.subplot(1, 2, 1)\n",
    "plt.scatter(name_df['schmoch35_tci'], model_corporate.resid)\n",
    "plt.title('法人レベルの残差プロット')\n",
    "plt.xlabel('Schmoch TCI')\n",
    "plt.ylabel('Residuals')\n",
    "\n",
    "plt.subplot(1, 2, 2)\n",
    "plt.scatter(addr_df['schmoch35_tci'], model_city.resid, color='tab:green')\n",
    "plt.title('都市レベルの残差プロット')\n",
    "plt.xlabel('Schmoch TCI')\n",
    "plt.ylabel('Residuals')\n",
    "\n",
    "plt.tight_layout()\n",
    "plt.show()\n"
   ]
  },
  {
   "cell_type": "code",
   "execution_count": null,
   "metadata": {},
   "outputs": [],
   "source": [
    "\n",
    "print(name_df['schmoch35_tci'].corr(name_df['ipc3_tci']))\n",
    "print(addr_df['schmoch35_tci'].corr(addr_df['ipc3_tci']))\n",
    "name_corr = name_df['schmoch35_tci'].corr(name_df['ipc3_tci'])\n",
    "addr_corr = addr_df['schmoch35_tci'].corr(addr_df['ipc3_tci'])\n",
    "\n",
    "plt.figure(figsize=(12, 6))\n",
    "plt.subplot(1, 2, 1)\n",
    "plt.scatter(name_df['schmoch35_tci'], name_df['ipc3_tci'], color='tab:blue', label='Schmoch（N=35）')\n",
    "plt.title(f'法人レベルの相関分析(corr={name_corr:.3f})')\n",
    "plt.xlabel('Schmoch TCI')\n",
    "plt.ylabel('IPC TCI')\n",
    "\n",
    "plt.subplot(1, 2, 2)\n",
    "plt.scatter(addr_df['schmoch35_tci'], addr_df['ipc3_tci'], color='tab:green', label='Schmoch（N=35）')\n",
    "plt.title(f'都市レベルの相関分析(corr={addr_corr:.3f})')\n",
    "plt.xlabel('Schmoch TCI')\n",
    "plt.ylabel('IPC TCI')\n",
    "\n",
    "plt.tight_layout()\n",
    "plt.show()\n"
   ]
  },
  {
   "cell_type": "code",
   "execution_count": null,
   "metadata": {},
   "outputs": [],
   "source": [
    "tech_color = {\n",
    "        'Chemistry, pharmaceuticals': 'red',\n",
    "        'Electrical engineering': 'blue',\n",
    "        'Instruments': 'green', \n",
    "        'Mechanical engineering, machinery': 'orange',\n",
    "        'Other fields': 'gray'\n",
    "    }\n",
    "\n",
    "fig, ax2 = plt.subplots(figsize=(6, 12), sharex=True)\n",
    "\n",
    "sample = name_df.drop_duplicates(subset='schmoch35', ignore_index=True).sort_values('schmoch35_tci', ascending=True)\n",
    "for tech in tech_color.keys():\n",
    "    X = np.ma.masked_where(sample['schmoch5'] != tech, \n",
    "                       sample['schmoch35_tci']).filled(np.nan).copy()\n",
    "    ax2.barh(sample['schmoch35'], X, color=tech_color[tech], label=tech)\n",
    "# ax2.barh(name_df['schmoch35'][::-1], name_df['schmoch35_tci'][::-1], color='red', label='IPC Class（N=127）')\n",
    "# ax2.scatter(name_df['schmoch35'], name_df['ipc3_tci'], color='red', alpha=0.5, label='IPC Class（N=127）')\n",
    "ax2.set_xlabel('TCI', fontsize=24, fontweight='bold')\n",
    "# ax2.grid(True, linestyle='--', which='major', axis='y')\n",
    "# ax2.legend(loc='upper left', fontsize=15, prop={'weight': 'bold'},bbox_to_anchor=(1.05, 0.5), borderaxespad=0)\n",
    "# ax2.legend(loc='upper left', fontsize=15, prop={'weight': 'bold'},bbox_to_anchor=(-0.55, 0.5), borderaxespad=0)\n",
    "\n",
    "# ax2.set_yticklabels(name_df['schmoch35'].drop_duplicates()[::-1])\n",
    "# ax2.set_ylabel('Schmoch', fontsize=24, fontweight='bold')\n",
    "# ax2.text(1.125, 0.75, 'Corporate', fontsize=32, fontweight='bold', transform=ax2.transAxes)\n",
    "# ax2.xaxis.set_major_locator(MultipleLocator(1))\n",
    "# ax2.xaxis.set_major_locator(FixedLocator(name_df['schmoch35'].index.to_list()))\n",
    "\n",
    "# plt.show()\n"
   ]
  },
  {
   "cell_type": "code",
   "execution_count": null,
   "metadata": {},
   "outputs": [],
   "source": [
    "print(*name_df.query('schmoch35 == \"Basic materials chemistry\"')['ipc3'].values, sep=', ')"
   ]
  },
  {
   "cell_type": "code",
   "execution_count": null,
   "metadata": {},
   "outputs": [],
   "source": [
    "print(*name_df.query('schmoch35 == \"Basic materials chemistry\"')['ipc3'].values, sep=', ')"
   ]
  },
  {
   "cell_type": "code",
   "execution_count": null,
   "metadata": {},
   "outputs": [],
   "source": [
    "addr_ipc3_rank_df = addr_df[['ipc3', 'ipc3_tci']].sort_values('ipc3_tci', ascending=False).drop_duplicates(ignore_index=True)\n",
    "name_ipc3_rank_df = name_df[['ipc3', 'ipc3_tci']].sort_values('ipc3_tci', ascending=False).drop_duplicates(ignore_index=True)\n",
    "\n",
    "addr_ipc3_rank_df['rank'] = addr_ipc3_rank_df['ipc3_tci'].rank(ascending=False, method='min')\n",
    "name_ipc3_rank_df['rank'] = name_ipc3_rank_df['ipc3_tci'].rank(ascending=False, method='min')\n",
    "\n",
    "addr_name_ipc3_rank_df = pd.merge(addr_ipc3_rank_df.rename(columns={'ipc3_tci': 'ipc3_tci_addr', 'rank': 'rank_addr'}), \n",
    "                                    name_ipc3_rank_df.rename(columns={'ipc3_tci': 'ipc3_tci_name', 'rank': 'rank_name'}), \n",
    "                                    on='ipc3', how='inner')\n",
    "# pd.merge(addr_df.query('schmoch35 == \"Basic materials chemistry\"')[['ipc3', 'ipc3_tci']]\\\n",
    "#                 .rename(columns={'ipc3_tci': 'ipc3_tci_addr'}), \n",
    "#         name_df.query('schmoch35 == \"Basic materials chemistry\"')[['ipc3', 'ipc3_tci']]\\\n",
    "#                 .rename(columns={'ipc3_tci': 'ipc3_tci_name'}), \n",
    "#         on='ipc3', \n",
    "#         how='inner')"
   ]
  },
  {
   "cell_type": "code",
   "execution_count": null,
   "metadata": {},
   "outputs": [],
   "source": [
    "fig, ax = plt.subplots(figsize=(12, 8), \n",
    "                       , subplot_kw=dict(ylim=(0.5, 0.5 + 35)))\n",
    "\n",
    "first_top_sources = addr_name_ipc3_rank_df.sort_values('rank_name', ascending=True)\n",
    "ax.xaxis.set_major_locator(MultipleLocator(1))\n",
    "ax.yaxis.set_major_locator(FixedLocator(first_top_sources['rank_name'].to_list()))\n",
    "\n",
    "\n"
   ]
  },
  {
   "cell_type": "code",
   "execution_count": null,
   "metadata": {},
   "outputs": [],
   "source": [
    "addr_df.query('schmoch35 == \"Texttile and paper machines\"')"
   ]
  },
  {
   "cell_type": "code",
   "execution_count": null,
   "metadata": {},
   "outputs": [],
   "source": [
    "name_df"
   ]
  },
  {
   "cell_type": "code",
   "execution_count": null,
   "metadata": {},
   "outputs": [],
   "source": [
    "vr.rank_doubleaxis(\n",
    "    # df_dict={'Regional': addr_df.query('schmoch35 == \"Basic materials chemistry\"'), 'Corporate': name_df.query('schmoch35 == \"Basic materials chemistry\"')},\n",
    "    df_dict={\n",
    "        \"Regional\": addr_df.query('schmoch35 == \"Textile and paper machines\"'),\n",
    "        \"Corporate\": name_df.query('schmoch35 == \"Textile and paper machines\"'),\n",
    "    },\n",
    "    rank_num=len(addr_df.query('schmoch35 == \"Textile and paper machines\"')),\n",
    "    member_col=\"ipc3\",\n",
    "    value_col=\"ipc3_tci\",\n",
    "    prop_dict={\n",
    "        \"figsize\": (6, 8),\n",
    "        \"xlabel\": \"\",\n",
    "        \"ylabel\": \"\",\n",
    "        \"title\": \"\",\n",
    "        \"fontsize\": 20,\n",
    "        \"year_range\": 15,\n",
    "        \"ascending\": False,\n",
    "        \"color\": \"default\",\n",
    "    },\n",
    ")\n",
    "plt.ylabel(\"IPC Class TCI Ranking\", fontsize=24, fontweight=\"bold\")"
   ]
  }
 ],
 "metadata": {
  "kernelspec": {
   "display_name": "economic_complexity",
   "language": "python",
   "name": "python3"
  },
  "language_info": {
   "codemirror_mode": {
    "name": "ipython",
    "version": 3
   },
   "file_extension": ".py",
   "mimetype": "text/x-python",
   "name": "python",
   "nbconvert_exporter": "python",
   "pygments_lexer": "ipython3",
   "version": "3.11.7"
  }
 },
 "nbformat": 4,
 "nbformat_minor": 2
}
