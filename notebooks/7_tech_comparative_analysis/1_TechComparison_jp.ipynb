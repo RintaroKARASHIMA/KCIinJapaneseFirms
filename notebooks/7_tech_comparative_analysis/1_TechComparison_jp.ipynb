{
 "cells": [
  {
   "cell_type": "code",
   "execution_count": null,
   "metadata": {},
   "outputs": [],
   "source": [
    "import pandas as pd\n",
    "import numpy as np\n",
    "import sys\n",
    "\n",
    "sys.path.append('../../src')\n",
    "from ecomplexity import ecomplexity\n",
    "import matplotlib.pyplot as plt\n",
    "import seaborn as sns\n",
    "import cv2\n",
    "from PIL import Image\n",
    "import io\n",
    "\n",
    "import matplotlib.ticker as ptick\n",
    "import networkx as nx\n",
    "import networkx.algorithms.bipartite as bip\n",
    "\n",
    "plt.rcParams['font.family'] = 'Meiryo'\n",
    "plt.rcParams['font.size'] = 20\n",
    "\n",
    "# 小数点以下 桁数 6\n",
    "pd.options.display.float_format = '{:.3f}'.format\n"
   ]
  },
  {
   "cell_type": "code",
   "execution_count": null,
   "metadata": {},
   "outputs": [],
   "source": [
    "import initial_condition\n",
    "from process import weight\n",
    "from visualize import rank as vr"
   ]
  },
  {
   "cell_type": "code",
   "execution_count": null,
   "metadata": {},
   "outputs": [],
   "source": [
    "global data_dir, ex_dir, output_dir\n",
    "data_dir = '../../data/processed/internal/tech/'\n",
    "ex_dir = '../../data/processed/external/'\n",
    "output_dir = '../../output/figures/'"
   ]
  },
  {
   "cell_type": "code",
   "execution_count": null,
   "metadata": {},
   "outputs": [],
   "source": [
    "# 初期条件\n",
    "ar = initial_condition.AR\n",
    "year_style = initial_condition.YEAR_STYLE\n",
    "\n",
    "year_start = initial_condition.YEAR_START\n",
    "year_end = initial_condition.YEAR_END\n",
    "year_range = initial_condition.YEAR_RANGE\n",
    "\n",
    "extract_population = initial_condition.EXTRACT_POPULATION\n",
    "\n",
    "top_p_or_num = {'right_person_name': ('p', 3), 'right_person_addr': ('p', 100)}\n",
    "# region_corporation = initial_condition.REGION_CORPORATION\n",
    "\n",
    "applicant_weight = initial_condition.APPLICANT_WEIGHT\n",
    "\n",
    "classification = initial_condition.CLASSIFICATION\n",
    "class_weight = initial_condition.CLASS_WEIGHT\n",
    "\n",
    "color_list = initial_condition.COLOR_LIST\n",
    "\n",
    "\n",
    "input_condition_dict = {region_corporation:f'{ar}_{year_style}_{extract_population}_{top_p_or_num[region_corporation][0]}_{top_p_or_num[region_corporation][1]}_{region_corporation}_{applicant_weight}_{classification}_{class_weight}' \n",
    "                        for region_corporation in ['right_person_name', 'right_person_addr']}\n",
    "fig_name_base_dict = {region_corporation:f'{ar}_{year_style}_{extract_population}_{top_p_or_num[region_corporation][0]}_{top_p_or_num[region_corporation][1]}_{region_corporation}_{applicant_weight}_{classification}_{class_weight}.png'\n",
    "                      for region_corporation in ['right_person_name', 'right_person_addr']}\n"
   ]
  },
  {
   "cell_type": "code",
   "execution_count": null,
   "metadata": {},
   "outputs": [],
   "source": [
    "period_order_dict = {\n",
    "    f'{period_start}-{period_start+year_range-1}': i\n",
    "    for i, period_start in enumerate(range(year_start, year_end + 1, year_range))\n",
    "}\n",
    "\n",
    "period_order_dict[f'{year_start}-{year_end}'] = len(period_order_dict)\n",
    "period_order_dict"
   ]
  },
  {
   "cell_type": "code",
   "execution_count": null,
   "metadata": {},
   "outputs": [],
   "source": [
    "dfs_dict = {}\n",
    "for region_corporation, input_condition in input_condition_dict.items():\n",
    "    df = pd.read_csv(data_dir + f'{input_condition}.csv', encoding='utf-8',\n",
    "                    sep=',')\n",
    "    dfs_dict[region_corporation] = df\n",
    "\n"
   ]
  },
  {
   "cell_type": "code",
   "execution_count": null,
   "metadata": {},
   "outputs": [],
   "source": [
    "s = pd.read_csv('C:/Users/rin/Desktop/KCIinJapaneseFirms/data/processed/internal/graph/app_nendo_all_p_100_right_person_addr_fraction_schmoch35_fraction.csv')\n",
    "s[(s[f'{ar}_{year_style}_period']==f'{year_start}-{year_end}')&(s[classification]=='Civil engineering')]"
   ]
  },
  {
   "cell_type": "code",
   "execution_count": null,
   "metadata": {},
   "outputs": [],
   "source": [
    "a = dfs_dict['right_person_addr'][dfs_dict['right_person_addr'][f'{ar}_{year_style}_period']==f'{year_start}-{year_end}'][[classification, 'right_person_addr']].drop_duplicates().sort_values('right_person_addr', ascending=False)\n",
    "b = dfs_dict['right_person_addr'][dfs_dict['right_person_addr'][f'{ar}_{year_style}_period']==f'{year_start}-{year_end}'][[classification, 'ubiquity', 'tci']].drop_duplicates().sort_values('tci', ascending=False)\n",
    "c = pd.merge(a, b, on=[classification], how='inner').sort_values(['tci'], ascending=[False])\n",
    "c['decrease_rate'] = 1 - (c['ubiquity'] / c['right_person_addr'])\n",
    "c"
   ]
  },
  {
   "cell_type": "code",
   "execution_count": null,
   "metadata": {},
   "outputs": [],
   "source": [
    "eu_df = pd.read_csv(f'{ex_dir}abroad/eu.csv', \n",
    "                    encoding='utf-8', \n",
    "                    sep=',')\n",
    "eu_df"
   ]
  },
  {
   "cell_type": "code",
   "execution_count": null,
   "metadata": {},
   "outputs": [],
   "source": [
    "name_addr_df = pd.merge(dfs_dict['right_person_name'][[f'{ar}_{year_style}_period', classification, 'tci']]\\\n",
    "                            .rename(columns={'tci': 'tci_name'}), \n",
    "                        dfs_dict['right_person_addr'][[f'{ar}_{year_style}_period', classification, 'tci']]\\\n",
    "                            .rename(columns={'tci': 'tci_addr'}),\n",
    "                        on=[f'{ar}_{year_style}_period', classification], how='inner')\n",
    "name_addr_df = name_addr_df[name_addr_df[f'{ar}_{year_style}_period'] == f'{year_start}-{year_end}']\\\n",
    "                           .sort_values(by='tci_name', ascending=False).reset_index(drop=True)\n",
    "name_addr_df = pd.merge(name_addr_df, eu_df[['schmoch35', 'schmoch5']], on='schmoch35', how='inner')\n",
    "name_addr_df['schmoch5'] = name_addr_df['schmoch5'].replace('Mechanical engineering', 'Mechanical engineering, machinery')\n",
    "name_addr_df['schmoch5'] = name_addr_df['schmoch5'].replace('Chemistry', 'Chemistry, pharmaceuticals')\n",
    "name_addr_df['tci_name'] = (name_addr_df['tci_name'] - name_addr_df['tci_name'].min()) / (name_addr_df['tci_name'].max() - name_addr_df['tci_name'].min()) * 100\n",
    "name_addr_df['tci_addr'] = (name_addr_df['tci_addr'] - name_addr_df['tci_addr'].min()) / (name_addr_df['tci_addr'].max() - name_addr_df['tci_addr'].min()) * 100\n"
   ]
  },
  {
   "cell_type": "code",
   "execution_count": null,
   "metadata": {},
   "outputs": [],
   "source": [
    "name_addr_df.sort_values(by='tci_addr', ascending=False)\n"
   ]
  },
  {
   "cell_type": "code",
   "execution_count": null,
   "metadata": {},
   "outputs": [],
   "source": [
    "df_dict = {}\n",
    "tech_color = {\n",
    "        'Chemistry, pharmaceuticals': 'red',\n",
    "        'Electrical engineering': 'blue',\n",
    "        'Instruments': 'green', \n",
    "        'Mechanical engineering, machinery': 'orange',\n",
    "        'Other fields': 'gray'\n",
    "    }\n",
    "combi_dict = {  # ind: [x, y, title, xlabel, ylabel, legend_loc]\n",
    "    1: [\"tci_name\", \"tci_addr\", \"relation between the TCIs in Japanese Corporations and Prefectures\", \"Corporations（period：1981-2010 fiscal year）\", \"Prefectures（period：1981-2010 fiscal year）\", \"center\", ],\n",
    "    # 1: [\"tci_name\", \"tci_addr\", \"corr between the TCIs in Japan and EU\", \"Japan（period：1981-2010 fiscal year）\", \"EU（period：1985-2009 year）\", \"center\", ],\n",
    "    # 2: [\"reg_num_jp\", \"reg_num_eu\", \"corr between the patent amounts in Japan and EU\", \"Japan（period：1981-2010 fiscal year）\", \"EU（period：1985-2009 year）\", \"center\", ],\n",
    "    # 3: [\"reg_num_jp\", \"tci_name\", \"corr between the patent amounts in Japan and TCI in Japan\", \"Japan（period：1981-2010 fiscal year）\", \"Japan（period：1981-2010 fiscal year）\", \"center\", ],\n",
    "    # 4: [\"reg_num_eu\", \"tci_addr\", \"corr between the patent amounts in EU and TCI in EU\", \"EU（period：1985-2009 year）\", \"EU（period：1985-2009 year）\", \"center\", ],\n",
    "    # 2: [\"tci_addr\", \"tci_name\", \"corr between the TCIs in Japan and EU\", \"EU（period：1985-2009 year）\", \"Japan（period：1981-2010 fiscal year）\", \"center\", ],\n",
    "}\n",
    "\n",
    "plt.rcParams['font.size'] = 24\n",
    "plt.rcParams['font.family'] = 'Meiryo'\n",
    "for i, combi in combi_dict.items():\n",
    "    fig, ax = plt.subplots(figsize=(8, 8))\n",
    "    period = f\"{year_start}-{year_end}\"\n",
    "    corr_num = round(name_addr_df[combi[0]].corr(name_addr_df[combi[1]]), 3)\n",
    "    print(period, corr_num)\n",
    "    # ax.scatter(name_addr_df[combi[0]], name_addr_df[combi[1]],\n",
    "    #            s=20, alpha=0.8, color=\"black\", )\n",
    "    # if i == 4:\n",
    "    ax.axvline(x=name_addr_df[combi[0]].mean(), color=\"gray\", linestyle=\"--\", )\n",
    "    ax.axhline(y=name_addr_df[combi[1]].mean(), color=\"gray\", linestyle=\"--\", )\n",
    "    ax.set_title(combi[2]+'(corr=' + r\"$\\bf{\" + str(corr_num)+ \"}$\" +')\\n')\n",
    "    if combi[0] in [\"reg_num\"]: ax.set_xscale(\"log\")\n",
    "    if combi[1] in [\"reg_num\"]: ax.set_yscale(\"log\")\n",
    "    x_min = name_addr_df[combi[0]].min()\n",
    "    x_2smallest = (name_addr_df[combi[0]].nsmallest(2).iloc[1])\n",
    "    y_2smallest = (name_addr_df[combi[1]].nsmallest(2).iloc[1])\n",
    "    head_df = name_addr_df.head(5)\n",
    "    between_df = name_addr_df.iloc[5:len(name_addr_df)-5, :]\n",
    "    tail_df = name_addr_df.tail(5)\n",
    "    if i != 5:\n",
    "        # display(name_addr_df)\n",
    "        # for i, row in head_df.iterrows():\n",
    "        #     ax.text(row[combi[0]], row[combi[1]], f'{i+1} {row[\"schmoch35\"]}', fontsize=18, color=\"red\")\n",
    "        #     ax.scatter(row[combi[0]], row[combi[1]], s=20, color=\"red\")\n",
    "        # for i, row in between_df.iterrows():\n",
    "        #     ax.text(row[combi[0]], row[combi[1]], f'{i+1} {row[\"schmoch35\"]}', fontsize=15, color=\"black\")\n",
    "        #     ax.scatter(row[combi[0]], row[combi[1]], s=20, color=\"black\")\n",
    "        # for i, row in tail_df.iterrows():\n",
    "        #     ax.text(row[combi[0]], row[combi[1]], f'{i+1} {row[\"schmoch35\"]}', fontsize=18, color=\"blue\", )\n",
    "        #     ax.scatter(row[combi[0]], row[combi[1]], s=20, color=\"blue\")\n",
    "        # for i, row in head_df.iterrows():\n",
    "        #     ax.text(row[combi[0]], row[combi[1]], f'{i+1} {row[\"schmoch35\"]}', fontsize=18, color=\"red\")\n",
    "            \n",
    "            # if i == 4: ax.scatter(row[combi[0]], row[combi[1]], s=40, color=tech_color[row['schmoch5']], label=row['schmoch5'])\n",
    "            # else: ax.scatter(row[combi[0]], row[combi[1]], s=40, color=tech_color[row['schmoch5']])\n",
    "        # for i, row in between_df.iterrows():\n",
    "        #     # ax.text(row[combi[0]], row[combi[1]], i+1, fontsize=15, color=\"black\")\n",
    "        #     if i == 7: ax.scatter(row[combi[0]], row[combi[1]], s=40, color=tech_color[row['schmoch5']], label=row['schmoch5'])\n",
    "        #     else: ax.scatter(row[combi[0]], row[combi[1]], s=40, color=tech_color[row['schmoch5']])\n",
    "            \n",
    "        # for i, row in tail_df.iterrows():\n",
    "        #     # ax.text(row[combi[0]], row[combi[1]], i+1, fontsize=18, color=\"blue\")\n",
    "        #     ax.scatter(row[combi[0]], row[combi[1]], s=40, color=\"blue\", label=f'{i+1} {row[\"schmoch35\"]}')\n",
    "        for tech_color_key in tech_color.keys():\n",
    "            ax.scatter(name_addr_df[name_addr_df['schmoch5']==tech_color_key][combi[0]], name_addr_df[name_addr_df['schmoch5']==tech_color_key][combi[1]], \n",
    "                       color=tech_color[tech_color_key], label=tech_color_key, \n",
    "                       s=60)\n",
    "        # for ind, row in head_df.iterrows():\n",
    "        #     if ind == 1: ax.text(row[combi[0]]+1, row[combi[1]]-2, f'\\n{ind+1} {row[\"schmoch35\"]}', fontsize=20, color=tech_color[row['schmoch5']])\n",
    "        #     else: ax.text(row[combi[0]]+1, row[combi[1]]-1, f'{ind+1} {row[\"schmoch35\"]}', fontsize=20, color=tech_color[row['schmoch5']])\n",
    "    # elif i == 2:\n",
    "    #     for i, row in head_df.iterrows():\n",
    "    #         ax.text(row[combi[0]], row[combi[1]], i+1, fontsize=18, color=\"red\")\n",
    "    #         ax.scatter(row[combi[0]], row[combi[1]], s=20, color=\"red\")\n",
    "    #     for i, row in between_df.iterrows():\n",
    "    #         ax.text(row[combi[0]], row[combi[1]], i+1, fontsize=15, color=\"black\")\n",
    "    #         ax.scatter(row[combi[0]], row[combi[1]], s=20, color=\"black\")\n",
    "    #     for i, row in tail_df.iterrows():\n",
    "    #         ax.text(row[combi[0]], row[combi[1]], i+1, fontsize=18, color=\"blue\", )\n",
    "    #         ax.scatter(row[combi[0]], row[combi[1]], s=20, color=\"blue\")\n",
    "    ax.set_ylabel(combi[4])\n",
    "    ax.set_xlabel(combi[3])\n",
    "    # ax.set_xscale('log')\n",
    "    ax.legend(loc=combi[5], fontsize=20, bbox_to_anchor=(1.55, 0.5), borderaxespad=0)\n",
    "    plt.show()\n"
   ]
  },
  {
   "cell_type": "code",
   "execution_count": null,
   "metadata": {},
   "outputs": [],
   "source": []
  }
 ],
 "metadata": {
  "kernelspec": {
   "display_name": "economic_complexity",
   "language": "python",
   "name": "python3"
  },
  "language_info": {
   "codemirror_mode": {
    "name": "ipython",
    "version": 3
   },
   "file_extension": ".py",
   "mimetype": "text/x-python",
   "name": "python",
   "nbconvert_exporter": "python",
   "pygments_lexer": "ipython3",
   "version": "3.11.7"
  }
 },
 "nbformat": 4,
 "nbformat_minor": 2
}
