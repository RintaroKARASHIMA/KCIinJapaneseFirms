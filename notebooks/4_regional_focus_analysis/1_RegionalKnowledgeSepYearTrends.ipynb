{
 "cells": [
  {
   "cell_type": "code",
   "execution_count": null,
   "metadata": {},
   "outputs": [],
   "source": [
    "import pandas as pd\n",
    "import numpy as np\n",
    "import sys\n",
    "\n",
    "sys.path.append('../../src')\n",
    "from ecomplexity import ecomplexity\n",
    "import matplotlib.pyplot as plt\n",
    "import seaborn as sns\n",
    "import cv2\n",
    "from PIL import Image\n",
    "import io\n",
    "\n",
    "import matplotlib.ticker as ptick\n",
    "import networkx as nx\n",
    "import networkx.algorithms.bipartite as bip\n",
    "\n",
    "plt.rcParams['font.family'] = 'Meiryo'\n",
    "plt.rcParams['font.size'] = 20\n",
    "\n",
    "# 小数点以下 桁数 6\n",
    "pd.options.display.float_format = '{:.3f}'.format\n"
   ]
  },
  {
   "cell_type": "code",
   "execution_count": null,
   "metadata": {},
   "outputs": [],
   "source": [
    "import initial_condition\n",
    "from process import weight\n",
    "from visualize import rank as vr\n"
   ]
  },
  {
   "cell_type": "code",
   "execution_count": null,
   "metadata": {},
   "outputs": [],
   "source": [
    "global data_dir, ex_dir, output_dir\n",
    "data_dir = \"../../data/processed/internal/corporations/\"\n",
    "ex_dir = \"../../data/processed/external/schmoch/\"\n",
    "output_dir = \"../../output/figures/\"\n"
   ]
  },
  {
   "cell_type": "code",
   "execution_count": null,
   "metadata": {},
   "outputs": [],
   "source": [
    "# 初期条件\n",
    "ar = initial_condition.AR\n",
    "year_style = initial_condition.YEAR_STYLE\n",
    "\n",
    "year_start = initial_condition.YEAR_START\n",
    "year_end = initial_condition.YEAR_END\n",
    "year_range = initial_condition.YEAR_RANGE\n",
    "\n",
    "extract_population = initial_condition.EXTRACT_POPULATION\n",
    "top_p_or_num = ('p', 100)\n",
    "region_corporation = 'right_person_addr'\n",
    "applicant_weight = initial_condition.APPLICANT_WEIGHT\n",
    "\n",
    "classification = initial_condition.CLASSIFICATION\n",
    "class_weight = initial_condition.CLASS_WEIGHT\n",
    "\n",
    "color_list = initial_condition.COLOR_LIST\n",
    "\n",
    "input_condition = f'{ar}_{year_style}_{extract_population}_{top_p_or_num[0]}_{top_p_or_num[1]}_{region_corporation}_{applicant_weight}_{classification}_{class_weight}'\n",
    "fig_name_base = f'{ar}_{year_style}_{extract_population}_{top_p_or_num[0]}_{top_p_or_num[1]}_{region_corporation}_{applicant_weight}_{classification}_{class_weight}.png'\n"
   ]
  },
  {
   "cell_type": "code",
   "execution_count": null,
   "metadata": {},
   "outputs": [],
   "source": [
    "# 条件確認\n",
    "fig_name_base"
   ]
  },
  {
   "cell_type": "code",
   "execution_count": null,
   "metadata": {},
   "outputs": [],
   "source": [
    "period_order_dict = {f'{period_start}-{period_start+year_range-1}': i for i, period_start in enumerate(range(year_start, year_end+1, year_range))} \n",
    "period_order_dict[f'{year_start}-{year_end}'] = len(period_order_dict)\n",
    "period_order_dict"
   ]
  },
  {
   "cell_type": "code",
   "execution_count": null,
   "metadata": {},
   "outputs": [],
   "source": [
    "df = pd.read_csv(f'{data_dir}{input_condition}.csv')\n",
    "df"
   ]
  },
  {
   "cell_type": "code",
   "execution_count": null,
   "metadata": {},
   "outputs": [],
   "source": [
    "df_dict = {}\n",
    "combi_dict = {# ind: [x, y, title, xlabel, ylabel, legend_loc]\n",
    "              1: ['reg_num', 'diversity', '特許数と法人次数（Diversity）の相関', '特許数（対数スケール）', '法人次数（Diversity）', 'lower right'], \n",
    "              2: ['reg_num', 'kci', '特許数とKCIの相関', '特許数（対数スケール）', 'KCI', 'lower right'], \n",
    "              3: ['diversity', 'kci', '法人次数（Diversity）とKCIの相関', '法人次数（Diversity）', 'KCI', 'lower right'], \n",
    "              4: ['diversity', 'kh_1', '法人次数（Diversity）と法人平均近傍次数（kh_1）の相関', '法人次数（Diversity）', '法人平均近傍次数（kh_1）', 'lower right']\n",
    "              }\n",
    "\n",
    "for i, combi in combi_dict.items():\n",
    "    fig, ax = plt.subplots(figsize=(8, 8))\n",
    "    period = f'{year_start}-{year_end}'\n",
    "    corr_num = round(df[df[f'{ar}_{year_style}_period']==period][combi[0]].corr(df[df[f'{ar}_{year_style}_period']==period][combi[1]]), 3)\n",
    "    print(period, corr_num)\n",
    "    ax.scatter(df[df[f'{ar}_{year_style}_period']==period][combi[0]], \n",
    "                df[df[f'{ar}_{year_style}_period']==period][combi[1]], s=20, \n",
    "                alpha=0.8, label=f'{period}年度（{corr_num}）', color='black')\n",
    "    if i == 4:\n",
    "        ax.axvline(x=df[df[f'{ar}_{year_style}_period']==period][combi[0]].mean(), color='red', linestyle='--')\n",
    "        ax.axhline(y=df[df[f'{ar}_{year_style}_period']==period][combi[1]].mean(), color='red', linestyle='--')\n",
    "    ax.set_title(combi[2])\n",
    "    if combi[0] in ['reg_num']: ax.set_xscale('log')\n",
    "    if combi[1] in ['reg_num']: ax.set_yscale('log')\n",
    "    x_min = df[(df[f'{ar}_{year_style}_period']==period)][combi[0]].min()\n",
    "    x_2smallest = df[(df[f'{ar}_{year_style}_period']==period)][combi[0]].nsmallest(2).iloc[1]\n",
    "    y_2smallest = df[(df[f'{ar}_{year_style}_period']==period)][combi[1]].nsmallest(2).iloc[1]\n",
    "    if i == 4: \n",
    "        # ax.text(x_min-1,\n",
    "        #         df[(df[f'{ar}_{year_style}_period']==period)&(df[combi[0]]==x_min)][combi[1]].values[0]-0.5, \n",
    "        #         df[(df[f'{ar}_{year_style}_period']==period)&(df[combi[0]]==x_min)]['right_person_name'].values[0], \n",
    "        #         fontsize=15, color='red')\n",
    "        # ax.text(x_min-1,\n",
    "        #         df[(df[f'{ar}_{year_style}_period']==period)&(df[combi[0]]==x_2smallest)][combi[1]].values[0]-0.5, \n",
    "        #         df[(df[f'{ar}_{year_style}_period']==period)&(df[combi[0]]==x_2smallest)]['right_person_name'].values[0], \n",
    "        #         fontsize=15, color='red')\n",
    "        # ax.text(df[(df[f'{ar}_{year_style}_period']==period)&(df[combi[1]]==y_2smallest)][combi[0]].values[0]-1,\n",
    "        #         y_2smallest-0.5, \n",
    "        #         df[(df[f'{ar}_{year_style}_period']==period)&(df[combi[1]]==y_2smallest)]['right_person_name'].values[0], \n",
    "        #         fontsize=15, color='red')\n",
    "        for i, row in df[(df[f'{ar}_{year_style}_period']==period)].sort_values('kci', ascending=False).reset_index(drop=True).iterrows():\n",
    "            # 2つで68分かかる\n",
    "            # if row['right_person_name'] in df[(df[f'{ar}_{year_style}_period']==period)].sort_values('kci', ascending=False).iloc[25:51,:]['right_person_name'].values:\n",
    "            #     # ax.text(row[combi[0]], row[combi[1]]-0.5, i+1, fontsize=12, color='orange')\n",
    "            #     if i+1!=51: ax.scatter(row[combi[0]], row[combi[1]], s=20, color='orange')\n",
    "            # if row['right_person_name'] in df[(df[f'{ar}_{year_style}_period']==period)].sort_values('kci', ascending=False).iloc[51:76,:]['right_person_name'].values:\n",
    "            #     # ax.text(row[combi[0]], row[combi[1]]-0.5, i+1, fontsize=12, color='green')\n",
    "            #     ax.scatter(row[combi[0]], row[combi[1]], s=20, color='green')\n",
    "            if row['right_person_addr'] in df[(df[f'{ar}_{year_style}_period']==period)].sort_values('kci', ascending=False).tail(25)['right_person_addr'].values:\n",
    "                ax.text(row[combi[0]], row[combi[1]]-0.5, i+1, fontsize=10, color='blue')\n",
    "                ax.scatter(row[combi[0]], row[combi[1]], s=20, color='blue')\n",
    "            if row['right_person_addr'] in df[(df[f'{ar}_{year_style}_period']==period)].sort_values('kci', ascending=False).head(25)['right_person_addr'].values:\n",
    "                ax.text(row[combi[0]], row[combi[1]]-0.5, i+1, fontsize=12, color='red')\n",
    "                ax.scatter(row[combi[0]], row[combi[1]], s=20, color='red')\n",
    "        \n",
    "    ax.set_ylabel(combi[4])\n",
    "    ax.set_xlabel(combi[3])\n",
    "    ax.legend(loc=combi[5], fontsize=20)\n",
    "    plt.show()\n",
    "    "
   ]
  },
  {
   "cell_type": "code",
   "execution_count": null,
   "metadata": {},
   "outputs": [],
   "source": [
    "df[df[f'{ar}_{year_style}_period']==period].sort_values('kci', ascending=False).reset_index(drop=True).head(15)"
   ]
  },
  {
   "cell_type": "code",
   "execution_count": null,
   "metadata": {},
   "outputs": [],
   "source": [
    "k_trans_df = df[(df[f'{ar}_{year_style}_period']==f'{year_start}-{year_end}')].sort_values('kci', ascending=False).copy()\n",
    "k_trans_df_dict = {'0': k_trans_df.melt(id_vars=['right_person_name'], value_vars=[f'diversity']).sort_values('value', ascending=False)}\n",
    "fs = (32, 40)\n",
    "for i in range(2, 20+1, 2):\n",
    "    k_trans_df_dict[f'{i}'] = k_trans_df.melt(id_vars=['right_person_name'], value_vars=[f'kh_{i}']).sort_values('value', ascending=False)\n",
    "    # if i >= 12: display(sample_df_dict[f'{i}'].head(10))\n",
    "k_trans = vr.rank_doubleaxis(k_trans_df_dict, \n",
    "            version='kci', \n",
    "                rank_num=100,\n",
    "                member_col='right_person_name', \n",
    "                num_col='value',\n",
    "                prop_dict={\n",
    "                    'figsize': fs,\n",
    "                    'xlabel': 'N',\n",
    "                    'ylabel': '',\n",
    "                    'title': '',\n",
    "                    'fontsize': 24, \n",
    "                    'year_range': 2, \n",
    "                    'ascending': False, \n",
    "                    # 'color': color_dict\n",
    "                    'color': 'default'\n",
    "                })\n",
    "\n",
    "plt.savefig(f'{output_dir}co_ranking/ktrans_{fig_name_base}', bbox_inches=\"tight\")\n",
    "plt.show()\n"
   ]
  },
  {
   "cell_type": "code",
   "execution_count": null,
   "metadata": {},
   "outputs": [],
   "source": [
    "df_dict = {}\n",
    "combi_dict = {# ind: [x, y, title, xlabel, ylabel, legend_loc]\n",
    "              1: ['reg_num', 'diversity', '特許数と法人次数（Diversity）の相関', '特許数（対数スケール）', '法人次数（Diversity）', 'upper left'], \n",
    "              2: ['reg_num', 'kci', '特許数とKCIの相関', '特許数（対数スケール）', 'KCI', 'lower left'], \n",
    "              3: ['diversity', 'kci', '法人次数（Diversity）とKCIの相関', '法人次数（Diversity）', 'KCI', 'lower right'], \n",
    "              4: ['diversity', 'kh_1', '法人次数（Diversity）と法人平均近傍次数（kh_1）の相関', '法人次数（Diversity）', '法人平均近傍次数（kh_1）', 'lower right']\n",
    "              }\n",
    "\n",
    "for i, combi in combi_dict.items():\n",
    "    fig, ax = plt.subplots(figsize=(12, 12))\n",
    "    color_count = 0\n",
    "    for period in range(year_start, year_end+1, year_range):\n",
    "        period = f'{period}-{period+year_range-1}'\n",
    "        corr_num = round(df[df[f'{ar}_{year_style}_period']==period][combi[0]].corr(df[df[f'{ar}_{year_style}_period']==period][combi[1]]), 3)\n",
    "        print(period, corr_num)\n",
    "        ax.scatter(df[df[f'{ar}_{year_style}_period']==period][combi[0]], \n",
    "                   df[df[f'{ar}_{year_style}_period']==period][combi[1]], s=20, \n",
    "                   alpha=0.8, label=f'{period}年度（{corr_num}）', color=color_list[color_count])\n",
    "        if i == 4:\n",
    "            ax.axvline(x=df[df[f'{ar}_{year_style}_period']==period][combi[0]].mean(), color=color_list[color_count], linestyle='--')\n",
    "            ax.axhline(y=df[df[f'{ar}_{year_style}_period']==period][combi[1]].mean(), color=color_list[color_count], linestyle='--')\n",
    "        ax.set_title(combi[2])\n",
    "        if combi[0] in ['reg_num']: ax.set_xscale('log')\n",
    "        if combi[1] in ['reg_num']: ax.set_yscale('log')\n",
    "        ax.set_ylabel(combi[4])\n",
    "        ax.set_xlabel(combi[3])\n",
    "        ax.legend(loc=combi[5])\n",
    "        color_count += 1\n",
    "    \n",
    "    plt.savefig(f'{output_dir}co_corr/{combi[0]}_{combi[1]}_{fig_name_base}', bbox_inches=\"tight\")\n",
    "    plt.show()\n",
    "    "
   ]
  },
  {
   "cell_type": "code",
   "execution_count": null,
   "metadata": {},
   "outputs": [],
   "source": [
    "df_dict = {}\n",
    "combi_dict = {# 1: ['right_person_name', 'diversity', f'特許権者次数(=diversity，k_h0)ランキング 値が小さいものTop15の推移（出願期間：{year_start}-{year_end}年度）', True], \n",
    "              # 1: ['right_person_name', '', f'特許権者次数(=diversity，k_h0)ランキング 値が小さいものTop15の推移（出願期間：{year_start}-{year_end}年度）', True], \n",
    "              2: ['right_person_name', 'diversity', f'特許権者次数(=diversity，k_h0)ランキング 値が大きいものTop15の推移（出願期間：{year_start}-{year_end}年度）', False], \n",
    "            #   3: ['right_person_name', 'eci', f'KCIランキング 値が小さいものTop15の推移（出願期間：{year_start}-{year_end}年度）', True], \n",
    "              # 3: ['right_person_name', 'ipc_class_num', f'IPC数ランキング 値が大きいものTop15の推移（出願期間：{year_start}-{year_end}年度）', False], \n",
    "              4: ['right_person_name', 'kci', f'KCIランキング 値が大きいものTop15の推移（出願期間：{year_start}-{year_end}年度）', False]\n",
    "              }\n",
    "\n",
    "\n",
    "\n",
    "for i, combi in combi_dict.items():\n",
    "    div_df = df[[f'{ar}_{year_style}_period']+combi[:1+1]].sort_values(by=[f'{ar}_{year_style}_period', combi[1]], ascending=[True, False]).copy()\n",
    "    div_df = div_df.drop_duplicates(keep='first')\n",
    "    div_df_dict = {}\n",
    "    for year in range(year_start, year_end+1, year_range):\n",
    "        period = f'{year}-{year+year_range-1}'\n",
    "        div_df_dict[period] = div_df[div_df[f'{ar}_{year_style}_period']==period].copy()\n",
    "        # display(div_df_dict[f'{year}-{year+year_range-1}'].head(15))\n",
    "    if i==4:\n",
    "        df['kci_rank'] = df.groupby(f'{ar}_{year_style}_period')[['kci']].rank(ascending=False, method='first').reset_index(drop=False)['kci']\n",
    "        # display(c_df[c_df['right_person_name'].str.contains('三菱重工業')])\n",
    "    if i > 4: fs = (12, 15)\n",
    "    else: fs = (10, 12)\n",
    "    # display(div_df)\n",
    "    sample = vr.rank_doubleaxis(div_df_dict, \n",
    "                    rank_num=15,\n",
    "                    member_col=combi[0], \n",
    "                    value_col=combi[1],\n",
    "                    prop_dict={\n",
    "                        'figsize': fs,\n",
    "                        'xlabel': '期間',\n",
    "                        'ylabel': '',\n",
    "                        'title': combi[2],\n",
    "                        'fontsize': 24, \n",
    "                        'year_range': year_range, \n",
    "                        'ascending': combi[3], \n",
    "                        # 'color': color_dict\n",
    "                        'color': 'default'\n",
    "                    })\n",
    "    # plt.savefig(f'{output_dir}co_ranking/{combi[1]}_{fig_name_base}', bbox_inches=\"tight\")\n",
    "    plt.show()\n"
   ]
  },
  {
   "cell_type": "code",
   "execution_count": null,
   "metadata": {},
   "outputs": [],
   "source": [
    "output_dir"
   ]
  },
  {
   "cell_type": "code",
   "execution_count": null,
   "metadata": {},
   "outputs": [],
   "source": [
    "filtered_df = pd.read_csv('../../data/interim/internal/filtered_before_agg/addedclassification.csv', sep=',')\n",
    "filtered_df"
   ]
  },
  {
   "cell_type": "code",
   "execution_count": null,
   "metadata": {},
   "outputs": [],
   "source": [
    "top_p_or_num"
   ]
  },
  {
   "cell_type": "code",
   "execution_count": null,
   "metadata": {},
   "outputs": [],
   "source": [
    "# filtered_df['right_person_name'].nunique()\n",
    "filtered_df[filtered_df[f'{ar}_{year_style}'].isin(range(year_start, year_end+1))]['right_person_name'].nunique()"
   ]
  },
  {
   "cell_type": "code",
   "execution_count": null,
   "metadata": {},
   "outputs": [],
   "source": [
    "filtered_df[filtered_df[f'{ar}_{year_style}'].isin(range(year_start, year_end+1))&(filtered_df['right_person_name'].isin(df['right_person_name']))]['right_person_name'].nunique()"
   ]
  },
  {
   "cell_type": "code",
   "execution_count": null,
   "metadata": {},
   "outputs": [],
   "source": [
    "filtered_df[filtered_df[f'{ar}_{year_style}'].isin(range(year_start, year_end+1))&(filtered_df['right_person_name'].isin(df['right_person_name']))]['right_person_name'].nunique()*100 / filtered_df[filtered_df[f'{ar}_{year_style}'].isin(range(year_start, year_end+1))]['right_person_name'].nunique()"
   ]
  },
  {
   "cell_type": "code",
   "execution_count": null,
   "metadata": {},
   "outputs": [],
   "source": [
    "filtered_df[filtered_df[f'{ar}_{year_style}'].isin(range(year_start, year_end+1))&(filtered_df['right_person_name'].isin(df['right_person_name']))]['reg_num'].nunique()"
   ]
  },
  {
   "cell_type": "code",
   "execution_count": null,
   "metadata": {},
   "outputs": [],
   "source": [
    "filtered_df[filtered_df[f'{ar}_{year_style}'].isin(range(year_start, year_end+1))]['reg_num'].nunique()"
   ]
  },
  {
   "cell_type": "code",
   "execution_count": null,
   "metadata": {},
   "outputs": [],
   "source": [
    "filtered_df[filtered_df[f'{ar}_{year_style}'].isin(range(year_start, year_end+1))&(filtered_df['right_person_name'].isin(df['right_person_name']))]['reg_num'].nunique() / filtered_df[filtered_df[f'{ar}_{year_style}'].isin(range(year_start, year_end+1))]['reg_num'].nunique()"
   ]
  },
  {
   "cell_type": "code",
   "execution_count": null,
   "metadata": {},
   "outputs": [],
   "source": [
    "1734723 / 3602904"
   ]
  },
  {
   "cell_type": "code",
   "execution_count": null,
   "metadata": {},
   "outputs": [],
   "source": [
    "10000 / 64330"
   ]
  },
  {
   "cell_type": "code",
   "execution_count": null,
   "metadata": {},
   "outputs": [],
   "source": [
    "all_c_df\n",
    "def ccdf(diversity_col: list):\n",
    "        freq_array = np.array(np.bincount(diversity_col))\n",
    "        p_list = []\n",
    "        cumsum = 0.0\n",
    "        s = float(freq_array.sum())\n",
    "        for freq in freq_array:\n",
    "            if freq != 0:\n",
    "                cumsum += freq / s\n",
    "                p_list.append(cumsum)\n",
    "            else:\n",
    "                p_list.append(1.0)\n",
    "                \n",
    "        ccdf_array = 1 - np.array(p_list)\n",
    "        if ccdf_array[0] == 0:\n",
    "            ccdf_array[0] = 1.0\n",
    "        return ccdf_array\n",
    "\n",
    "color_list = [\n",
    "    'red', 'green', 'blue', 'yellow', 'orange', 'purple', 'pink', 'brown',\n",
    "    'grey', 'violet', 'indigo', 'turquoise', 'gold', 'lime', 'coral',\n",
    "    'navy', 'skyblue', 'tomato', 'olive', 'cyan', 'darkred', 'darkgreen',\n",
    "    'darkblue', 'darkorange', 'darkviolet', 'deeppink', 'firebrick', 'darkcyan',\n",
    "    'darkturquoise', 'darkslategray', 'darkgoldenrod', 'mediumblue', 'mediumseagreen',\n",
    "    'mediumpurple', 'mediumvioletred', 'midnightblue', 'saddlebrown', 'seagreen',\n",
    "    'sienna', 'steelblue'\n",
    "    ][10:]\n",
    "\n",
    "color_count = 0\n",
    "fig, ax = plt.subplots(figsize=(10, 10))\n",
    "for s in all_c_df['segment'].unique():\n",
    "    ccdf_array = ccdf(all_c_df[all_c_df['segment']==s]['diversity'].to_list())\n",
    "    ax.plot(range(1, len(ccdf_array)+1), ccdf_array, 'o', markersize=8, \n",
    "                    color='red', label=s, alpha=0.6)\n",
    "    color_count += 1\n",
    "ax.legend(loc='upper right', fontsize=18)\n",
    "\n",
    "ax.set_title('特許権者の補累積次数（Diversity）分布（両対数スケール）'+'\\n', fontsize=20)\n",
    "ax.set_xlabel('特許権者次数（Diversity）', fontsize=18)\n",
    "ax.set_ylabel('ccdf', fontsize=18)\n",
    "\n",
    "ax.set_xscale('log')\n",
    "ax.set_yscale('log')\n",
    "\n",
    "# x軸の指数表記を普通に戻す魔法\n",
    "ax.xaxis.set_major_formatter(ptick.ScalarFormatter(useMathText=True))\n",
    "\n",
    "# ax.set_xlim(prop_dict['xlim'])\n",
    "# ax.set_ylim(prop_dict['ylim'])\n",
    "\n",
    "ax.grid(axis='both', \n",
    "        which='major', \n",
    "        alpha=1, \n",
    "        linestyle='--', \n",
    "        linewidth=0.8, \n",
    "        color='gray')\n",
    "    \n",
    "plt.show()"
   ]
  },
  {
   "cell_type": "code",
   "execution_count": null,
   "metadata": {},
   "outputs": [],
   "source": [
    "color_list = ['red']+[\n",
    "    'red', 'green', 'blue', 'yellow', 'orange', 'purple', 'pink', 'brown',\n",
    "    'grey', 'violet', 'indigo', 'turquoise', 'gold', 'lime', 'coral',\n",
    "    'navy', 'skyblue', 'tomato', 'olive', 'cyan', 'darkred', 'darkgreen',\n",
    "    'darkblue', 'darkorange', 'darkviolet', 'deeppink', 'firebrick', 'darkcyan',\n",
    "    'darkturquoise', 'darkslategray', 'darkgoldenrod', 'mediumblue', 'mediumseagreen',\n",
    "    'mediumpurple', 'mediumvioletred', 'midnightblue', 'saddlebrown', 'seagreen',\n",
    "    'sienna', 'steelblue'\n",
    "    ][10:]\n",
    "color_count = 0\n",
    "fig, ax = plt.subplots(figsize=(10, 10))\n",
    "for s in list(right_person_df['segment'].unique())[0:]:\n",
    "    \n",
    "    x = right_person_df[right_person_df['segment']==s][['reg_num']].rank(ascending=False, method='first').sort_values('reg_num', ascending=True)['reg_num']\n",
    "    # y = 1 - np.cumsum(right_person_df[right_person_df['segment']==s][['reg_num']].sort_values('reg_num',ascending=False)['reg_num'] / right_person_df[right_person_df['segment']==s]['reg_num'].sum())\n",
    "    y = np.cumsum(right_person_df[right_person_df['segment']==s][['reg_num']].sort_values('reg_num',ascending=False)['reg_num'] / right_person_df[right_person_df['segment']==s]['reg_num'].sum())\n",
    "    # y = [1] + list(y)[:-1]\n",
    "    y = list(y)[:-1] + [1]\n",
    "    # ccdf_array = ccdf()\n",
    "    # ax.plot(range(1, len(ccdf_array)+1), ccdf_array, 'o', markersize=8, \n",
    "    #                 color=color_list[color_count], label=s+'年度', alpha=0.6)\n",
    "    ax.plot(x, y, 'o', markersize=8, \n",
    "                    color=color_list[color_count], label=s+'年度', alpha=0.6)\n",
    "    ax.axvline(len(x)*3//100, color=color_list[color_count], linestyle='--')\n",
    "    color_count += 1\n",
    "# ax.legend(loc='lower left', fontsize=18)\n",
    "ax.legend(loc='upper left', fontsize=18)\n",
    "\n",
    "ax.set_title('各期間における特許権者の累積特許数分布（両対数スケール）'+'\\n', fontsize=20)\n",
    "ax.set_xlabel('特許数', fontsize=18)\n",
    "ax.set_ylabel('ccdf', fontsize=18)\n",
    "\n",
    "ax.set_xscale('log')\n",
    "# ax.set_yscale('log')\n",
    "\n",
    "ax.tick_params(labelsize=18)\n",
    "# ax.set_xlim(0.8, 300)\n",
    "\n",
    "# x軸の指数表記を普通に戻す魔法\n",
    "ax.xaxis.set_major_formatter(ptick.ScalarFormatter(useMathText=True))\n",
    "\n",
    "# ax.set_xlim(prop_dict['xlim'])\n",
    "# ax.set_ylim(prop_dict['ylim'])\n",
    "\n",
    "ax.grid(axis='both', \n",
    "        which='major', \n",
    "        alpha=1, \n",
    "        linestyle='--', \n",
    "        linewidth=0.6, \n",
    "        color='gray')\n",
    "    \n",
    "plt.show()\n"
   ]
  }
 ],
 "metadata": {
  "kernelspec": {
   "display_name": "economic_complexity",
   "language": "python",
   "name": "python3"
  },
  "language_info": {
   "codemirror_mode": {
    "name": "ipython",
    "version": 3
   },
   "file_extension": ".py",
   "mimetype": "text/x-python",
   "name": "python",
   "nbconvert_exporter": "python",
   "pygments_lexer": "ipython3",
   "version": "3.11.7"
  }
 },
 "nbformat": 4,
 "nbformat_minor": 2
}
