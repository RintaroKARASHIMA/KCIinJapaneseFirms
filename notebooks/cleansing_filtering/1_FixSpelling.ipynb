{
 "cells": [
  {
   "cell_type": "code",
   "execution_count": 1,
   "metadata": {},
   "outputs": [],
   "source": [
    "import pandas as pd\n",
    "import numpy as np\n",
    "import re\n",
    "import regex\n"
   ]
  },
  {
   "cell_type": "code",
   "execution_count": 2,
   "metadata": {},
   "outputs": [],
   "source": [
    "df = pd.read_csv('../Data/Original/merged.csv', \n",
    "                 sep=',', \n",
    "                 encoding='utf-8', \n",
    "                 dtype=object)\n",
    "# df.head()\n"
   ]
  },
  {
   "cell_type": "code",
   "execution_count": 3,
   "metadata": {},
   "outputs": [
    {
     "name": "stdout",
     "output_type": "stream",
     "text": [
      "391536\n",
      "6302339\n",
      "64690\n"
     ]
    }
   ],
   "source": [
    "print(df['right_person_name'].nunique())\n",
    "print(df['reg_num'].nunique())\n",
    "print(df['ipc'].nunique())"
   ]
  },
  {
   "cell_type": "code",
   "execution_count": 4,
   "metadata": {},
   "outputs": [],
   "source": [
    "# 実験場\n",
    "# list(df[df['right_person_name'].str.contains('\\?ｫ|▲', regex=True)]\\\n",
    "#         [['right_person_name']]\\\n",
    "#         .drop_duplicates(subset=['right_person_name'], keep='first')\\\n",
    "#         .sort_values('right_person_name', ascending=True)['right_person_name'].unique())#.head(30)\n",
    "# adate_df[adate_df['right_person_name'].str.contains('キヤノン')]['right_person_name'].unique()\n",
    "# df[df['right_person_name'].str.startswith('愛知県')]['right_person_name'].unique()\n"
   ]
  },
  {
   "cell_type": "code",
   "execution_count": 5,
   "metadata": {},
   "outputs": [],
   "source": [
    "# 旧字体の辞書作る用のデータ\n",
    "old_new_letter_df = pd.read_html(\n",
    "    'https://www.asahi-net.or.jp/~ax2s-kmtn/ref/old_chara.html',\n",
    "    encoding='utf-8'\n",
    ")\n",
    "\n",
    "df_tmp_list = []\n",
    "for i in [1, 2]:\n",
    "    for c in range(2, 14+1, 6):\n",
    "        df_tmp = old_new_letter_df[i].iloc[:, c:c+1+1]\n",
    "        df_tmp.columns = ['new_jikei', 'old_jikei']\n",
    "        df_tmp_list.append(df_tmp)\n",
    "\n",
    "old_new_letter_df = pd.concat(df_tmp_list, \n",
    "                              axis='index')\\\n",
    "                      .dropna(how='all')\\\n",
    "                      .reset_index(drop=True)\n"
   ]
  },
  {
   "cell_type": "code",
   "execution_count": 6,
   "metadata": {},
   "outputs": [
    {
     "data": {
      "text/html": [
       "<div>\n",
       "<style scoped>\n",
       "    .dataframe tbody tr th:only-of-type {\n",
       "        vertical-align: middle;\n",
       "    }\n",
       "\n",
       "    .dataframe tbody tr th {\n",
       "        vertical-align: top;\n",
       "    }\n",
       "\n",
       "    .dataframe thead th {\n",
       "        text-align: right;\n",
       "    }\n",
       "</style>\n",
       "<table border=\"1\" class=\"dataframe\">\n",
       "  <thead>\n",
       "    <tr style=\"text-align: right;\">\n",
       "      <th></th>\n",
       "      <th>before_name</th>\n",
       "      <th>after_name</th>\n",
       "    </tr>\n",
       "  </thead>\n",
       "  <tbody>\n",
       "    <tr>\n",
       "      <th>0</th>\n",
       "      <td>アーカイラス・エンジニアリング合資会社</td>\n",
       "      <td>アーカイラス・エンジニアリング合資会社</td>\n",
       "    </tr>\n",
       "    <tr>\n",
       "      <th>1</th>\n",
       "      <td>株式会社アーキス</td>\n",
       "      <td>株式会社アーキス</td>\n",
       "    </tr>\n",
       "    <tr>\n",
       "      <th>2</th>\n",
       "      <td>アーキテクツ・スタジオ・ジャパン株式会社</td>\n",
       "      <td>アーキテクツ・スタジオ・ジャパン株式会社</td>\n",
       "    </tr>\n",
       "    <tr>\n",
       "      <th>3</th>\n",
       "      <td>ＴＥＭＰＯ ＮＥＴＷＯＲＫ株式会社</td>\n",
       "      <td>アーキテクツ・スタジオ・ジャパン株式会社</td>\n",
       "    </tr>\n",
       "    <tr>\n",
       "      <th>4</th>\n",
       "      <td>レンタル保証システム株式会社</td>\n",
       "      <td>アーキテクツ・スタジオ・ジャパン株式会社</td>\n",
       "    </tr>\n",
       "  </tbody>\n",
       "</table>\n",
       "</div>"
      ],
      "text/plain": [
       "            before_name            after_name\n",
       "0   アーカイラス・エンジニアリング合資会社   アーカイラス・エンジニアリング合資会社\n",
       "1              株式会社アーキス              株式会社アーキス\n",
       "2  アーキテクツ・スタジオ・ジャパン株式会社  アーキテクツ・スタジオ・ジャパン株式会社\n",
       "3     ＴＥＭＰＯ ＮＥＴＷＯＲＫ株式会社  アーキテクツ・スタジオ・ジャパン株式会社\n",
       "4        レンタル保証システム株式会社  アーキテクツ・スタジオ・ジャパン株式会社"
      ]
     },
     "execution_count": 6,
     "metadata": {},
     "output_type": "execute_result"
    }
   ],
   "source": [
    "company_master_df = pd.read_csv('../../0_Data/3_NISTEP/Data/Dealed/company_master.csv', encoding='utf-8', sep=',')\n",
    "company_master_df.head()\n"
   ]
  },
  {
   "cell_type": "code",
   "execution_count": 7,
   "metadata": {},
   "outputs": [],
   "source": [
    "trans_specialstr_tuple = (\n",
    "    ('?b', '高'), \n",
    "    ('?C', '吉'), \n",
    "    ('?D', '塚'), \n",
    "    ('?F', '崎'), \n",
    "    ('?H', '徳'), \n",
    "    ('?P', '濾'), \n",
    "    ('?芟ｴ', '桑原'), \n",
    "    ('??', '')\n",
    ")"
   ]
  },
  {
   "cell_type": "code",
   "execution_count": 8,
   "metadata": {},
   "outputs": [],
   "source": [
    "for trans_specialstr in trans_specialstr_tuple:\n",
    "    df['right_person_name'] = df['right_person_name'].str.replace(trans_specialstr[0], trans_specialstr[1], regex=False)"
   ]
  },
  {
   "cell_type": "code",
   "execution_count": 9,
   "metadata": {},
   "outputs": [
    {
     "data": {
      "text/plain": [
       "[]"
      ]
     },
     "execution_count": 9,
     "metadata": {},
     "output_type": "execute_result"
    }
   ],
   "source": [
    "list(df[df['right_person_name'].str.contains('??', regex=False)]['right_person_name'].unique())"
   ]
  },
  {
   "cell_type": "markdown",
   "metadata": {},
   "source": [
    "## 一文字の違いシリーズ"
   ]
  },
  {
   "cell_type": "code",
   "execution_count": 10,
   "metadata": {},
   "outputs": [],
   "source": [
    "# 旧字体の辞書\n",
    "old_new_letter_dict = dict(zip(old_new_letter_df['old_jikei'].values, \n",
    "                               old_new_letter_df['new_jikei'].values))\n",
    "\n",
    "# 消す文字のリスト\n",
    "trans_noise_list = ['\\u3000', '\\?ｫ', '\\?ｬ', '▲', '▼', ' ']\n",
    "\n",
    "# 一文字:一文字の置換\n",
    "trans_one_to_one_dict = {\n",
    "                'ャ': 'ヤ', \n",
    "                'ョ': 'ヨ', \n",
    "                'ュ': 'ユ', \n",
    "                'ァ': 'ア', \n",
    "                'ィ': 'イ', \n",
    "                'ゥ': 'ウ', \n",
    "                'ェ': 'エ', \n",
    "                'ォ': 'オ', \n",
    "                'ッ': 'ツ', \n",
    "                'ヶ': 'ケ', \n",
    "                '―': 'ー',  \n",
    "                '－': 'ー',\n",
    "                '－': 'ー'\n",
    "                }\n"
   ]
  },
  {
   "cell_type": "code",
   "execution_count": 11,
   "metadata": {},
   "outputs": [],
   "source": [
    "# 旧字体を新字体に変換，消す文字を消す\n",
    "for col_name in ['right_person_addr', 'right_person_name']:\n",
    "    df[col_name] = df[col_name].str.replace('|'.join(trans_noise_list), '', regex=True)\\\n",
    "                                                 .str.translate(str.maketrans(old_new_letter_dict))\\\n",
    "                                                 .str.translate(str.maketrans(trans_one_to_one_dict))\n"
   ]
  },
  {
   "cell_type": "code",
   "execution_count": 12,
   "metadata": {},
   "outputs": [],
   "source": [
    "for col_name in ['before_name', 'after_name']:\n",
    "    company_master_df[col_name] = company_master_df[col_name].str.replace('|'.join(trans_noise_list), '', regex=True)\\\n",
    "                                                             .str.translate(str.maketrans(old_new_letter_dict))\\\n",
    "                                                             .str.translate(str.maketrans(trans_one_to_one_dict))\n"
   ]
  },
  {
   "cell_type": "markdown",
   "metadata": {},
   "source": [
    "---\n"
   ]
  },
  {
   "cell_type": "markdown",
   "metadata": {},
   "source": [
    "## 省庁とか\n"
   ]
  },
  {
   "cell_type": "code",
   "execution_count": 13,
   "metadata": {},
   "outputs": [
    {
     "data": {
      "text/html": [
       "<div>\n",
       "<style scoped>\n",
       "    .dataframe tbody tr th:only-of-type {\n",
       "        vertical-align: middle;\n",
       "    }\n",
       "\n",
       "    .dataframe tbody tr th {\n",
       "        vertical-align: top;\n",
       "    }\n",
       "\n",
       "    .dataframe thead th {\n",
       "        text-align: right;\n",
       "    }\n",
       "</style>\n",
       "<table border=\"1\" class=\"dataframe\">\n",
       "  <thead>\n",
       "    <tr style=\"text-align: right;\">\n",
       "      <th></th>\n",
       "      <th>old_office</th>\n",
       "      <th>after_office</th>\n",
       "    </tr>\n",
       "  </thead>\n",
       "  <tbody>\n",
       "    <tr>\n",
       "      <th>0</th>\n",
       "      <td>.*地方創生推進事務.*</td>\n",
       "      <td>内閣府</td>\n",
       "    </tr>\n",
       "    <tr>\n",
       "      <th>1</th>\n",
       "      <td>.*知的財産戦略推進事務.*</td>\n",
       "      <td>内閣府</td>\n",
       "    </tr>\n",
       "    <tr>\n",
       "      <th>2</th>\n",
       "      <td>.*科学技術・イノベーション推進事務.*</td>\n",
       "      <td>内閣府</td>\n",
       "    </tr>\n",
       "    <tr>\n",
       "      <th>3</th>\n",
       "      <td>.*健康・医療戦略推進事務.*</td>\n",
       "      <td>内閣府</td>\n",
       "    </tr>\n",
       "    <tr>\n",
       "      <th>4</th>\n",
       "      <td>.*宇宙開発戦略推進事務.*</td>\n",
       "      <td>内閣府</td>\n",
       "    </tr>\n",
       "  </tbody>\n",
       "</table>\n",
       "</div>"
      ],
      "text/plain": [
       "             old_office after_office\n",
       "0          .*地方創生推進事務.*          内閣府\n",
       "1        .*知的財産戦略推進事務.*          内閣府\n",
       "2  .*科学技術・イノベーション推進事務.*          内閣府\n",
       "3       .*健康・医療戦略推進事務.*          内閣府\n",
       "4        .*宇宙開発戦略推進事務.*          内閣府"
      ]
     },
     "execution_count": 13,
     "metadata": {},
     "output_type": "execute_result"
    }
   ],
   "source": [
    "# 省庁合併のタプルを作る用のデータ\n",
    "minis_office_df = pd.read_csv('../../0_Data/4_Ministry/Data/Dealed/minis_office.csv', \n",
    "                              encoding='utf-8', sep=',', dtype=object)\n",
    "minis_office_df.head()\n"
   ]
  },
  {
   "cell_type": "code",
   "execution_count": 14,
   "metadata": {},
   "outputs": [],
   "source": [
    "# 大臣とかの修正\n",
    "trans_minister_tuple = tuple([('大臣', '省')])\\\n",
    "                       +tuple(zip(minis_office_df['old_office'].values, minis_office_df['after_office'].values))\n",
    "# trans_minister_tuple\n"
   ]
  },
  {
   "cell_type": "code",
   "execution_count": 16,
   "metadata": {},
   "outputs": [],
   "source": [
    "exception_list = []\n",
    "i = 0\n",
    "for trans_minister in trans_minister_tuple:\n",
    "    if i in [0, 31, 37, 47, 51, 52, 56, 61, 63, 73, 74, 88, 89, 91, 92, 93, 94, 96, 97, 98, 100, 102, 104, 109, 110, 112, 115, 116, 117, 118, 119, 120, 121, 122, 123]:\n",
    "        exception_list.append(df[df['right_person_name'].str.contains(trans_minister[0])]['right_person_name'].str.replace(trans_minister[0], '').unique())\n",
    "        df['right_person_name'] = df['right_person_name'].str.replace(trans_minister[0], trans_minister[1], regex=True)\n",
    "    i += 1\n",
    "# df\n"
   ]
  },
  {
   "cell_type": "markdown",
   "metadata": {},
   "source": [
    "---\n"
   ]
  },
  {
   "cell_type": "markdown",
   "metadata": {},
   "source": [
    "## 官庁とか何かの長とか"
   ]
  },
  {
   "cell_type": "code",
   "execution_count": 17,
   "metadata": {},
   "outputs": [],
   "source": [
    "# 何らかの長の表記ゆれ\n",
    "trans_top_tuple = (\n",
    "               ('総長|長官', ''), \n",
    "               ('所長', '所'), \n",
    "               ('局長', '局'), \n",
    "               ('院長', '院'), \n",
    "               ('大学{1,2}長', '大学'), \n",
    "               ('校長', '校'), \n",
    "               ('課長', '課'), \n",
    "               ('部長', '部'), \n",
    "               ('センター長', 'センター'), \n",
    "               ('機構長', '機構'), \n",
    "               ('署長', '署'), \n",
    "               ('場長', '場'), \n",
    "               ('市長', '市')\n",
    "               )\n",
    "\n",
    "# 企業名の表記ゆれ\n",
    "trans_lp_tuple = (('コーポレイシヨン', 'コーポレーシヨン'), \n",
    "                  ('株式会社', '株式'), \n",
    "                  ('株式', '株式会社'))\n",
    "\n",
    "trans_else_tuple = (\n",
    "               ('パナソニツクＩＰマネジメント株式会社', 'パナソニツク株式会社'), \n",
    "               ('ッ', 'ツ')\n",
    "                    )"
   ]
  },
  {
   "cell_type": "code",
   "execution_count": 18,
   "metadata": {},
   "outputs": [
    {
     "data": {
      "text/html": [
       "<div>\n",
       "<style scoped>\n",
       "    .dataframe tbody tr th:only-of-type {\n",
       "        vertical-align: middle;\n",
       "    }\n",
       "\n",
       "    .dataframe tbody tr th {\n",
       "        vertical-align: top;\n",
       "    }\n",
       "\n",
       "    .dataframe thead th {\n",
       "        text-align: right;\n",
       "    }\n",
       "</style>\n",
       "<table border=\"1\" class=\"dataframe\">\n",
       "  <thead>\n",
       "    <tr style=\"text-align: right;\">\n",
       "      <th></th>\n",
       "      <th>reg_num</th>\n",
       "      <th>app_year_month_day</th>\n",
       "      <th>set_reg_year_month_day</th>\n",
       "      <th>right_person_addr</th>\n",
       "      <th>right_person_name</th>\n",
       "      <th>ipc</th>\n",
       "    </tr>\n",
       "  </thead>\n",
       "  <tbody>\n",
       "    <tr>\n",
       "      <th>0</th>\n",
       "      <td>5684381</td>\n",
       "      <td>20110708</td>\n",
       "      <td>20150123</td>\n",
       "      <td>ドイツ連邦共和国</td>\n",
       "      <td>フラウンホツフアーーゲゼルシヤフトツアーフエーデルングデアアンゲバンテンフオルシユングエーフアー</td>\n",
       "      <td>G01S   5/14</td>\n",
       "    </tr>\n",
       "    <tr>\n",
       "      <th>1</th>\n",
       "      <td>5684381</td>\n",
       "      <td>20110708</td>\n",
       "      <td>20150123</td>\n",
       "      <td>ドイツ連邦共和国</td>\n",
       "      <td>フリードリツヒーアレクサンダーーユニバーシタツタエルランゲンーニユルンベルク</td>\n",
       "      <td>G01S   5/14</td>\n",
       "    </tr>\n",
       "    <tr>\n",
       "      <th>2</th>\n",
       "      <td>5684399</td>\n",
       "      <td>20120209</td>\n",
       "      <td>20150123</td>\n",
       "      <td>アメリカ合衆国</td>\n",
       "      <td>ザジレツトカンパニーリミテツドライアビリテイカンパニー</td>\n",
       "      <td>B26B  21/52</td>\n",
       "    </tr>\n",
       "    <tr>\n",
       "      <th>3</th>\n",
       "      <td>5684492</td>\n",
       "      <td>20100512</td>\n",
       "      <td>20150123</td>\n",
       "      <td>東京都渋谷区</td>\n",
       "      <td>ＤＲＣ合同会社</td>\n",
       "      <td>G10H   3/18</td>\n",
       "    </tr>\n",
       "    <tr>\n",
       "      <th>4</th>\n",
       "      <td>5684500</td>\n",
       "      <td>20100623</td>\n",
       "      <td>20150123</td>\n",
       "      <td>アメリカ合衆国</td>\n",
       "      <td>バイエル・マテリアルサイエンス・リミテツド・ライアビリテイ・カンパニー</td>\n",
       "      <td>C08G  65/26</td>\n",
       "    </tr>\n",
       "  </tbody>\n",
       "</table>\n",
       "</div>"
      ],
      "text/plain": [
       "   reg_num app_year_month_day set_reg_year_month_day right_person_addr  \\\n",
       "0  5684381           20110708               20150123          ドイツ連邦共和国   \n",
       "1  5684381           20110708               20150123          ドイツ連邦共和国   \n",
       "2  5684399           20120209               20150123           アメリカ合衆国   \n",
       "3  5684492           20100512               20150123            東京都渋谷区   \n",
       "4  5684500           20100623               20150123           アメリカ合衆国   \n",
       "\n",
       "                                  right_person_name          ipc  \n",
       "0  フラウンホツフアーーゲゼルシヤフトツアーフエーデルングデアアンゲバンテンフオルシユングエーフアー  G01S   5/14  \n",
       "1            フリードリツヒーアレクサンダーーユニバーシタツタエルランゲンーニユルンベルク  G01S   5/14  \n",
       "2                       ザジレツトカンパニーリミテツドライアビリテイカンパニー  B26B  21/52  \n",
       "3                                           ＤＲＣ合同会社  G10H   3/18  \n",
       "4               バイエル・マテリアルサイエンス・リミテツド・ライアビリテイ・カンパニー  C08G  65/26  "
      ]
     },
     "execution_count": 18,
     "metadata": {},
     "output_type": "execute_result"
    }
   ],
   "source": [
    "for trans_top in trans_top_tuple+trans_lp_tuple:\n",
    "    df['right_person_name'] = df['right_person_name'].str.replace(trans_top[0], trans_top[1], regex=True)\n",
    "    for col_name in ['before_name', 'after_name']:\n",
    "        company_master_df[col_name] = company_master_df[col_name].str.replace(trans_top[0], trans_top[1], regex=True)\n",
    "df.head()\n"
   ]
  },
  {
   "cell_type": "code",
   "execution_count": 19,
   "metadata": {},
   "outputs": [
    {
     "data": {
      "text/html": [
       "<div>\n",
       "<style scoped>\n",
       "    .dataframe tbody tr th:only-of-type {\n",
       "        vertical-align: middle;\n",
       "    }\n",
       "\n",
       "    .dataframe tbody tr th {\n",
       "        vertical-align: top;\n",
       "    }\n",
       "\n",
       "    .dataframe thead th {\n",
       "        text-align: right;\n",
       "    }\n",
       "</style>\n",
       "<table border=\"1\" class=\"dataframe\">\n",
       "  <thead>\n",
       "    <tr style=\"text-align: right;\">\n",
       "      <th></th>\n",
       "      <th>reg_num</th>\n",
       "      <th>app_year_month_day</th>\n",
       "      <th>set_reg_year_month_day</th>\n",
       "      <th>right_person_addr</th>\n",
       "      <th>ipc</th>\n",
       "      <th>right_person_name</th>\n",
       "    </tr>\n",
       "  </thead>\n",
       "  <tbody>\n",
       "    <tr>\n",
       "      <th>0</th>\n",
       "      <td>5684381</td>\n",
       "      <td>20110708</td>\n",
       "      <td>20150123</td>\n",
       "      <td>ドイツ連邦共和国</td>\n",
       "      <td>G01S   5/14</td>\n",
       "      <td>フラウンホツフアーーゲゼルシヤフトツアーフエーデルングデアアンゲバンテンフオルシユングエーフアー</td>\n",
       "    </tr>\n",
       "    <tr>\n",
       "      <th>1</th>\n",
       "      <td>5684381</td>\n",
       "      <td>20110708</td>\n",
       "      <td>20150123</td>\n",
       "      <td>ドイツ連邦共和国</td>\n",
       "      <td>G01S   5/14</td>\n",
       "      <td>フリードリツヒーアレクサンダーーユニバーシタツタエルランゲンーニユルンベルク</td>\n",
       "    </tr>\n",
       "    <tr>\n",
       "      <th>2</th>\n",
       "      <td>5684399</td>\n",
       "      <td>20120209</td>\n",
       "      <td>20150123</td>\n",
       "      <td>アメリカ合衆国</td>\n",
       "      <td>B26B  21/52</td>\n",
       "      <td>ザジレツトカンパニーリミテツドライアビリテイカンパニー</td>\n",
       "    </tr>\n",
       "    <tr>\n",
       "      <th>3</th>\n",
       "      <td>5684492</td>\n",
       "      <td>20100512</td>\n",
       "      <td>20150123</td>\n",
       "      <td>東京都渋谷区</td>\n",
       "      <td>G10H   3/18</td>\n",
       "      <td>ＤＲＣ合同会社</td>\n",
       "    </tr>\n",
       "    <tr>\n",
       "      <th>4</th>\n",
       "      <td>5684500</td>\n",
       "      <td>20100623</td>\n",
       "      <td>20150123</td>\n",
       "      <td>アメリカ合衆国</td>\n",
       "      <td>C08G  65/26</td>\n",
       "      <td>バイエル・マテリアルサイエンス・リミテツド・ライアビリテイ・カンパニー</td>\n",
       "    </tr>\n",
       "  </tbody>\n",
       "</table>\n",
       "</div>"
      ],
      "text/plain": [
       "   reg_num app_year_month_day set_reg_year_month_day right_person_addr  \\\n",
       "0  5684381           20110708               20150123          ドイツ連邦共和国   \n",
       "1  5684381           20110708               20150123          ドイツ連邦共和国   \n",
       "2  5684399           20120209               20150123           アメリカ合衆国   \n",
       "3  5684492           20100512               20150123            東京都渋谷区   \n",
       "4  5684500           20100623               20150123           アメリカ合衆国   \n",
       "\n",
       "           ipc                                 right_person_name  \n",
       "0  G01S   5/14  フラウンホツフアーーゲゼルシヤフトツアーフエーデルングデアアンゲバンテンフオルシユングエーフアー  \n",
       "1  G01S   5/14            フリードリツヒーアレクサンダーーユニバーシタツタエルランゲンーニユルンベルク  \n",
       "2  B26B  21/52                       ザジレツトカンパニーリミテツドライアビリテイカンパニー  \n",
       "3  G10H   3/18                                           ＤＲＣ合同会社  \n",
       "4  C08G  65/26               バイエル・マテリアルサイエンス・リミテツド・ライアビリテイ・カンパニー  "
      ]
     },
     "execution_count": 19,
     "metadata": {},
     "output_type": "execute_result"
    }
   ],
   "source": [
    "# # 合併\n",
    "df = pd.merge(df, company_master_df.rename(columns={'before_name':'right_person_name'}), \n",
    "              on='right_person_name', \n",
    "              how='left')\\\n",
    "             .rename(columns={'after_name':'after_right_person_name'})\n",
    "df['after_right_person_name'] = df['after_right_person_name'].fillna(df['right_person_name'])\n",
    "df = df.drop(columns=['right_person_name'])\\\n",
    "       .rename(columns={'after_right_person_name':'right_person_name'})\n",
    "df.head()\n"
   ]
  },
  {
   "cell_type": "markdown",
   "metadata": {},
   "source": [
    "---\n"
   ]
  },
  {
   "cell_type": "code",
   "execution_count": 20,
   "metadata": {},
   "outputs": [],
   "source": [
    "# df.to_csv('../Data/Tmp/fixed.csv', encoding='utf-8', sep=',', index=False)\n",
    "df.to_csv('../Data/Tmp/fixed_merged.csv', encoding='utf-8', sep=',', index=False)\n"
   ]
  },
  {
   "cell_type": "code",
   "execution_count": null,
   "metadata": {},
   "outputs": [],
   "source": []
  }
 ],
 "metadata": {
  "kernelspec": {
   "display_name": "Python 3",
   "language": "python",
   "name": "python3"
  },
  "language_info": {
   "codemirror_mode": {
    "name": "ipython",
    "version": 3
   },
   "file_extension": ".py",
   "mimetype": "text/x-python",
   "name": "python",
   "nbconvert_exporter": "python",
   "pygments_lexer": "ipython3",
   "version": "3.11.4"
  }
 },
 "nbformat": 4,
 "nbformat_minor": 2
}
