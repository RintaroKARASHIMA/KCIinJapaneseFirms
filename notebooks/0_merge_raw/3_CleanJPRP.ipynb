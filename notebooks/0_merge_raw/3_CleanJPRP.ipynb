{
 "cells": [
  {
   "cell_type": "code",
   "execution_count": 5,
   "metadata": {},
   "outputs": [],
   "source": [
    "import pandas as pd\n",
    "import numpy as np\n"
   ]
  },
  {
   "cell_type": "code",
   "execution_count": 6,
   "metadata": {},
   "outputs": [],
   "source": [
    "global data_dir\n",
    "data_dir = '../../data/original/internal/stack/JPRP/'\n",
    "output_dir = '../../data/interim/internal/stack/'\n"
   ]
  },
  {
   "cell_type": "code",
   "execution_count": 7,
   "metadata": {},
   "outputs": [],
   "source": [
    "needed_col_dict = {\n",
    "                   'upd_mgt_info_p.tsv':[\n",
    "                                        # 'processing_type', # 処理種別\n",
    "                                        #  'law_cd', # 四法コード\n",
    "                                         'reg_num', # 登録番号\n",
    "                                        #  'split_num',# 分割番号\n",
    "                                         'app_num', # 出願番号\n",
    "                                         'app_year_month_day', # 出願日\n",
    "                                         'set_reg_year_month_day', # 設定登録日\n",
    "                                         # 'pri_cntry_name_cd' # 優先権国コード\n",
    "                                         ], \n",
    "                   'upd_right_person_art_p.tsv':[\n",
    "                                                #  'law_cd', # 四法コード\n",
    "                                                 'reg_num', # 登録番号\n",
    "                                                #  'split_num', # 分割番号\n",
    "                                                # 'right_person_appl_id', # 特許権者申請人ID\n",
    "                                                 'right_person_addr', # 特許権者住所\n",
    "                                                 'right_person_name' # 特許権者名\n",
    "                                                 ]\n",
    "                   }\n"
   ]
  },
  {
   "cell_type": "code",
   "execution_count": 8,
   "metadata": {},
   "outputs": [],
   "source": [
    "original_df_dict = {file: pd.read_csv(data_dir + file,\n",
    "                                      sep='\\t', \n",
    "                                      encoding='utf-8', \n",
    "                                      dtype=str, \n",
    "                                      usecols=needed_col_dict[file])\n",
    "                    for file in needed_col_dict.keys()}\n"
   ]
  },
  {
   "cell_type": "markdown",
   "metadata": {},
   "source": [
    "## 登録情報マスタ\n"
   ]
  },
  {
   "cell_type": "code",
   "execution_count": 9,
   "metadata": {},
   "outputs": [
    {
     "data": {
      "text/html": [
       "<div>\n",
       "<style scoped>\n",
       "    .dataframe tbody tr th:only-of-type {\n",
       "        vertical-align: middle;\n",
       "    }\n",
       "\n",
       "    .dataframe tbody tr th {\n",
       "        vertical-align: top;\n",
       "    }\n",
       "\n",
       "    .dataframe thead th {\n",
       "        text-align: right;\n",
       "    }\n",
       "</style>\n",
       "<table border=\"1\" class=\"dataframe\">\n",
       "  <thead>\n",
       "    <tr style=\"text-align: right;\">\n",
       "      <th></th>\n",
       "      <th>reg_num</th>\n",
       "      <th>app_num</th>\n",
       "      <th>app_year_month_day</th>\n",
       "      <th>set_reg_year_month_day</th>\n",
       "    </tr>\n",
       "  </thead>\n",
       "  <tbody>\n",
       "    <tr>\n",
       "      <th>0</th>\n",
       "      <td>2908792</td>\n",
       "      <td>1998173999</td>\n",
       "      <td>19980605</td>\n",
       "      <td>19990402</td>\n",
       "    </tr>\n",
       "    <tr>\n",
       "      <th>1</th>\n",
       "      <td>4346982</td>\n",
       "      <td>2003200098</td>\n",
       "      <td>20030722</td>\n",
       "      <td>20090724</td>\n",
       "    </tr>\n",
       "    <tr>\n",
       "      <th>2</th>\n",
       "      <td>4346988</td>\n",
       "      <td>2003281280</td>\n",
       "      <td>20030728</td>\n",
       "      <td>20090724</td>\n",
       "    </tr>\n",
       "    <tr>\n",
       "      <th>3</th>\n",
       "      <td>4347008</td>\n",
       "      <td>2003331940</td>\n",
       "      <td>20030924</td>\n",
       "      <td>20090724</td>\n",
       "    </tr>\n",
       "    <tr>\n",
       "      <th>4</th>\n",
       "      <td>5032649</td>\n",
       "      <td>2010280960</td>\n",
       "      <td>20101216</td>\n",
       "      <td>20120706</td>\n",
       "    </tr>\n",
       "  </tbody>\n",
       "</table>\n",
       "</div>"
      ],
      "text/plain": [
       "   reg_num     app_num app_year_month_day set_reg_year_month_day\n",
       "0  2908792  1998173999           19980605               19990402\n",
       "1  4346982  2003200098           20030722               20090724\n",
       "2  4346988  2003281280           20030728               20090724\n",
       "3  4347008  2003331940           20030924               20090724\n",
       "4  5032649  2010280960           20101216               20120706"
      ]
     },
     "execution_count": 9,
     "metadata": {},
     "output_type": "execute_result"
    }
   ],
   "source": [
    "mgt_df = original_df_dict['upd_mgt_info_p.tsv'].copy()\n",
    "# mgt_df = mgt_df[needed_col_dict['upd_mgt_info_p.tsv']]\n",
    "mgt_df.head()\n",
    "# mgt_df.describe(include='all')\n"
   ]
  },
  {
   "cell_type": "code",
   "execution_count": 10,
   "metadata": {},
   "outputs": [],
   "source": [
    "mgt_df.to_csv(f'{output_dir}reg_info.csv', \n",
    "              sep=',', \n",
    "              encoding='utf-8', \n",
    "              index=False)\n"
   ]
  },
  {
   "cell_type": "markdown",
   "metadata": {},
   "source": [
    "---\n"
   ]
  },
  {
   "cell_type": "markdown",
   "metadata": {},
   "source": [
    "## 特許権者 全数ver.\n"
   ]
  },
  {
   "cell_type": "code",
   "execution_count": 11,
   "metadata": {},
   "outputs": [
    {
     "data": {
      "text/html": [
       "<div>\n",
       "<style scoped>\n",
       "    .dataframe tbody tr th:only-of-type {\n",
       "        vertical-align: middle;\n",
       "    }\n",
       "\n",
       "    .dataframe tbody tr th {\n",
       "        vertical-align: top;\n",
       "    }\n",
       "\n",
       "    .dataframe thead th {\n",
       "        text-align: right;\n",
       "    }\n",
       "</style>\n",
       "<table border=\"1\" class=\"dataframe\">\n",
       "  <thead>\n",
       "    <tr style=\"text-align: right;\">\n",
       "      <th></th>\n",
       "      <th>reg_num</th>\n",
       "      <th>right_person_addr</th>\n",
       "      <th>right_person_name</th>\n",
       "    </tr>\n",
       "  </thead>\n",
       "  <tbody>\n",
       "    <tr>\n",
       "      <th>0</th>\n",
       "      <td>0492885</td>\n",
       "      <td>スイス国</td>\n",
       "      <td>エフ　ホフマン　ラ　ロツシユ　ウント　コンパニ－　アクチエンゲゼルシヤフト</td>\n",
       "    </tr>\n",
       "    <tr>\n",
       "      <th>1</th>\n",
       "      <td>0492906</td>\n",
       "      <td>ドイツ連邦共和国</td>\n",
       "      <td>バ－デイツシエ　アニリン　ウント　ソ－ダ　フアブリク　アクチエンゲゼルシヤフト</td>\n",
       "    </tr>\n",
       "    <tr>\n",
       "      <th>2</th>\n",
       "      <td>0492909</td>\n",
       "      <td>イギリス国</td>\n",
       "      <td>スタフレツクス　インタ－ナシヨナル　リミテツド</td>\n",
       "    </tr>\n",
       "    <tr>\n",
       "      <th>3</th>\n",
       "      <td>0492983</td>\n",
       "      <td>大阪市</td>\n",
       "      <td>旭化成工業株式会社</td>\n",
       "    </tr>\n",
       "    <tr>\n",
       "      <th>4</th>\n",
       "      <td>0493007</td>\n",
       "      <td>大和高田市</td>\n",
       "      <td>ブジボウメリヤス株式会社</td>\n",
       "    </tr>\n",
       "  </tbody>\n",
       "</table>\n",
       "</div>"
      ],
      "text/plain": [
       "   reg_num right_person_addr                        right_person_name\n",
       "0  0492885              スイス国    エフ　ホフマン　ラ　ロツシユ　ウント　コンパニ－　アクチエンゲゼルシヤフト\n",
       "1  0492906          ドイツ連邦共和国  バ－デイツシエ　アニリン　ウント　ソ－ダ　フアブリク　アクチエンゲゼルシヤフト\n",
       "2  0492909             イギリス国                  スタフレツクス　インタ－ナシヨナル　リミテツド\n",
       "3  0492983               大阪市                                旭化成工業株式会社\n",
       "4  0493007             大和高田市                             ブジボウメリヤス株式会社"
      ]
     },
     "execution_count": 11,
     "metadata": {},
     "output_type": "execute_result"
    }
   ],
   "source": [
    "hr_df = original_df_dict['upd_right_person_art_p.tsv'].copy()\n",
    "# hr_df = hr_df[needed_col_dict['upd_right_person_art_p.tsv']]\n",
    "hr_df.head()\n",
    "# hr_df#.describe(include='all')\n"
   ]
  },
  {
   "cell_type": "code",
   "execution_count": 12,
   "metadata": {},
   "outputs": [],
   "source": [
    "hr_df.to_csv(f'{output_dir}hr.csv', \n",
    "             sep=',', \n",
    "             encoding='utf-8', \n",
    "             index=False)\n"
   ]
  }
 ],
 "metadata": {
  "kernelspec": {
   "display_name": "Python 3",
   "language": "python",
   "name": "python3"
  },
  "language_info": {
   "codemirror_mode": {
    "name": "ipython",
    "version": 3
   },
   "file_extension": ".py",
   "mimetype": "text/x-python",
   "name": "python",
   "nbconvert_exporter": "python",
   "pygments_lexer": "ipython3",
   "version": "3.11.7"
  }
 },
 "nbformat": 4,
 "nbformat_minor": 2
}
