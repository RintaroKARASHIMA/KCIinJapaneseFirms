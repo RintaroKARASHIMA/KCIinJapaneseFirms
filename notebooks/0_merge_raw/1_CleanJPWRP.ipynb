{
 "cells": [
  {
   "cell_type": "code",
   "execution_count": 18,
   "metadata": {},
   "outputs": [],
   "source": [
    "import pandas as pd\n",
    "import numpy as np\n",
    "from glob import glob\n"
   ]
  },
  {
   "cell_type": "code",
   "execution_count": 19,
   "metadata": {},
   "outputs": [],
   "source": [
    "global data_dir, output_dir\n",
    "data_dir = '../../data/original/internal/bulk/JPWRP/'\n",
    "output_dir = '../../data/interim/internal/bulk/'\n"
   ]
  },
  {
   "cell_type": "code",
   "execution_count": 20,
   "metadata": {},
   "outputs": [],
   "source": [
    "needed_col_dict = {\n",
    "                   'upd_mgt_info_p.tsv':[\n",
    "                                        # 'processing_type', # 処理種別\n",
    "                                        #  'law_cd', # 四法コード\n",
    "                                         'reg_num', # 登録番号\n",
    "                                        #  'split_num',# 分割番号\n",
    "                                         'app_num', # 出願番号\n",
    "                                         'app_year_month_day', # 出願日\n",
    "                                         'set_reg_year_month_day', # 設定登録日\n",
    "                                         # 'pri_cntry_name_cd' # 優先権国コード\n",
    "                                         ], \n",
    "                   'upd_right_person_art_p.tsv':[\n",
    "                                                #  'law_cd', # 四法コード\n",
    "                                                 'reg_num', # 登録番号\n",
    "                                                #  'split_num', # 分割番号\n",
    "                                                # 'right_person_appl_id', # 特許権者申請人ID\n",
    "                                                 'right_person_addr', # 特許権者住所\n",
    "                                                 'right_person_name' # 特許権者名\n",
    "                                                 ]\n",
    "                   }\n"
   ]
  },
  {
   "cell_type": "code",
   "execution_count": 21,
   "metadata": {},
   "outputs": [],
   "source": [
    "original_df_dict = {file: [pd.read_csv(path,\n",
    "                                       sep='\\t', \n",
    "                                       encoding='utf-8', \n",
    "                                       dtype=str, \n",
    "                                       usecols=needed_col_dict[file])\n",
    "                           for path in glob(data_dir+file.split('.')[0]+'/*')]\\\n",
    "                    for file in needed_col_dict.keys()}\n"
   ]
  },
  {
   "cell_type": "markdown",
   "metadata": {},
   "source": [
    "## 登録情報マスタ\n"
   ]
  },
  {
   "cell_type": "code",
   "execution_count": 22,
   "metadata": {},
   "outputs": [
    {
     "data": {
      "text/html": [
       "<div>\n",
       "<style scoped>\n",
       "    .dataframe tbody tr th:only-of-type {\n",
       "        vertical-align: middle;\n",
       "    }\n",
       "\n",
       "    .dataframe tbody tr th {\n",
       "        vertical-align: top;\n",
       "    }\n",
       "\n",
       "    .dataframe thead th {\n",
       "        text-align: right;\n",
       "    }\n",
       "</style>\n",
       "<table border=\"1\" class=\"dataframe\">\n",
       "  <thead>\n",
       "    <tr style=\"text-align: right;\">\n",
       "      <th></th>\n",
       "      <th>reg_num</th>\n",
       "      <th>app_num</th>\n",
       "      <th>app_year_month_day</th>\n",
       "      <th>set_reg_year_month_day</th>\n",
       "    </tr>\n",
       "  </thead>\n",
       "  <tbody>\n",
       "    <tr>\n",
       "      <th>0</th>\n",
       "      <td>5684381</td>\n",
       "      <td>2013517108</td>\n",
       "      <td>20110708</td>\n",
       "      <td>20150123</td>\n",
       "    </tr>\n",
       "    <tr>\n",
       "      <th>1</th>\n",
       "      <td>5684399</td>\n",
       "      <td>2013537955</td>\n",
       "      <td>20120209</td>\n",
       "      <td>20150123</td>\n",
       "    </tr>\n",
       "    <tr>\n",
       "      <th>2</th>\n",
       "      <td>5684460</td>\n",
       "      <td>2009092178</td>\n",
       "      <td>20090406</td>\n",
       "      <td>20150123</td>\n",
       "    </tr>\n",
       "    <tr>\n",
       "      <th>3</th>\n",
       "      <td>5684492</td>\n",
       "      <td>2010109835</td>\n",
       "      <td>20100512</td>\n",
       "      <td>20150123</td>\n",
       "    </tr>\n",
       "    <tr>\n",
       "      <th>4</th>\n",
       "      <td>5684500</td>\n",
       "      <td>2010142208</td>\n",
       "      <td>20100623</td>\n",
       "      <td>20150123</td>\n",
       "    </tr>\n",
       "  </tbody>\n",
       "</table>\n",
       "</div>"
      ],
      "text/plain": [
       "   reg_num     app_num app_year_month_day set_reg_year_month_day\n",
       "0  5684381  2013517108           20110708               20150123\n",
       "1  5684399  2013537955           20120209               20150123\n",
       "2  5684460  2009092178           20090406               20150123\n",
       "3  5684492  2010109835           20100512               20150123\n",
       "4  5684500  2010142208           20100623               20150123"
      ]
     },
     "execution_count": 22,
     "metadata": {},
     "output_type": "execute_result"
    }
   ],
   "source": [
    "mgt_df_list = original_df_dict['upd_mgt_info_p.tsv'].copy()\n",
    "mgt_df = pd.concat(mgt_df_list, \n",
    "                   ignore_index=True, \n",
    "                   axis='index')\\\n",
    "           .drop_duplicates(keep='first')\\\n",
    "           .reset_index(drop=True)\n",
    "mgt_df.head()\n",
    "# mgt_df.describe(include='all')\n"
   ]
  },
  {
   "cell_type": "code",
   "execution_count": 23,
   "metadata": {},
   "outputs": [],
   "source": [
    "mgt_df.to_csv(f'{output_dir}reg_info.csv', \n",
    "              sep=',', \n",
    "              encoding='utf-8', \n",
    "              index=False)\n"
   ]
  },
  {
   "cell_type": "markdown",
   "metadata": {},
   "source": [
    "---\n"
   ]
  },
  {
   "cell_type": "markdown",
   "metadata": {},
   "source": [
    "## 特許権者 全数ver.\n"
   ]
  },
  {
   "cell_type": "code",
   "execution_count": 24,
   "metadata": {},
   "outputs": [
    {
     "data": {
      "text/html": [
       "<div>\n",
       "<style scoped>\n",
       "    .dataframe tbody tr th:only-of-type {\n",
       "        vertical-align: middle;\n",
       "    }\n",
       "\n",
       "    .dataframe tbody tr th {\n",
       "        vertical-align: top;\n",
       "    }\n",
       "\n",
       "    .dataframe thead th {\n",
       "        text-align: right;\n",
       "    }\n",
       "</style>\n",
       "<table border=\"1\" class=\"dataframe\">\n",
       "  <thead>\n",
       "    <tr style=\"text-align: right;\">\n",
       "      <th></th>\n",
       "      <th>reg_num</th>\n",
       "      <th>right_person_addr</th>\n",
       "      <th>right_person_name</th>\n",
       "    </tr>\n",
       "  </thead>\n",
       "  <tbody>\n",
       "    <tr>\n",
       "      <th>0</th>\n",
       "      <td>4843617</td>\n",
       "      <td>アメリカ合衆国</td>\n",
       "      <td>モックステック・インコーポレーテッド</td>\n",
       "    </tr>\n",
       "    <tr>\n",
       "      <th>1</th>\n",
       "      <td>4844982</td>\n",
       "      <td>大韓民国</td>\n",
       "      <td>ケミコス　クリエイションズ　コリア　カンパニーリミテッド</td>\n",
       "    </tr>\n",
       "    <tr>\n",
       "      <th>2</th>\n",
       "      <td>4845158</td>\n",
       "      <td>東京都荒川区</td>\n",
       "      <td>精電舎電子工業株式会社</td>\n",
       "    </tr>\n",
       "    <tr>\n",
       "      <th>3</th>\n",
       "      <td>4845511</td>\n",
       "      <td>埼玉県加須市</td>\n",
       "      <td>ブリヂストンフローテック株式会社</td>\n",
       "    </tr>\n",
       "    <tr>\n",
       "      <th>4</th>\n",
       "      <td>4846870</td>\n",
       "      <td>東京都文京区</td>\n",
       "      <td>日立建機株式会社</td>\n",
       "    </tr>\n",
       "  </tbody>\n",
       "</table>\n",
       "</div>"
      ],
      "text/plain": [
       "   reg_num right_person_addr             right_person_name\n",
       "0  4843617           アメリカ合衆国            モックステック・インコーポレーテッド\n",
       "1  4844982              大韓民国  ケミコス　クリエイションズ　コリア　カンパニーリミテッド\n",
       "2  4845158            東京都荒川区                   精電舎電子工業株式会社\n",
       "3  4845511            埼玉県加須市              ブリヂストンフローテック株式会社\n",
       "4  4846870            東京都文京区                      日立建機株式会社"
      ]
     },
     "execution_count": 24,
     "metadata": {},
     "output_type": "execute_result"
    }
   ],
   "source": [
    "hr_df_list = original_df_dict['upd_right_person_art_p.tsv'].copy()\n",
    "hr_df = pd.concat([df for df in hr_df_list], \n",
    "                   ignore_index=True, \n",
    "                   axis='index')\\\n",
    "        [needed_col_dict['upd_right_person_art_p.tsv']]\\\n",
    "        .drop_duplicates(keep='first')\\\n",
    "        .reset_index(drop=True)\n",
    "hr_df.head()\n",
    "# hr_df.describe(include='all')\n"
   ]
  },
  {
   "cell_type": "code",
   "execution_count": 25,
   "metadata": {},
   "outputs": [],
   "source": [
    "hr_df.to_csv(f'{output_dir}hr.csv', \n",
    "              sep=',', \n",
    "              encoding='utf-8', \n",
    "              index=False)\n"
   ]
  }
 ],
 "metadata": {
  "kernelspec": {
   "display_name": "Python 3",
   "language": "python",
   "name": "python3"
  },
  "language_info": {
   "codemirror_mode": {
    "name": "ipython",
    "version": 3
   },
   "file_extension": ".py",
   "mimetype": "text/x-python",
   "name": "python",
   "nbconvert_exporter": "python",
   "pygments_lexer": "ipython3",
   "version": "3.11.7"
  }
 },
 "nbformat": 4,
 "nbformat_minor": 2
}
