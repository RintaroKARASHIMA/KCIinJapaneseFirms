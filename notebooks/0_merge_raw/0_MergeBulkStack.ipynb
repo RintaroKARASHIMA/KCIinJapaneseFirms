{
 "cells": [
  {
   "cell_type": "code",
   "execution_count": 1,
   "metadata": {},
   "outputs": [],
   "source": [
    "import pandas as pd\n",
    "import numpy as np\n",
    "from glob import glob\n"
   ]
  },
  {
   "cell_type": "code",
   "execution_count": 2,
   "metadata": {},
   "outputs": [],
   "source": [
    "data_dir = '../../0_Data'\n",
    "file_name_list = [\n",
    "                  'hr', # 特許権者\n",
    "                  'ipc', # IPC\n",
    "                  'reg_info' # 登録情報\n",
    "                  ]\n"
   ]
  },
  {
   "cell_type": "code",
   "execution_count": 3,
   "metadata": {},
   "outputs": [],
   "source": [
    "bulk_stack_df_dict = {\n",
    "                      file_name: pd.concat([pd.read_csv(f'{data_dir}/{bs}/Data/Dealed/{file_name}.csv', \n",
    "                                                        sep=',', \n",
    "                                                        encoding='utf-8', \n",
    "                                                        dtype=object) for bs in ['0_Bulk', '1_Stack']], \n",
    "                                           ignore_index=True, \n",
    "                                           axis='index')\n",
    "                      for file_name in file_name_list\n",
    "                      }\n"
   ]
  },
  {
   "cell_type": "code",
   "execution_count": 4,
   "metadata": {},
   "outputs": [],
   "source": [
    "df = pd.merge(bulk_stack_df_dict['reg_info'].copy(), bulk_stack_df_dict['hr'].copy(), \n",
    "              on='reg_num', \n",
    "              how='inner')\n",
    "\n",
    "df = pd.merge(df, bulk_stack_df_dict['ipc'].copy(), \n",
    "              on='app_num', \n",
    "              how='inner')\n",
    "\n",
    "df = df.drop(columns=['app_num'])\\\n",
    "       .drop_duplicates(keep='first')\\\n",
    "       .reset_index(drop=True)\n"
   ]
  },
  {
   "cell_type": "code",
   "execution_count": 5,
   "metadata": {},
   "outputs": [],
   "source": [
    "df.to_csv('../Data/Original/merged.csv', sep=',', encoding='utf-8', index=False)\n"
   ]
  },
  {
   "cell_type": "markdown",
   "metadata": {},
   "source": [
    "---\n"
   ]
  },
  {
   "cell_type": "markdown",
   "metadata": {},
   "source": [
    "## ただただ結合（欠損値は落とす）\n"
   ]
  },
  {
   "cell_type": "code",
   "execution_count": 13,
   "metadata": {},
   "outputs": [
    {
     "ename": "KeyboardInterrupt",
     "evalue": "",
     "output_type": "error",
     "traceback": [
      "\u001b[1;31m---------------------------------------------------------------------------\u001b[0m",
      "\u001b[1;31mKeyboardInterrupt\u001b[0m                         Traceback (most recent call last)",
      "\u001b[1;32mc:\\Users\\rin\\Desktop\\Master\\1_DataFiltering\\Notebook\\0_MergeBulkStack.ipynb セル 8\u001b[0m line \u001b[0;36m2\n\u001b[0;32m      <a href='vscode-notebook-cell:/c%3A/Users/rin/Desktop/Master/1_DataFiltering/Notebook/0_MergeBulkStack.ipynb#X10sZmlsZQ%3D%3D?line=0'>1</a>\u001b[0m \u001b[39m# 出願年基準\u001b[39;00m\n\u001b[1;32m----> <a href='vscode-notebook-cell:/c%3A/Users/rin/Desktop/Master/1_DataFiltering/Notebook/0_MergeBulkStack.ipynb#X10sZmlsZQ%3D%3D?line=1'>2</a>\u001b[0m adate_jp_df \u001b[39m=\u001b[39m df\u001b[39m.\u001b[39;49mcopy()\n\u001b[0;32m      <a href='vscode-notebook-cell:/c%3A/Users/rin/Desktop/Master/1_DataFiltering/Notebook/0_MergeBulkStack.ipynb#X10sZmlsZQ%3D%3D?line=2'>3</a>\u001b[0m adate_jp_df[\u001b[39m'\u001b[39m\u001b[39mapp_year\u001b[39m\u001b[39m'\u001b[39m] \u001b[39m=\u001b[39m adate_jp_df[\u001b[39m'\u001b[39m\u001b[39mapp_year_month_day\u001b[39m\u001b[39m'\u001b[39m]\u001b[39m.\u001b[39mstr[:\u001b[39m4\u001b[39m]\n\u001b[0;32m      <a href='vscode-notebook-cell:/c%3A/Users/rin/Desktop/Master/1_DataFiltering/Notebook/0_MergeBulkStack.ipynb#X10sZmlsZQ%3D%3D?line=3'>4</a>\u001b[0m adate_jp_df[\u001b[39m'\u001b[39m\u001b[39mipc_class\u001b[39m\u001b[39m'\u001b[39m] \u001b[39m=\u001b[39m adate_jp_df[\u001b[39m'\u001b[39m\u001b[39mipc\u001b[39m\u001b[39m'\u001b[39m]\u001b[39m.\u001b[39mstr[:\u001b[39m4\u001b[39m]\n",
      "File \u001b[1;32mc:\\Users\\rin\\anaconda3\\envs\\economic_complexity\\Lib\\site-packages\\pandas\\core\\generic.py:6452\u001b[0m, in \u001b[0;36mNDFrame.copy\u001b[1;34m(self, deep)\u001b[0m\n\u001b[0;32m   6342\u001b[0m \u001b[39m@final\u001b[39m\n\u001b[0;32m   6343\u001b[0m \u001b[39mdef\u001b[39;00m \u001b[39mcopy\u001b[39m(\u001b[39mself\u001b[39m: NDFrameT, deep: bool_t \u001b[39m|\u001b[39m \u001b[39mNone\u001b[39;00m \u001b[39m=\u001b[39m \u001b[39mTrue\u001b[39;00m) \u001b[39m-\u001b[39m\u001b[39m>\u001b[39m NDFrameT:\n\u001b[0;32m   6344\u001b[0m \u001b[39m    \u001b[39m\u001b[39m\"\"\"\u001b[39;00m\n\u001b[0;32m   6345\u001b[0m \u001b[39m    Make a copy of this object's indices and data.\u001b[39;00m\n\u001b[0;32m   6346\u001b[0m \n\u001b[1;32m   (...)\u001b[0m\n\u001b[0;32m   6450\u001b[0m \u001b[39m    dtype: object\u001b[39;00m\n\u001b[0;32m   6451\u001b[0m \u001b[39m    \"\"\"\u001b[39;00m\n\u001b[1;32m-> 6452\u001b[0m     data \u001b[39m=\u001b[39m \u001b[39mself\u001b[39;49m\u001b[39m.\u001b[39;49m_mgr\u001b[39m.\u001b[39;49mcopy(deep\u001b[39m=\u001b[39;49mdeep)\n\u001b[0;32m   6453\u001b[0m     \u001b[39mself\u001b[39m\u001b[39m.\u001b[39m_clear_item_cache()\n\u001b[0;32m   6454\u001b[0m     \u001b[39mreturn\u001b[39;00m \u001b[39mself\u001b[39m\u001b[39m.\u001b[39m_constructor(data)\u001b[39m.\u001b[39m__finalize__(\u001b[39mself\u001b[39m, method\u001b[39m=\u001b[39m\u001b[39m\"\u001b[39m\u001b[39mcopy\u001b[39m\u001b[39m\"\u001b[39m)\n",
      "File \u001b[1;32mc:\\Users\\rin\\anaconda3\\envs\\economic_complexity\\Lib\\site-packages\\pandas\\core\\internals\\managers.py:653\u001b[0m, in \u001b[0;36mBaseBlockManager.copy\u001b[1;34m(self, deep)\u001b[0m\n\u001b[0;32m    650\u001b[0m \u001b[39melse\u001b[39;00m:\n\u001b[0;32m    651\u001b[0m     new_axes \u001b[39m=\u001b[39m \u001b[39mlist\u001b[39m(\u001b[39mself\u001b[39m\u001b[39m.\u001b[39maxes)\n\u001b[1;32m--> 653\u001b[0m res \u001b[39m=\u001b[39m \u001b[39mself\u001b[39;49m\u001b[39m.\u001b[39;49mapply(\u001b[39m\"\u001b[39;49m\u001b[39mcopy\u001b[39;49m\u001b[39m\"\u001b[39;49m, deep\u001b[39m=\u001b[39;49mdeep)\n\u001b[0;32m    654\u001b[0m res\u001b[39m.\u001b[39maxes \u001b[39m=\u001b[39m new_axes\n\u001b[0;32m    656\u001b[0m \u001b[39mif\u001b[39;00m \u001b[39mself\u001b[39m\u001b[39m.\u001b[39mndim \u001b[39m>\u001b[39m \u001b[39m1\u001b[39m:\n\u001b[0;32m    657\u001b[0m     \u001b[39m# Avoid needing to re-compute these\u001b[39;00m\n",
      "File \u001b[1;32mc:\\Users\\rin\\anaconda3\\envs\\economic_complexity\\Lib\\site-packages\\pandas\\core\\internals\\managers.py:352\u001b[0m, in \u001b[0;36mBaseBlockManager.apply\u001b[1;34m(self, f, align_keys, **kwargs)\u001b[0m\n\u001b[0;32m    350\u001b[0m         applied \u001b[39m=\u001b[39m b\u001b[39m.\u001b[39mapply(f, \u001b[39m*\u001b[39m\u001b[39m*\u001b[39mkwargs)\n\u001b[0;32m    351\u001b[0m     \u001b[39melse\u001b[39;00m:\n\u001b[1;32m--> 352\u001b[0m         applied \u001b[39m=\u001b[39m \u001b[39mgetattr\u001b[39;49m(b, f)(\u001b[39m*\u001b[39;49m\u001b[39m*\u001b[39;49mkwargs)\n\u001b[0;32m    353\u001b[0m     result_blocks \u001b[39m=\u001b[39m extend_blocks(applied, result_blocks)\n\u001b[0;32m    355\u001b[0m out \u001b[39m=\u001b[39m \u001b[39mtype\u001b[39m(\u001b[39mself\u001b[39m)\u001b[39m.\u001b[39mfrom_blocks(result_blocks, \u001b[39mself\u001b[39m\u001b[39m.\u001b[39maxes)\n",
      "File \u001b[1;32mc:\\Users\\rin\\anaconda3\\envs\\economic_complexity\\Lib\\site-packages\\pandas\\core\\internals\\blocks.py:544\u001b[0m, in \u001b[0;36mBlock.copy\u001b[1;34m(self, deep)\u001b[0m\n\u001b[0;32m    542\u001b[0m \u001b[39melse\u001b[39;00m:\n\u001b[0;32m    543\u001b[0m     refs \u001b[39m=\u001b[39m \u001b[39mself\u001b[39m\u001b[39m.\u001b[39mrefs\n\u001b[1;32m--> 544\u001b[0m \u001b[39mreturn\u001b[39;00m \u001b[39mtype\u001b[39;49m(\u001b[39mself\u001b[39;49m)(values, placement\u001b[39m=\u001b[39;49m\u001b[39mself\u001b[39;49m\u001b[39m.\u001b[39;49m_mgr_locs, ndim\u001b[39m=\u001b[39;49m\u001b[39mself\u001b[39;49m\u001b[39m.\u001b[39;49mndim, refs\u001b[39m=\u001b[39;49mrefs)\n",
      "\u001b[1;31mKeyboardInterrupt\u001b[0m: "
     ]
    }
   ],
   "source": [
    "# 出願年基準\n",
    "adate_jp_df = df.copy()\n",
    "adate_jp_df['app_year'] = adate_jp_df['app_year_month_day'].str[:4]\n",
    "adate_jp_df['ipc_class'] = adate_jp_df['ipc'].str[:4]\n",
    "adate_jp_df = adate_jp_df[(adate_jp_df['ipc_class'].notna())&\\\n",
    "                          (adate_jp_df['app_year'].notna())]\n",
    "# print(adate_df['app_year_month_day'].astype(np.float64).max(), adate_df['app_year_month_day'].astype(np.float64).min())\n"
   ]
  },
  {
   "cell_type": "code",
   "execution_count": null,
   "metadata": {},
   "outputs": [],
   "source": [
    "# 登録年基準\n",
    "rdate_jp_df = df.copy()\n",
    "rdate_jp_df['reg_year'] = rdate_jp_df['set_reg_year_month_day'].str[:4]\n",
    "rdate_jp_df['ipc_class'] = rdate_jp_df['ipc'].str[:4]\n",
    "rdate_jp_df = rdate_jp_df[rdate_jp_df['ipc_class'].notna()]\n",
    "# print(rdate_df['set_reg_year_month_day'].astype(np.float64).max(), rdate_df['set_reg_year_month_day'].astype(np.float64).min())\n"
   ]
  },
  {
   "cell_type": "markdown",
   "metadata": {},
   "source": [
    "---\n"
   ]
  },
  {
   "cell_type": "code",
   "execution_count": null,
   "metadata": {},
   "outputs": [],
   "source": [
    "adate_jp_df[adate_jp_df['app_year'].isin([str(y) for y in range(1971, 2015+1)])]\\\n",
    "        [['reg_num', 'right_person_addr', 'right_person_name', 'app_year', 'ipc', 'ipc_class']]\\\n",
    "        .drop_duplicates()\\\n",
    "        .to_csv('../ProcessingData/Original/app_jp_1971_2015.csv', sep=',', encoding='utf-8', index=False)\n",
    "\n",
    "adate_jp_df[['reg_num', 'right_person_addr', 'right_person_name', 'app_year', 'ipc', 'ipc_class']]\\\n",
    "        .drop_duplicates()\\\n",
    "        .to_csv('../ProcessingData/Original/app_jp.csv', sep=',', encoding='utf-8', index=False)\n"
   ]
  },
  {
   "cell_type": "code",
   "execution_count": null,
   "metadata": {},
   "outputs": [
    {
     "name": "stdout",
     "output_type": "stream",
     "text": [
      "186365\n",
      "5216671\n",
      "652\n"
     ]
    }
   ],
   "source": [
    "print(adate_jp_df['right_person_name'].nunique())\n",
    "print(adate_jp_df['reg_num'].nunique())\n",
    "print(adate_jp_df['ipc_class'].nunique())"
   ]
  },
  {
   "cell_type": "code",
   "execution_count": null,
   "metadata": {},
   "outputs": [],
   "source": [
    "rdate_jp_df[rdate_jp_df['reg_year'].isin([str(y) for y in range(1971, 2010+1)])]\\\n",
    "        [['reg_num', 'right_person_addr', 'right_person_name', 'reg_year', 'ipc', 'ipc_class']]\\\n",
    "        .drop_duplicates()\\\n",
    "        .to_csv('../ProcessingData/Original/reg_jp_1971_2010.csv', sep=',', encoding='utf-8', index=False)\n",
    "\n",
    "rdate_jp_df[['reg_num', 'right_person_addr', 'right_person_name', 'reg_year', 'ipc', 'ipc_class']]\\\n",
    "        .drop_duplicates()\\\n",
    "        .to_csv('../ProcessingData/Original/reg_jp.csv', sep=',', encoding='utf-8', index=False)\n"
   ]
  }
 ],
 "metadata": {
  "kernelspec": {
   "display_name": "Python 3",
   "language": "python",
   "name": "python3"
  },
  "language_info": {
   "codemirror_mode": {
    "name": "ipython",
    "version": 3
   },
   "file_extension": ".py",
   "mimetype": "text/x-python",
   "name": "python",
   "nbconvert_exporter": "python",
   "pygments_lexer": "ipython3",
   "version": "3.11.4"
  }
 },
 "nbformat": 4,
 "nbformat_minor": 2
}
