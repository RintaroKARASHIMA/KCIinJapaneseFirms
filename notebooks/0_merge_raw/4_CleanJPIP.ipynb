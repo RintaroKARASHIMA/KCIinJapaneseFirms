{
 "cells": [
  {
   "cell_type": "code",
   "execution_count": 3,
   "metadata": {},
   "outputs": [],
   "source": [
    "import pandas as pd\n",
    "import numpy as np\n"
   ]
  },
  {
   "cell_type": "code",
   "execution_count": 4,
   "metadata": {},
   "outputs": [],
   "source": [
    "global data_dir\n",
    "data_dir = '../../data/original/internal/stack/JPIP/'\n",
    "output_dir = '../../data/interim/internal/stack/'\n"
   ]
  },
  {
   "cell_type": "code",
   "execution_count": 5,
   "metadata": {},
   "outputs": [],
   "source": [
    "needed_col_dict = {\n",
    "                   'upd_dsptch_fin_ipc.tsv':[\n",
    "                                            'doc_key_num', # 文献番号\n",
    "                                            'ipc', # IPC\n",
    "                                            'first_class_flg'\n",
    "                                            ]\n",
    "                   }\n"
   ]
  },
  {
   "cell_type": "code",
   "execution_count": 6,
   "metadata": {},
   "outputs": [],
   "source": [
    "original_df_dict = {file: pd.read_csv(data_dir + file, \n",
    "                                       sep='\\t', \n",
    "                                       encoding='utf-8', \n",
    "                                       dtype=str, \n",
    "                                       usecols=needed_col_dict[file])\\\n",
    "                    for file in needed_col_dict.keys()}\n"
   ]
  },
  {
   "cell_type": "code",
   "execution_count": 7,
   "metadata": {},
   "outputs": [
    {
     "data": {
      "text/html": [
       "<div>\n",
       "<style scoped>\n",
       "    .dataframe tbody tr th:only-of-type {\n",
       "        vertical-align: middle;\n",
       "    }\n",
       "\n",
       "    .dataframe tbody tr th {\n",
       "        vertical-align: top;\n",
       "    }\n",
       "\n",
       "    .dataframe thead th {\n",
       "        text-align: right;\n",
       "    }\n",
       "</style>\n",
       "<table border=\"1\" class=\"dataframe\">\n",
       "  <thead>\n",
       "    <tr style=\"text-align: right;\">\n",
       "      <th></th>\n",
       "      <th>ipc</th>\n",
       "      <th>app_num</th>\n",
       "    </tr>\n",
       "  </thead>\n",
       "  <tbody>\n",
       "    <tr>\n",
       "      <th>0</th>\n",
       "      <td>C09K  11/08</td>\n",
       "      <td>1922006696</td>\n",
       "    </tr>\n",
       "    <tr>\n",
       "      <th>1</th>\n",
       "      <td>C07D 209/38</td>\n",
       "      <td>1923001029</td>\n",
       "    </tr>\n",
       "    <tr>\n",
       "      <th>2</th>\n",
       "      <td>C12N   9/98</td>\n",
       "      <td>1923002006</td>\n",
       "    </tr>\n",
       "    <tr>\n",
       "      <th>3</th>\n",
       "      <td>C12N   9/64</td>\n",
       "      <td>1923002871</td>\n",
       "    </tr>\n",
       "    <tr>\n",
       "      <th>4</th>\n",
       "      <td>B29B   9/00</td>\n",
       "      <td>1923003910</td>\n",
       "    </tr>\n",
       "    <tr>\n",
       "      <th>...</th>\n",
       "      <td>...</td>\n",
       "      <td>...</td>\n",
       "    </tr>\n",
       "    <tr>\n",
       "      <th>49474786</th>\n",
       "      <td>C21D   8/12</td>\n",
       "      <td>2022571898</td>\n",
       "    </tr>\n",
       "    <tr>\n",
       "      <th>49474792</th>\n",
       "      <td>G01P   3/42</td>\n",
       "      <td>2022573780</td>\n",
       "    </tr>\n",
       "    <tr>\n",
       "      <th>49474793</th>\n",
       "      <td>G01P   3/42</td>\n",
       "      <td>2022573782</td>\n",
       "    </tr>\n",
       "    <tr>\n",
       "      <th>49474796</th>\n",
       "      <td>B32B  27/10</td>\n",
       "      <td>2022575791</td>\n",
       "    </tr>\n",
       "    <tr>\n",
       "      <th>49474798</th>\n",
       "      <td>G06Q  40/12</td>\n",
       "      <td>2023004844</td>\n",
       "    </tr>\n",
       "  </tbody>\n",
       "</table>\n",
       "<p>15530200 rows × 2 columns</p>\n",
       "</div>"
      ],
      "text/plain": [
       "                  ipc     app_num\n",
       "0         C09K  11/08  1922006696\n",
       "1         C07D 209/38  1923001029\n",
       "2         C12N   9/98  1923002006\n",
       "3         C12N   9/64  1923002871\n",
       "4         B29B   9/00  1923003910\n",
       "...               ...         ...\n",
       "49474786  C21D   8/12  2022571898\n",
       "49474792  G01P   3/42  2022573780\n",
       "49474793  G01P   3/42  2022573782\n",
       "49474796  B32B  27/10  2022575791\n",
       "49474798  G06Q  40/12  2023004844\n",
       "\n",
       "[15530200 rows x 2 columns]"
      ]
     },
     "execution_count": 7,
     "metadata": {},
     "output_type": "execute_result"
    }
   ],
   "source": [
    "ipc_df = original_df_dict['upd_dsptch_fin_ipc.tsv'].copy()\n",
    "\n",
    "ipc_df['patent_flag'] = ipc_df['doc_key_num'].str[:1]\n",
    "# ipc_df['doc_key_num'] = ipc_df['doc_key_num'].astype(np.int64) # ここでエラーが出れば，例外処理が必要\n",
    "ipc_df['app_num'] = ipc_df['doc_key_num'].str[1:]\n",
    "ipc_exception_df = ipc_df[ipc_df['doc_key_num'].str.contains('JPB')].copy()\n",
    "\n",
    "# 特許文献のみを抽出\n",
    "ipc_df = ipc_df[ipc_df['patent_flag']=='1']\\\n",
    "               .reset_index(drop=True)\\\n",
    "               .drop(['patent_flag', 'doc_key_num'], axis='columns')\n",
    "\n",
    "# 第一分類を使用\n",
    "ipc_df = ipc_df[ipc_df['first_class_flg']=='F'][['ipc', 'app_num']]\n",
    "ipc_df\n"
   ]
  },
  {
   "cell_type": "code",
   "execution_count": 8,
   "metadata": {},
   "outputs": [],
   "source": [
    "ipc_df.to_csv(f'{output_dir}ipc.csv', \n",
    "              sep=',', \n",
    "              encoding='utf-8', \n",
    "              index=False)\n"
   ]
  },
  {
   "cell_type": "code",
   "execution_count": 9,
   "metadata": {},
   "outputs": [],
   "source": [
    "# ipc_exception_df.to_csv('../Data/Extracted/ipc_exception.csv', sep=',', encoding='utf-8', index=False)\n"
   ]
  }
 ],
 "metadata": {
  "kernelspec": {
   "display_name": "Python 3",
   "language": "python",
   "name": "python3"
  },
  "language_info": {
   "codemirror_mode": {
    "name": "ipython",
    "version": 3
   },
   "file_extension": ".py",
   "mimetype": "text/x-python",
   "name": "python",
   "nbconvert_exporter": "python",
   "pygments_lexer": "ipython3",
   "version": "3.11.7"
  }
 },
 "nbformat": 4,
 "nbformat_minor": 2
}
