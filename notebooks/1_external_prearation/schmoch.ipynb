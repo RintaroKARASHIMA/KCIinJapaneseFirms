{
 "cells": [
  {
   "cell_type": "code",
   "execution_count": null,
   "metadata": {},
   "outputs": [],
   "source": [
    "import pandas as pd\n",
    "import numpy as np\n",
    "import re\n",
    "from glob import glob\n",
    "import regex\n",
    "from googletrans import Translator\n"
   ]
  },
  {
   "cell_type": "code",
   "execution_count": null,
   "metadata": {},
   "outputs": [],
   "source": [
    "global data_dir, output_dir\n",
    "data_dir = '../../data/original/external/schmoch/'\n",
    "output_dir = '../../data/processed/external/schmoch/'\n"
   ]
  },
  {
   "cell_type": "code",
   "execution_count": null,
   "metadata": {},
   "outputs": [],
   "source": [
    "df_dict = pd.read_excel(f'{data_dir}ipc_technology.xlsx', \n",
    "                        sheet_name=None, \n",
    "                        engine='openpyxl', \n",
    "                        header=6, \n",
    "                        usecols=['Field_number', 'Field_en', 'IPC_code'])\n",
    "df_dict.keys()"
   ]
  },
  {
   "cell_type": "code",
   "execution_count": null,
   "metadata": {},
   "outputs": [],
   "source": [
    "df_35 = df_dict['35 Fields of Technology'].copy()\n",
    "df_35['IPC_code'] = df_35['IPC_code'].str.replace('%', '')\n",
    "df_35\n"
   ]
  },
  {
   "cell_type": "code",
   "execution_count": null,
   "metadata": {},
   "outputs": [],
   "source": [
    "schmoch5_dict = {'Digital communication': 'Electrical engineering',\n",
    " 'Telecommunications': 'Electrical engineering',\n",
    " 'Computer technology': 'Electrical engineering',\n",
    " 'Audio-visual technology': 'Electrical engineering',\n",
    " 'IT methods for management': 'Electrical engineering',\n",
    " 'Pharmaceuticals': 'Chemistry, pharmaceuticals',\n",
    " 'Organic fine chemistry': 'Chemistry, pharmaceuticals',\n",
    " 'Basic communication processes': 'Electrical engineering',\n",
    " 'Optics': 'Instruments',\n",
    " 'Semiconductors': 'Electrical engineering',\n",
    " 'Biotechnology': 'Instruments',\n",
    " 'Medical technology': 'Electrical engineering',\n",
    " 'Micro-structural and nano-technology': 'Chemistry, pharmaceuticals',\n",
    " 'Measurement': 'Instruments',\n",
    " 'Food chemistry': 'Chemistry, pharmaceuticals',\n",
    " 'Control': 'Instruments',\n",
    " 'Furniture, games': 'Other fields',\n",
    " 'Basic materials chemistry': 'Chemistry, pharmaceuticals',\n",
    " 'Chemical engineering': 'Chemistry, pharmaceuticals',\n",
    " 'Environmental technology': 'Chemistry, pharmaceuticals',\n",
    " 'Macromolecular chemistry, polymers': 'Chemistry, pharmaceuticals',\n",
    " 'Engines, pumps, turbines': 'Mechanical engineering, machinery',\n",
    " 'Electrical machinery, apparatus, energy': 'Electrical engineering',\n",
    " 'Textile and paper machines': 'Mechanical engineering, machinery',\n",
    " 'Other consumer goods': 'Other fields',\n",
    " 'Civil engineering': 'Other fields',\n",
    " 'Materials, metallurgy': 'Chemistry, pharmaceuticals',\n",
    " 'Other special machines': 'Mechanical engineering, machinery',\n",
    " 'Thermal processes and apparatus': 'Mechanical engineering, machinery',\n",
    " 'Surface technology, coating': 'Chemistry, pharmaceuticals',\n",
    " 'Transport': 'Mechanical engineering, machinery',\n",
    " 'Handling': 'Mechanical engineering, machinery',\n",
    " 'Mechanical elements': 'Mechanical engineering, machinery',\n",
    " 'Machine tools': 'Mechanical engineering, machinery',\n",
    " 'Analysis of biological materials': 'Instruments'}"
   ]
  },
  {
   "cell_type": "code",
   "execution_count": null,
   "metadata": {},
   "outputs": [],
   "source": [
    "df_5 = df_35.copy()\n",
    "df_5['Field_en'] = df_5['Field_en'].map(schmoch5_dict)\n",
    "df_5"
   ]
  },
  {
   "cell_type": "code",
   "execution_count": null,
   "metadata": {},
   "outputs": [],
   "source": [
    "df_35['schmoch5'] = df_35['Field_en'].map(schmoch5_dict)\n",
    "df_35"
   ]
  },
  {
   "cell_type": "code",
   "execution_count": null,
   "metadata": {},
   "outputs": [],
   "source": [
    "df_35.to_csv(f'{output_dir}35.csv', \n",
    "             sep=',', \n",
    "             encoding='utf-8', \n",
    "             index=False)\n"
   ]
  },
  {
   "cell_type": "code",
   "execution_count": null,
   "metadata": {},
   "outputs": [],
   "source": [
    "description_str = '''1. Electrical machinery, apparatus, energy: the field primarily covers the non-electronic part of electrical engineering, for instance, the generation, conversion and distribution of electric power, electric machines but also basic electric elements such as resistors, magnets, capacitors, lamps or cables. This field is often associated with “traditional” electrical engineering, but the high patent activity shows that technological innovation is still very important.\n",
    "2. Audio-visual technology: audio-visual technology is largely equivalent to consumer electronics. The relevant IPC codes primarily refer to technologies and only sometimes products are directly addressed (H04R Loudspeakers ..., H04S Stereophonic systems)\n",
    "3. Telecommunications: telecommunications is a very broad field covering a variety of techniques and products. The IPC codes are often quite technology-oriented, so that it is difficult to separate relevant product/applications areas such as mobile communication in a clear-cut field.\n",
    "4. Digital communication: in the ISI-OST-INPI classification, this field was part of telecommunications. At present, it is a self-contained technology at the border between telecommunications and computer technology. A core application of this technology is the internet.\n",
    "5. Basic communication processes: in the ISI-OST-INPI classification, this field was part of telecommunications. It covers very basic technologies such as oscillation, modulation, resonant circuits, impulse technique, coding/decoding. These techniques are used in telecommunications, computer technology, measurement, control. However, the explicit link to these fields by multiple classification is moderate, in the case of telecommunications 2.4 percent. So the definition as a separate field is justified. However, with 0.9 percent of all applications in 2005, it is the smallest fields of the present version of the classification.\n",
    "6. Computer technology: this field is the largest of the proposed classification with 6.4 percent of all applications in 2005. Its size is already reduced by extracting field 7. The core area of C06F (Electrical digital processing) is defined in a very technical way (Arrangement for programme control, methods and arrangements for data conversion ...), so that a further break-down is difficult. It may be possible to separate specific application fields such as image data processing, recognition of data or speech analysis, but then these special fields may become too small.\n",
    "7. IT methods for management: a major improvement of IPC8 is the introduction of the sub-class G06Q “Data processing methods, specially adapted for administrative, commercial, financial, managerial, supervisory or forecasting purposes”. This field represents software for these special purposes. In most countries, business methods are not patentable, but if they are admitted, they are registered in this sub-class. In any case, the size of this field is relevant with 1.2 percent of all applications in 2005. A combination of the fields 3 to 7 represents information technology in general. As the overlap is limited, this can be done by simple addition. The correct way is to combine the fields without double counting (unit)\n",
    "8. Semiconductors: the field comprises semiconductors including methods for their production. Integrated circuits or photovoltaic elements belong to this field. The field includes microstructural technology (B81), as the number of applications in this sub-field is too small for a separate field.\n",
    "9. Optics: this field covers all parts of traditional optical elements and apparatus, but also laser beam sources. In recent years new optical technologies such as optical switching have become more relevant.\n",
    "10. Measurement: this field covers a broad variety of different techniques and applications. It would be possible to differentiate special sub-fields such as measuring of mechanical properties (length, oscillation, speed ...), but these sub-fields are generally too small.\n",
    "11. Analysis of biological materials: this is the largest sub-field of “measurement” and was defined as a separate field. It primarily refers to the analysis of blood for medical purposes. In many cases, biotechnological methods are addressed.\n",
    "12. Control: In the ISI-OST-INPI classification, this field was part of measuring & control. In recent years the part of control has become quantitatively more important, so that an independent field is justified. The field covers elements for controlling and regulating electrical and non-electrical systems and referring test arrangements, traffic control or signalling systems etc.\n",
    "13. Medical technology: Medical technology is generally associated with high technology. However, a large part of the class A61 refers to less sophisticated products and technologies such as operating tables, massage devices, bandages etc. These less complex sub-fields represent a large number of patent applications, and the total field is the second largest of the suggested classification with 6.3 percent of all applications in 2005.\n",
    "14. Organic fine chemistry: without further limitations, the applications in organic chemistry primarily refer to pharmaceuticals. More than 40 percent of the applications have an additional code in pharmaceuticals. As such a large overlap of fields is less appropriate for a classification system, all documents with co-classification in A61K were excluded. The major exception is the group A61K-008, which refers to cosmetics.\n",
    "15. Biotechnology: biotechnology is defined as a separate field, although it is linked to a variety of different applications. Like organic chemistry or computer technology, it is a crosscutting or generic technology. However, the overlap with pharmaceuticals is too large, with a share of nearly 30 percent. Therefore, as in organic chemistry, applications with explicit co-classification in A61K are excluded.\n",
    "16. Pharmaceuticals: this field refers to an area of application, not a technology. However, the key sub-class A61K is primarily organized by technologies (e.g., medicinal preparations containing inorganic active ingredients …). Cosmetics are explicitly excluded from the field; these represent about 10 percent of all applications classified in A61K.\n",
    "17. Macromolecular chemistry, polymers: this field contains the chemical aspects of polymers. Machines for producing articles from plastics are classified in B29 and not included.\n",
    "18. Food chemistry: this field represents 1.3 percent of the applications in 2005 and is one of the smallest fields in this classification. However, the growth of this field is remarkable, so that a higher weight can be assumed for the next years. Machines for food production are not included, but classified as part of field 28 (other special machines)\n",
    "19. Basic materials chemistry: This field primarily covers typical mass chemicals such as herbicides, fertilisers, paints, petroleum, gas, detergents etc.\n",
    "20. Materials, metallurgy: This field covers all types of metals, ceramics, glass or processes for the manufacture of steel.\n",
    "21. Surface technology, coating: The coating of metals, generally with advanced methods represents the core of this field (C23). Furthermore it covers electrolytic processes, crystal growth and apparatus for applying liquids to surfaces. This field may be qualified as the high-tech part of field 20.\n",
    "22. Micro-structure and nano-technology: This field covers micro-structural devices or systems, including at least one essential element or formation characterised by its very small size. It includes nano-structures having specialised features directly related to their size.\n",
    "23. Chemical engineering: This field covers technologies at the borderline of chemistry and engineering. It refers to apparatus and processes for the industrial production of chemicals. Some of these processes may be classified as physical ones.\n",
    "24. Environmental technology: This field covers a variety of different technologies and applications, in particular filters, waste disposal, water cleaning (a quite large area), gas-flow silencers and exhaust apparatus, waste combustion or noise absorption walls. However, it is not possible to define measuring of environmental pollution by IPC codes in a comprehensive way.\n",
    "25. Handling: This field comprises elevators, cranes or robots, but also packaging devices. So in terms of research intensity, the field is quite heterogeneous.\n",
    "26. Machine tools: The field is dominated by patent applications referring to turning, boring, grinding, soldering or cutting with a focus on metals.\n",
    "27. Engines, pumps, turbines: This field covers non-electrical engines for all types of applications. In quantitative terms, applications for automobiles dominate.\n",
    "28. Textile and paper machines: The fields 27 and 28 cover machines for specific production purposes. Textile and food machines represent the most relevant part of these machines and are classified separately.\n",
    "29. Other special machines: see field 26.\n",
    "30. Thermal processes and apparatus: The field covers applications such as steam generation, combustion, heating, refrigeration, cooling or heat exchange.\n",
    "31. Mechanical elements: The field covers fluid-circuit elements, joints, shafts, couplings, valves, pipe-line systems or mechanical control devices. The focus is on engineering elements of machines such as joints or couplings.\n",
    "32. Transport: the field covers all types of transport technology and applications with dominance of automotive technology. In principle, a separation of rail traffic and air traffic would be feasible, but the associated fields would be too small. In both cases, this is due to a low propensity to patent. The samples are quite small and not representative of the total technological activities in these sub-fields.\n",
    "33. Furniture, games: this field represents the main parts of consumer goods in terms of the number of patent applications. The other consumer goods are a mix of many different technologies, all of them with low quantitative weight. Therefore a further differentiation is not useful. Even furniture and games combined comprise not more than 2.3 percent of all applications in 2005.\n",
    "34. Other consumer goods: this field primarily represents less research-intensive sub-fields.\n",
    "35. Civil engineering: the field covers construction of roads and buildings as well as elements of buildings such as locks, plumbing installations or strongrooms for valuables. A special part refers to mining which may be important for some countries. In general, the importance of this field is so low that the definition of a separate field is not justified.\n",
    "'''\n",
    "description_list = description_str.split('\\n')\n",
    "description_dict = {\n",
    "                    'field': [field.split(':')[0].split('. ')[-1] for field in description_list][:-1],\n",
    "                    'description': [description.split(':')[-1][1:] for description in description_list][:-1]\n",
    "                    }\n",
    "description_en_df = pd.DataFrame(description_dict)\n",
    "description_en_df.index += 1\n",
    "description_en_df.to_csv(f'{output_dir}35_description_en.csv', \n",
    "                        sep=',', \n",
    "                        encoding='utf-8', \n",
    "                        index=False)\n"
   ]
  },
  {
   "cell_type": "code",
   "execution_count": null,
   "metadata": {},
   "outputs": [],
   "source": [
    "description_ja_df = description_en_df.copy()\n",
    "translator =Translator()\n",
    "for i, row in description_ja_df.iterrows():\n",
    "     description_ja_df.loc[i, 'field'] = translator.translate(text=row['field'], dest=\"ja\").text\n",
    "     description_ja_df.loc[i, 'description'] = translator.translate(text=row['description'], dest=\"ja\").text\n",
    "description_ja_df.to_csv(f'{output_dir}35_description_ja.csv', \n",
    "                         sep=',',\n",
    "                         encoding='utf-8',\n",
    "                         index=False)\n"
   ]
  },
  {
   "cell_type": "code",
   "execution_count": null,
   "metadata": {},
   "outputs": [],
   "source": [
    "description_df = pd.concat([description_en_df.rename(columns={'field':'field_en', 'description':'description_en'}), \n",
    "                            description_ja_df.rename(columns={'field':'field_ja', 'description':'description_ja'})], \n",
    "                           axis='columns')[['field_en', 'field_ja', 'description_en', 'description_ja']]\n",
    "description_df.to_csv(f'{output_dir}35_description.csv',\n",
    "                      sep=',',\n",
    "                      encoding='utf-8',\n",
    "                      index=False)"
   ]
  },
  {
   "cell_type": "code",
   "execution_count": null,
   "metadata": {},
   "outputs": [],
   "source": [
    "description_df"
   ]
  },
  {
   "cell_type": "markdown",
   "metadata": {},
   "source": [
    "---\n"
   ]
  },
  {
   "cell_type": "code",
   "execution_count": null,
   "metadata": {},
   "outputs": [],
   "source": [
    "# energyを細かく見る場合\n",
    "df = pd.concat([value for value in df_dict.values()], \n",
    "               axis=\"index\", \n",
    "               ignore_index=True)\\\n",
    "    .drop_duplicates(subset=['IPC_code'], keep='first')\n",
    "df['IPC_code'] = df['IPC_code'].str.replace('%', '').str.replace('#', '')\n",
    "df['IPC_class'] = df['IPC_code'].str.replace('%', '').str.replace('#', '').str[:3]\n",
    "df['IPC_subclass'] = df['IPC_code'].str.replace('%', '').str.replace('#', '').str[:4]\n",
    "df\n"
   ]
  },
  {
   "cell_type": "code",
   "execution_count": null,
   "metadata": {},
   "outputs": [],
   "source": [
    "df[(df['IPC_code'] != df['IPC_subclass']) & (df['IPC_code'] != df['IPC_class'])]"
   ]
  },
  {
   "cell_type": "code",
   "execution_count": null,
   "metadata": {},
   "outputs": [],
   "source": [
    "for uni_str in df[(df['IPC_code'] != df['IPC_subclass']) & (df['IPC_code'] != df['IPC_class'])]['IPC_subclass'].unique():\n",
    "    print('=======================================')\n",
    "    display(df[df['IPC_code']==uni_str])\n",
    "    display(df[df['IPC_subclass']==uni_str])"
   ]
  }
 ],
 "metadata": {
  "kernelspec": {
   "display_name": "economic_complexity",
   "language": "python",
   "name": "python3"
  },
  "language_info": {
   "codemirror_mode": {
    "name": "ipython",
    "version": 3
   },
   "file_extension": ".py",
   "mimetype": "text/x-python",
   "name": "python",
   "nbconvert_exporter": "python",
   "pygments_lexer": "ipython3",
   "version": "3.11.7"
  }
 },
 "nbformat": 4,
 "nbformat_minor": 2
}
