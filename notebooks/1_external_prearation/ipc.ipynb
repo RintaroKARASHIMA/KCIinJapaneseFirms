{
 "cells": [
  {
   "cell_type": "code",
   "execution_count": null,
   "metadata": {},
   "outputs": [],
   "source": [
    "import pandas as pd\n",
    "import numpy as np\n",
    "from glob import glob\n",
    "import re\n",
    "import unicodedata\n",
    "# import mojimoji\n"
   ]
  },
  {
   "cell_type": "code",
   "execution_count": null,
   "metadata": {},
   "outputs": [],
   "source": [
    "path_list = glob('../Data/Original/*')\n",
    "# path_list\n"
   ]
  },
  {
   "cell_type": "code",
   "execution_count": null,
   "metadata": {},
   "outputs": [],
   "source": [
    "# 元データ読み込み\n",
    "# original_df_list = [pd.read_excel(path, engine='openpyxl') for path in path_list]\n",
    "original_df = pd.concat([pd.read_excel(path, engine='openpyxl') for path in path_list], axis='index').iloc[:, [1, 3]]\n",
    "# original_df\n"
   ]
  },
  {
   "cell_type": "code",
   "execution_count": null,
   "metadata": {},
   "outputs": [],
   "source": [
    "# 3ケタ\n",
    "digit3_df = original_df.copy()\n",
    "digit3_df = digit3_df[(digit3_df['記号'].astype(str).str.len() <= 4)\\\n",
    "        & (digit3_df['記号'].astype(str).str.len() != 1)].fillna(np.nan)\n",
    "digit3_df['記号'] = digit3_df['記号'].replace('＜注＞', np.nan).ffill()\n",
    "digit3_df = digit3_df[digit3_df['記号'].astype(str).str.len()==3]\\\n",
    "                     .reset_index(drop=True)\n",
    "digit3_df['タイトル'] = digit3_df['タイトル'].astype(str).str.replace('\\u3000|\\t|\\n', '')\n",
    "digit3_df = digit3_df.groupby('記号').agg({'タイトル': '\\n'.join}).reset_index()\n",
    "digit3_df\n",
    "digit3_df.to_csv('../Data/Dealed/ipc_3digit.csv', sep=',', encoding='utf-8', index=False)\n"
   ]
  },
  {
   "cell_type": "code",
   "execution_count": null,
   "metadata": {},
   "outputs": [],
   "source": [
    "# 4ケタ\n",
    "df = original_df.copy().dropna(axis='index')\n",
    "df = df[df['記号'].str.contains(r'^[A-Z]{1}\\d{2}[A-Z]{1}$')].reset_index(drop=True)\\\n",
    "                  .rename(columns={'記号':'class', 'タイトル':'class_jp'})\n",
    "for ind in range(len(df)):\n",
    "    df.loc[ind, 'class_jp'] = unicodedata.normalize('NFKC', df.loc[ind, 'class_jp'])\n",
    "df\n",
    "for s in ['\\u3000', '\\t', '\\n', r'']:\n",
    "    df['class_jp'] = df['class_jp'].str.replace(s, '')\n",
    "display(df.head())\n",
    "display(df.info())\n"
   ]
  },
  {
   "cell_type": "code",
   "execution_count": null,
   "metadata": {},
   "outputs": [],
   "source": [
    "for ind in range(len(df)):\n",
    "    df.loc[ind, 'class_jp'] = unicodedata.normalize('NFKC', df.loc[ind, 'class_jp'])\n",
    "df"
   ]
  },
  {
   "cell_type": "code",
   "execution_count": null,
   "metadata": {},
   "outputs": [],
   "source": [
    "# df[df['class_jp'].str.contains(r'[０-９]')]\n",
    "\n",
    "for ind in range(len(df)):\n",
    "    df.loc[ind, 'class_jp'] = mojimoji.zen_to_han(df.loc[ind, 'class_jp'], kana=False, ascii=False, digit=True)\n",
    "df"
   ]
  },
  {
   "cell_type": "code",
   "execution_count": null,
   "metadata": {},
   "outputs": [],
   "source": [
    "df['class_jp'].unique()"
   ]
  },
  {
   "cell_type": "code",
   "execution_count": null,
   "metadata": {},
   "outputs": [],
   "source": [
    "df.to_csv('../Data/Dealed/IPC_class4digit.csv', sep=',', encoding='utf-8')"
   ]
  }
 ],
 "metadata": {
  "kernelspec": {
   "display_name": "Python 3",
   "language": "python",
   "name": "python3"
  },
  "language_info": {
   "codemirror_mode": {
    "name": "ipython",
    "version": 3
   },
   "file_extension": ".py",
   "mimetype": "text/x-python",
   "name": "python",
   "nbconvert_exporter": "python",
   "pygments_lexer": "ipython3",
   "version": "3.11.7"
  }
 },
 "nbformat": 4,
 "nbformat_minor": 2
}
