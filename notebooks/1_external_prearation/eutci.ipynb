{
 "cells": [
  {
   "cell_type": "code",
   "execution_count": null,
   "metadata": {},
   "outputs": [],
   "source": [
    "import pandas as pd\n",
    "import numpy as np"
   ]
  },
  {
   "cell_type": "code",
   "execution_count": null,
   "metadata": {},
   "outputs": [],
   "source": [
    "original_colors_list = [\n",
    "        '#ff0000',\n",
    "        '#ff5000',\n",
    "        '#ffa100',\n",
    "        '#fff100',\n",
    "        '#bbff00',\n",
    "        '#6bff00',\n",
    "        '#1aff00',\n",
    "        '#00ff35',\n",
    "        '#00ff86',\n",
    "        '#00ffd6',\n",
    "        '#00d6ff',\n",
    "        '#0086ff',\n",
    "        '#0035ff',\n",
    "        '#1a00ff',\n",
    "        '#6b00ff',\n",
    "        '#bb00ff',\n",
    "        '#ff00f1',\n",
    "        '#ff00a1',\n",
    "        '#ff0050',\n",
    "        '#ff0000',\n",
    "    ]"
   ]
  },
  {
   "cell_type": "code",
   "execution_count": null,
   "metadata": {},
   "outputs": [],
   "source": [
    "content_list = [\n",
    "    [\"Digital communication\", \"Electrical engineering\", \"24566\", \"100\"],\n",
    "    [\"Telecommunications\", \"Electrical engineering\", \"34007\", \"96.97\"],\n",
    "    [\"Computer technology\", \"Electrical engineering\", \"34246\", \"93.94\"],\n",
    "    [\"Audio-visual technology\", \"Electrical engineering\", \"21662\", \"90.91\"],\n",
    "    [\"IT methods for management\", \"Electrical engineering\", \"5565\", \"87.88\"],\n",
    "    [\"Pharmaceuticals\", \"Chemistry\", \"62999\", \"84.85\"],\n",
    "    [\"Organic fine chemistry\", \"Chemistry\", \"99687\", \"81.82\"],\n",
    "    [\"Basic communication processes\", \"Electrical engineering\", \"6284\", \"78.79\"],\n",
    "    [\"Optics\", \"Instruments\", \"17771\", \"75.76\"],\n",
    "    [\"Semiconductors\", \"Electrical engineering\", \"17315\", \"72.73\"],\n",
    "    [\"Biotechnology\", \"Instruments\", \"38361\", \"69.7\"],\n",
    "    [\"Medical technology\", \"Electrical engineering\", \"46350\", \"66.67\"],\n",
    "    [\"Micro-structural and nano-technology\", \"Chemistry\", \"2481\", \"63.64\"],\n",
    "    [\"Measurement\", \"Instruments\", \"60591\", \"60.61\"],\n",
    "    [\"Food chemistry\", \"Chemistry\", \"14635\", \"57.58\"],\n",
    "    [\"Control\", \"Instruments\", \"17246\", \"54.55\"],\n",
    "    [\"Furniture, games\", \"Other fields\", \"17389\", \"51.52\"],\n",
    "    [\"Basic materials chemistry\", \"Chemistry\", \"43406\", \"48.48\"],\n",
    "    [\"Chemical engineering\", \"Chemistry\", \"38982\", \"45.45\"],\n",
    "    [\"Environmental technology\", \"Chemistry\", \"10611\", \"42.42\"],\n",
    "    [\"Macromolecular chemistry, polymers\", \"Chemistry\", \"34069\", \"39.39\"],\n",
    "    [\"Engines, pumps, turbines\", \"Mechanical engineering, machinery\", \"38953\", \"36.36\"],\n",
    "    [\"Electrical machinery, apparatus, energy\", \"Electrical engineering\", \"57052\", \"33.33\"],\n",
    "    [\"Textile and paper machines\", \"Mechanical engineering, machinery\", \"21638\", \"30.3\"],\n",
    "    [\"Other consumer goods\", \"Other fields\", \"20302\", \"27.27\"],\n",
    "    [\"Civil engineering\", \"Other fields\", \"32346\", \"24.24\"],\n",
    "    [\"Materials, metallurgy\", \"Chemistry\", \"23955\", \"21.21\"],\n",
    "    [\"Other special machines\", \"Mechanical engineering, machinery\", \"37208\", \"18.18\"],\n",
    "    [\"Thermal processes and apparatus\", \"Mechanical engineering, machinery\", \"23146\", \"15.15\"],\n",
    "    [\"Surface technology, coating\", \"Chemistry\", \"18977\", \"12.12\"],\n",
    "    [\"Transport\", \"Mechanical engineering, machinery\", \"58920\", \"9.09\"],\n",
    "    [\"Handling\", \"Mechanical engineering, machinery\", \"60120\", \"6.06\"],\n",
    "    [\"Mechanical elements\", \"Mechanical engineering, machinery\", \"38604\", \"3.03\"],\n",
    "    ['Machine tools', 'Mechanical engineering, machinery', '0', '0'], \n",
    "    ['Analysis of biological materials', 'Instruments', '0', '0']\n",
    "]"
   ]
  },
  {
   "cell_type": "code",
   "execution_count": null,
   "metadata": {},
   "outputs": [],
   "source": [
    "original_colors_list = [\n",
    "        '#ff0000',\n",
    "        '#ff5000',\n",
    "        '#ffa100',\n",
    "        '#fff100',\n",
    "        '#bbff00',\n",
    "        '#6bff00',\n",
    "        '#1aff00',\n",
    "        '#00ff35',\n",
    "        '#00ff86',\n",
    "        '#00ffd6',\n",
    "        '#00d6ff',\n",
    "        '#0086ff',\n",
    "        '#0035ff',\n",
    "        '#1a00ff',\n",
    "        '#6b00ff',\n",
    "        '#bb00ff',\n",
    "        '#ff00f1',\n",
    "        '#ff00a1',\n",
    "        '#ff0050',\n",
    "        '#ff0000',\n",
    "    ]"
   ]
  },
  {
   "cell_type": "code",
   "execution_count": null,
   "metadata": {},
   "outputs": [],
   "source": [
    "set([content[1] for i, content in enumerate(content_list)])\n",
    "tech_color = {\n",
    "        'Chemistry': '#ff0000',\n",
    "        'Electrical engineering': '#ffa100',\n",
    "        'Instruments': '#1aff00', \n",
    "        'Mechanical engineering, machinery': '#0035ff',\n",
    "        'Other fields': 'gray'\n",
    "    }\n",
    "        # '#ff5000',1\n",
    "        # '#ffa100',2\n",
    "        # '#fff100',3\n",
    "        # '#bbff00',4\n",
    "        # '#6bff00',5\n",
    "        # '#1aff00',6\n",
    "        # '#00ff35',7\n",
    "        # '#00ff86',8\n",
    "        # '#00ffd6',9\n",
    "        # '#00d6ff',10\n",
    "        # '#0086ff',11\n",
    "        # '#0035ff',12\n",
    "        # '#1a00ff',13\n",
    "        # '#6b00ff',14\n",
    "        # '#bb00ff',15\n",
    "        # '#ff00f1',16\n",
    "        # '#ff00a1',17\n",
    "        # '#ff0050',18\n",
    "        # '#ff0000',19"
   ]
  },
  {
   "cell_type": "code",
   "execution_count": null,
   "metadata": {},
   "outputs": [],
   "source": [
    "\n",
    "sample = {content[0]: tech_color[content[1]] for i, content in enumerate(content_list)}\n",
    "sample"
   ]
  },
  {
   "cell_type": "code",
   "execution_count": null,
   "metadata": {},
   "outputs": [],
   "source": [
    "import matplotlib.pyplot as plt\n",
    "import matplotlib.patches as patches\n",
    "\n",
    "def show_color(hex_color):\n",
    "    \"\"\"\n",
    "    Display a color on a canvas based on the provided hexadecimal color code.\n",
    "\n",
    "    Args:\n",
    "    hex_color (str): The hexadecimal color code to display.\n",
    "\n",
    "    Returns:\n",
    "    None\n",
    "    \"\"\"\n",
    "    # Create a figure and a subplot\n",
    "    fig, ax = plt.subplots()\n",
    "    # Create a rectangle patch with the given color and add it to the subplot\n",
    "    rect = patches.Rectangle((0.1, 0.1), 0.6, 0.6, linewidth=1, edgecolor='r', facecolor=hex_color)\n",
    "    ax.add_patch(rect)\n",
    "    # Set limits and turn off axes for clarity\n",
    "    ax.set_xlim(0, 1)\n",
    "    ax.set_ylim(0, 1)\n",
    "    ax.axis('off')\n",
    "    # Show the plot\n",
    "    plt.text(0.5, 0.5, hex_color, ha='center', va='center', fontsize=12, color='black')\n",
    "    plt.show()\n",
    "\n",
    "# Example usage\n",
    "for v in original_colors_list:\n",
    "    show_color(v)\n",
    "# show_color(\"#FF5733\")\n"
   ]
  },
  {
   "cell_type": "code",
   "execution_count": null,
   "metadata": {},
   "outputs": [],
   "source": [
    "df = pd.DataFrame(content_list, columns=[\"schmoch35\", \"schmoch5\", \"reg_num_eu\", \"TCI_eu\"])\n",
    "df[\"period\"] = \"1985-2009\"\n",
    "df"
   ]
  },
  {
   "cell_type": "code",
   "execution_count": null,
   "metadata": {},
   "outputs": [],
   "source": [
    "df.to_csv('../../data/processed/external/abroad/eu.csv', \n",
    "          sep=',', \n",
    "          encoding='utf-8', \n",
    "          index=False)\n"
   ]
  }
 ],
 "metadata": {
  "kernelspec": {
   "display_name": "economic_complexity",
   "language": "python",
   "name": "python3"
  },
  "language_info": {
   "codemirror_mode": {
    "name": "ipython",
    "version": 3
   },
   "file_extension": ".py",
   "mimetype": "text/x-python",
   "name": "python",
   "nbconvert_exporter": "python",
   "pygments_lexer": "ipython3",
   "version": "3.11.7"
  }
 },
 "nbformat": 4,
 "nbformat_minor": 2
}
