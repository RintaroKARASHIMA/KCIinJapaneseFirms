{
 "cells": [
  {
   "cell_type": "code",
   "execution_count": null,
   "metadata": {},
   "outputs": [],
   "source": [
    "import pandas as pd\n",
    "import numpy as np\n",
    "import re\n",
    "from glob import glob\n",
    "import regex\n"
   ]
  },
  {
   "cell_type": "code",
   "execution_count": null,
   "metadata": {},
   "outputs": [],
   "source": [
    "global output_dir\n",
    "output_dir = '../../data/processed/external/letter/'\n"
   ]
  },
  {
   "cell_type": "code",
   "execution_count": null,
   "metadata": {},
   "outputs": [],
   "source": [
    "# 旧字体の辞書作る用のデータ\n",
    "old_new_letter_df = pd.read_html(\n",
    "    'https://www.asahi-net.or.jp/~ax2s-kmtn/ref/old_chara.html',\n",
    "    encoding='utf-8'\n",
    ")\n",
    "\n",
    "df_tmp_list = []\n",
    "for i in [1, 2]:\n",
    "    for c in range(2, 14+1, 6):\n",
    "        df_tmp = old_new_letter_df[i].iloc[:, c:c+1+1]\n",
    "        df_tmp.columns = ['new_jikei', 'old_jikei']\n",
    "        df_tmp_list.append(df_tmp)\n",
    "\n",
    "old_new_letter_df = pd.concat(df_tmp_list, \n",
    "                              axis='index')\\\n",
    "                      .dropna(how='all')\\\n",
    "                      .reset_index(drop=True)\n"
   ]
  },
  {
   "cell_type": "code",
   "execution_count": null,
   "metadata": {},
   "outputs": [],
   "source": [
    "katakana_dict = {\n",
    "    'ァ': 'ア',\n",
    "    'ィ': 'イ',\n",
    "    'ゥ': 'ウ',\n",
    "    'ェ': 'エ',\n",
    "    'ォ': 'オ',\n",
    "    'ヵ': 'カ',\n",
    "    'ヶ': 'ケ',\n",
    "    'ㇰ': 'ク',\n",
    "    'ㇱ': 'シ',\n",
    "    'ㇲ': 'ス',\n",
    "    'ッ': 'ツ',\n",
    "    'ㇳ': 'ト',\n",
    "    'ㇴ': 'ヌ', \n",
    "    'ㇵ': 'ハ',\n",
    "    'ㇶ': 'ヒ',\n",
    "    'ㇷ': 'フ',\n",
    "    'ㇸ': 'ヘ',\n",
    "    'ㇹ': 'ホ',\n",
    "    'ㇺ': 'ム',\n",
    "    'ャ': 'ヤ',\n",
    "    'ュ': 'ユ',\n",
    "    'ョ': 'ヨ',\n",
    "    'ㇻ': 'ラ',\n",
    "    'ㇼ': 'リ',\n",
    "    'ㇽ': 'ル',\n",
    "    'ㇾ': 'レ',\n",
    "    'ㇿ': 'ロ',\n",
    "    'ヮ': 'ワ', \n",
    "    '―': 'ー',  \n",
    "    '－': 'ー',\n",
    "    '－': 'ー'\n",
    "    }"
   ]
  },
  {
   "cell_type": "code",
   "execution_count": null,
   "metadata": {},
   "outputs": [],
   "source": [
    "katakana_df = pd.DataFrame(katakana_dict.items(), \n",
    "                           columns=['old_jikei', 'new_jikei'])\n",
    "# katakana_df"
   ]
  },
  {
   "cell_type": "code",
   "execution_count": null,
   "metadata": {},
   "outputs": [],
   "source": [
    "trans_letter_df = pd.concat([old_new_letter_df, katakana_df], \n",
    "                            axis='index', \n",
    "                            ignore_index=True)\n",
    "trans_letter_df\n"
   ]
  },
  {
   "cell_type": "code",
   "execution_count": null,
   "metadata": {},
   "outputs": [],
   "source": [
    "trans_letter_df.to_csv(f'{output_dir}kanjikana.csv', \n",
    "                       sep=',', \n",
    "                       encoding='utf-8', \n",
    "                       index=False)\n"
   ]
  }
 ],
 "metadata": {
  "kernelspec": {
   "display_name": "economic_complexity",
   "language": "python",
   "name": "python3"
  },
  "language_info": {
   "codemirror_mode": {
    "name": "ipython",
    "version": 3
   },
   "file_extension": ".py",
   "mimetype": "text/x-python",
   "name": "python",
   "nbconvert_exporter": "python",
   "pygments_lexer": "ipython3",
   "version": "3.11.7"
  }
 },
 "nbformat": 4,
 "nbformat_minor": 2
}
