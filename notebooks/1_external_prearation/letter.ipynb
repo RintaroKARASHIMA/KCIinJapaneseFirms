{
 "cells": [
  {
   "cell_type": "code",
   "execution_count": 3,
   "metadata": {},
   "outputs": [],
   "source": [
    "import pandas as pd\n",
    "import numpy as np\n",
    "import re\n",
    "from glob import glob\n",
    "import regex\n"
   ]
  },
  {
   "cell_type": "code",
   "execution_count": 13,
   "metadata": {},
   "outputs": [],
   "source": [
    "global output_dir\n",
    "output_dir = '../../data/processed/external/letter/'\n"
   ]
  },
  {
   "cell_type": "code",
   "execution_count": 4,
   "metadata": {},
   "outputs": [],
   "source": [
    "# 旧字体の辞書作る用のデータ\n",
    "old_new_letter_df = pd.read_html(\n",
    "    'https://www.asahi-net.or.jp/~ax2s-kmtn/ref/old_chara.html',\n",
    "    encoding='utf-8'\n",
    ")\n",
    "\n",
    "df_tmp_list = []\n",
    "for i in [1, 2]:\n",
    "    for c in range(2, 14+1, 6):\n",
    "        df_tmp = old_new_letter_df[i].iloc[:, c:c+1+1]\n",
    "        df_tmp.columns = ['new_jikei', 'old_jikei']\n",
    "        df_tmp_list.append(df_tmp)\n",
    "\n",
    "old_new_letter_df = pd.concat(df_tmp_list, \n",
    "                              axis='index')\\\n",
    "                      .dropna(how='all')\\\n",
    "                      .reset_index(drop=True)\n"
   ]
  },
  {
   "cell_type": "code",
   "execution_count": 9,
   "metadata": {},
   "outputs": [],
   "source": [
    "katakana_dict = {\n",
    "    'ァ': 'ア',\n",
    "    'ィ': 'イ',\n",
    "    'ゥ': 'ウ',\n",
    "    'ェ': 'エ',\n",
    "    'ォ': 'オ',\n",
    "    'ヵ': 'カ',\n",
    "    'ヶ': 'ケ',\n",
    "    'ㇰ': 'ク',\n",
    "    'ㇱ': 'シ',\n",
    "    'ㇲ': 'ス',\n",
    "    'ッ': 'ツ',\n",
    "    'ㇳ': 'ト',\n",
    "    'ㇴ': 'ヌ', \n",
    "    'ㇵ': 'ハ',\n",
    "    'ㇶ': 'ヒ',\n",
    "    'ㇷ': 'フ',\n",
    "    'ㇸ': 'ヘ',\n",
    "    'ㇹ': 'ホ',\n",
    "    'ㇺ': 'ム',\n",
    "    'ャ': 'ヤ',\n",
    "    'ュ': 'ユ',\n",
    "    'ョ': 'ヨ',\n",
    "    'ㇻ': 'ラ',\n",
    "    'ㇼ': 'リ',\n",
    "    'ㇽ': 'ル',\n",
    "    'ㇾ': 'レ',\n",
    "    'ㇿ': 'ロ',\n",
    "    'ヮ': 'ワ', \n",
    "    '―': 'ー',  \n",
    "    '－': 'ー',\n",
    "    '－': 'ー'\n",
    "    }"
   ]
  },
  {
   "cell_type": "code",
   "execution_count": 11,
   "metadata": {},
   "outputs": [],
   "source": [
    "katakana_df = pd.DataFrame(katakana_dict.items(), \n",
    "                           columns=['old_jikei', 'new_jikei'])\n",
    "# katakana_df"
   ]
  },
  {
   "cell_type": "code",
   "execution_count": 12,
   "metadata": {},
   "outputs": [
    {
     "data": {
      "text/html": [
       "<div>\n",
       "<style scoped>\n",
       "    .dataframe tbody tr th:only-of-type {\n",
       "        vertical-align: middle;\n",
       "    }\n",
       "\n",
       "    .dataframe tbody tr th {\n",
       "        vertical-align: top;\n",
       "    }\n",
       "\n",
       "    .dataframe thead th {\n",
       "        text-align: right;\n",
       "    }\n",
       "</style>\n",
       "<table border=\"1\" class=\"dataframe\">\n",
       "  <thead>\n",
       "    <tr style=\"text-align: right;\">\n",
       "      <th></th>\n",
       "      <th>new_jikei</th>\n",
       "      <th>old_jikei</th>\n",
       "    </tr>\n",
       "  </thead>\n",
       "  <tbody>\n",
       "    <tr>\n",
       "      <th>0</th>\n",
       "      <td>亜</td>\n",
       "      <td>亞</td>\n",
       "    </tr>\n",
       "    <tr>\n",
       "      <th>1</th>\n",
       "      <td>囲</td>\n",
       "      <td>圍</td>\n",
       "    </tr>\n",
       "    <tr>\n",
       "      <th>2</th>\n",
       "      <td>壱</td>\n",
       "      <td>壹</td>\n",
       "    </tr>\n",
       "    <tr>\n",
       "      <th>3</th>\n",
       "      <td>飲</td>\n",
       "      <td>飮</td>\n",
       "    </tr>\n",
       "    <tr>\n",
       "      <th>4</th>\n",
       "      <td>栄</td>\n",
       "      <td>榮</td>\n",
       "    </tr>\n",
       "    <tr>\n",
       "      <th>...</th>\n",
       "      <td>...</td>\n",
       "      <td>...</td>\n",
       "    </tr>\n",
       "    <tr>\n",
       "      <th>410</th>\n",
       "      <td>レ</td>\n",
       "      <td>ㇾ</td>\n",
       "    </tr>\n",
       "    <tr>\n",
       "      <th>411</th>\n",
       "      <td>ロ</td>\n",
       "      <td>ㇿ</td>\n",
       "    </tr>\n",
       "    <tr>\n",
       "      <th>412</th>\n",
       "      <td>ワ</td>\n",
       "      <td>ヮ</td>\n",
       "    </tr>\n",
       "    <tr>\n",
       "      <th>413</th>\n",
       "      <td>ー</td>\n",
       "      <td>―</td>\n",
       "    </tr>\n",
       "    <tr>\n",
       "      <th>414</th>\n",
       "      <td>ー</td>\n",
       "      <td>－</td>\n",
       "    </tr>\n",
       "  </tbody>\n",
       "</table>\n",
       "<p>415 rows × 2 columns</p>\n",
       "</div>"
      ],
      "text/plain": [
       "    new_jikei old_jikei\n",
       "0           亜         亞\n",
       "1           囲         圍\n",
       "2           壱         壹\n",
       "3           飲         飮\n",
       "4           栄         榮\n",
       "..        ...       ...\n",
       "410         レ         ㇾ\n",
       "411         ロ         ㇿ\n",
       "412         ワ         ヮ\n",
       "413         ー         ―\n",
       "414         ー         －\n",
       "\n",
       "[415 rows x 2 columns]"
      ]
     },
     "execution_count": 12,
     "metadata": {},
     "output_type": "execute_result"
    }
   ],
   "source": [
    "trans_letter_df = pd.concat([old_new_letter_df, katakana_df], \n",
    "                            axis='index', \n",
    "                            ignore_index=True)\n",
    "trans_letter_df\n"
   ]
  },
  {
   "cell_type": "code",
   "execution_count": 14,
   "metadata": {},
   "outputs": [],
   "source": [
    "trans_letter_df.to_csv(f'{output_dir}kanjikana.csv', \n",
    "                       sep=',', \n",
    "                       encoding='utf-8', \n",
    "                       index=False)\n"
   ]
  }
 ],
 "metadata": {
  "kernelspec": {
   "display_name": "economic_complexity",
   "language": "python",
   "name": "python3"
  },
  "language_info": {
   "codemirror_mode": {
    "name": "ipython",
    "version": 3
   },
   "file_extension": ".py",
   "mimetype": "text/x-python",
   "name": "python",
   "nbconvert_exporter": "python",
   "pygments_lexer": "ipython3",
   "version": "3.11.7"
  }
 },
 "nbformat": 4,
 "nbformat_minor": 2
}
