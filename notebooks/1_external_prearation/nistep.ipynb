{
 "cells": [
  {
   "cell_type": "code",
   "execution_count": null,
   "metadata": {},
   "outputs": [],
   "source": [
    "import pandas as pd\n",
    "import numpy as np\n"
   ]
  },
  {
   "cell_type": "code",
   "execution_count": null,
   "metadata": {},
   "outputs": [],
   "source": [
    "global data_dir, output_dir\n",
    "data_dir = '../../data/original/external/nistep/'\n",
    "output_dir = '../../data/processed/external/nistep/'\n"
   ]
  },
  {
   "cell_type": "code",
   "execution_count": null,
   "metadata": {},
   "outputs": [],
   "source": [
    "original_df_dict = pd.read_excel(f'{data_dir}企業名辞書v2023_1.xlsx', \n",
    "                                 sheet_name=None, \n",
    "                                 engine='openpyxl')\n"
   ]
  },
  {
   "cell_type": "code",
   "execution_count": null,
   "metadata": {},
   "outputs": [],
   "source": [
    "master_df = original_df_dict['企業名辞書v2023_1'].copy()\n",
    "col_dict = dict(zip(master_df.columns, master_df.iloc[0, :].copy()))\n",
    "needed_col_list = ['comp_id', 'comp_name', 'comp_code', 'post_comp_id', 'parent_compid', 'parent_comp_name']\n",
    "\n",
    "master_df.columns = [col_dict[col] for col in master_df.columns]\n",
    "master_df = master_df[needed_col_list].iloc[1:, :].replace('\\\\N', np.nan)\n",
    "\n"
   ]
  },
  {
   "cell_type": "code",
   "execution_count": null,
   "metadata": {},
   "outputs": [],
   "source": [
    "# 親子関係\n",
    "parent_df = master_df[['comp_id', 'parent_compid', 'parent_comp_name']].drop_duplicates().dropna()\n",
    "parent_df\n"
   ]
  },
  {
   "cell_type": "code",
   "execution_count": null,
   "metadata": {},
   "outputs": [],
   "source": [
    "# 法人格込みの企業名\n",
    "id_name_code_df = master_df[['comp_id', 'comp_name', 'comp_code']].drop_duplicates().astype(str)\n",
    "conv_dict = {'KB':'株式会社', \n",
    "             'YG':'有限会社', \n",
    "             'GD':'合同会社', \n",
    "             'SG':'相互会社', \n",
    "             'GS':'合資会社', \n",
    "             'GM':'合名会社'}\n",
    "id_name_code_df['comp_kind'] = id_name_code_df['comp_code'].str[:2].replace(conv_dict)\n",
    "conditions = [\n",
    "    (id_name_code_df['comp_code'].str[-1]==i)&~(id_name_code_df['comp_name'].str.contains('会社'))\n",
    "    for i in ['1', '2']\n",
    "]\n",
    "choice = [id_name_code_df['comp_kind']+id_name_code_df['comp_name'], \n",
    "          id_name_code_df['comp_name']+id_name_code_df['comp_kind']]\n",
    "id_name_code_df['full_comp_name'] = np.select(conditions, choice, default=id_name_code_df['comp_name'])\n",
    "id_name_code_df = id_name_code_df[['comp_id', 'full_comp_name']].drop_duplicates()\n",
    "id_name_code_df\n"
   ]
  },
  {
   "cell_type": "code",
   "execution_count": null,
   "metadata": {},
   "outputs": [],
   "source": [
    "# 新旧関係\n",
    "before_after_df = pd.merge(master_df[['comp_id', 'post_comp_id']].drop_duplicates().rename(columns={'comp_id':'1st_comp_id'}),\n",
    "                           master_df[['comp_id', 'post_comp_id']].drop_duplicates().rename(columns={'comp_id':'2nd_comp_id', 'post_comp_id':'3rd_comp_id'}), \n",
    "                           left_on='post_comp_id', right_on='2nd_comp_id', how='left')\\\n",
    "                           [['1st_comp_id', '2nd_comp_id', '3rd_comp_id']]\n",
    "before_after_df = pd.merge(before_after_df,\n",
    "                           master_df[['comp_id', 'post_comp_id']].drop_duplicates().rename(columns={'comp_id':'3rd_comp_id', 'post_comp_id':'4th_comp_id'}), \n",
    "                           on='3rd_comp_id', how='left')\\\n",
    "                           [['1st_comp_id', '2nd_comp_id', '3rd_comp_id', '4th_comp_id']]\n",
    "for i in range(4, 11+1):\n",
    "    before_after_df = pd.merge(before_after_df,\n",
    "                               master_df[['comp_id', 'post_comp_id']].drop_duplicates().rename(columns={'comp_id':f'{i}th_comp_id', \n",
    "                                                                                                        'post_comp_id':f'{i+1}th_comp_id'}), \n",
    "                               on=f'{i}th_comp_id', how='left')\n",
    "before_after_df['after_id'] = before_after_df['11th_comp_id'].copy()\n",
    "for i in range(10, 4-1, -1):\n",
    "    before_after_df['after_id'] = before_after_df['after_id'].fillna(before_after_df[f'{i}th_comp_id'])\n",
    "    if i == 4:\n",
    "        for j in ['3rd', '2nd', '1st']:\n",
    "            before_after_df['after_id'] = before_after_df['after_id'].fillna(before_after_df[f'{j}_comp_id'])\n",
    "before_after_df = before_after_df[['1st_comp_id', 'after_id']]\\\n",
    "                                 .rename(columns={'1st_comp_id':'before_id'})\\\n",
    "                                 .astype(np.int64)\n",
    "before_after_df\n"
   ]
  },
  {
   "cell_type": "code",
   "execution_count": null,
   "metadata": {},
   "outputs": [],
   "source": [
    "# 新旧親子関係\n",
    "before_parent_df = pd.merge(before_after_df, parent_df, \n",
    "                            left_on='after_id', right_on='comp_id', how='left')\n",
    "# before_parent_df['after_parentid'] = before_parent_df['parent_compid'].fillna(before_parent_df['after_id']).astype(np.int64)\n",
    "# before_parent_df = before_parent_df[['before_id', 'after_parentid']].rename(columns={'after_parentid':'after_id'})\n",
    "before_parent_df = before_parent_df[['before_id', 'after_id']]\n",
    "before_parent_df\n"
   ]
  },
  {
   "cell_type": "code",
   "execution_count": null,
   "metadata": {},
   "outputs": [],
   "source": [
    "before_after_name_df = pd.merge(before_parent_df.astype(str), id_name_code_df, \n",
    "                                left_on='before_id', right_on='comp_id', how='left')\\\n",
    "                                [['before_id', 'after_id', 'full_comp_name']]\\\n",
    "                                .rename(columns={'full_comp_name':'before_name'})\n",
    "before_after_name_df = pd.merge(before_after_name_df.astype(str), id_name_code_df, \n",
    "                                left_on='after_id', right_on='comp_id', how='left')\\\n",
    "                                [['before_name', 'full_comp_name']]\\\n",
    "                                .rename(columns={'full_comp_name':'after_name'})\n",
    "before_after_name_df\n"
   ]
  },
  {
   "cell_type": "code",
   "execution_count": null,
   "metadata": {},
   "outputs": [],
   "source": [
    "letter_conv_df = pd.read_csv('../../data/processed/external/letter/kanjikana.csv')\n",
    "\n",
    "# 旧字体と新字体の辞書を作成\n",
    "old_kanji = list(letter_conv_df['old_jikei'])\n",
    "new_kanji = list(letter_conv_df['new_jikei'])\n",
    "jitai_dict = dict(zip(old_kanji, new_kanji))\n",
    "\n",
    "# 辞書を検索して文字列を置き換える関数を作成\n",
    "def kyujitai_to_shinjitai(text):\n",
    "    encoded_text = text.translate(str.maketrans(jitai_dict))\n",
    "    return encoded_text\n"
   ]
  },
  {
   "cell_type": "code",
   "execution_count": null,
   "metadata": {},
   "outputs": [],
   "source": [
    "before_after_name_df['before_name'] = before_after_name_df['before_name'].str.translate(str.maketrans(jitai_dict))\n",
    "before_after_name_df['after_name'] = before_after_name_df['after_name'].str.translate(str.maketrans(jitai_dict))\n",
    "before_after_name_df\n"
   ]
  },
  {
   "cell_type": "code",
   "execution_count": null,
   "metadata": {},
   "outputs": [],
   "source": [
    "before_after_name_df.to_csv(f'{output_dir}company_master.csv', \n",
    "                            sep=',', \n",
    "                            encoding='utf-8', \n",
    "                            index=False)\n"
   ]
  }
 ],
 "metadata": {
  "kernelspec": {
   "display_name": "Python 3",
   "language": "python",
   "name": "python3"
  },
  "language_info": {
   "codemirror_mode": {
    "name": "ipython",
    "version": 3
   },
   "file_extension": ".py",
   "mimetype": "text/x-python",
   "name": "python",
   "nbconvert_exporter": "python",
   "pygments_lexer": "ipython3",
   "version": "3.11.7"
  }
 },
 "nbformat": 4,
 "nbformat_minor": 2
}
