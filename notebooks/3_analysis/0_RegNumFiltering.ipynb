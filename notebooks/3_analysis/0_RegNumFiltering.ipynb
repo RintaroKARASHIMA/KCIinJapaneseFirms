{
 "cells": [
  {
   "cell_type": "code",
   "execution_count": 5,
   "metadata": {},
   "outputs": [],
   "source": [
    "import pandas as pd\n",
    "import numpy as np\n",
    "import sys\n",
    "sys.path.append('../../src')\n",
    "\n",
    "# 小数点以下 桁数 6\n",
    "pd.options.display.float_format = '{:.6f}'.format\n"
   ]
  },
  {
   "cell_type": "code",
   "execution_count": 6,
   "metadata": {},
   "outputs": [],
   "source": [
    "import variable\n"
   ]
  },
  {
   "cell_type": "code",
   "execution_count": 2,
   "metadata": {},
   "outputs": [],
   "source": [
    "global data_dir, output_dir\n",
    "data_dir = '../../data/interim/internal/filtered_before_agg/'\n",
    "output_dir = '../../data/interim/internal/filter/'\n"
   ]
  },
  {
   "cell_type": "code",
   "execution_count": 7,
   "metadata": {},
   "outputs": [
    {
     "data": {
      "text/plain": [
       "'fraction'"
      ]
     },
     "execution_count": 7,
     "metadata": {},
     "output_type": "execute_result"
    }
   ],
   "source": [
    "variable.APPLICATION_WEIGHT"
   ]
  },
  {
   "cell_type": "code",
   "execution_count": null,
   "metadata": {},
   "outputs": [],
   "source": [
    "## 初期条件\n",
    "ar = variable.APPLICATION_WEIGHT\n",
    "year_style = variable.YEAR_STYLE\n",
    "\n",
    "year_start = variable.YEAR_START\n",
    "year_end = variable.YEAR_END\n",
    "year_range = variable.YEAR_RANGE\n",
    "\n",
    "extract_population = variable.EXTRACT_POPULATION\n",
    "top_p_or_num = variable.TOP_P_OR_NUM"
   ]
  },
  {
   "cell_type": "code",
   "execution_count": null,
   "metadata": {},
   "outputs": [],
   "source": [
    "# 全体\n",
    "all_df = pd.read_csv(f'{data_dir}addedclassification.csv', \n",
    "                     encoding='utf-8', \n",
    "                     sep=',', \n",
    "                     usecols=['reg_num', \n",
    "                              'right_person_name', \n",
    "                              f'{ar}_{year_style}', \n",
    "                              f'{classification}'], \n",
    "                     dtype={'reg_num': str, \n",
    "                            'right_person_name': str, \n",
    "                            f'{ar}_{year_style}': np.int64, \n",
    "                            f'{classification}': str})\n",
    "\n",
    "all_df = all_df[all_df[f'{ar}_{year_style}'].isin(range(year_start, year_end+1))]\\\n",
    "               .drop_duplicates()\\\n",
    "# display(all_df.head())\n",
    "\n",
    "\n",
    "# 各期間\n",
    "sep_year_df_dict = {}\n",
    "\n",
    "for year in range(year_start, year_end+1, year_range):\n",
    "    sep_year_df_dict[f'{year}-{year+year_range-1}'] = all_df[all_df[f'{ar}_year'].isin(range(year, year+year_range))]\n"
   ]
  }
 ],
 "metadata": {
  "kernelspec": {
   "display_name": "economic_complexity",
   "language": "python",
   "name": "python3"
  },
  "language_info": {
   "codemirror_mode": {
    "name": "ipython",
    "version": 3
   },
   "file_extension": ".py",
   "mimetype": "text/x-python",
   "name": "python",
   "nbconvert_exporter": "python",
   "pygments_lexer": "ipython3",
   "version": "3.11.7"
  }
 },
 "nbformat": 4,
 "nbformat_minor": 2
}
