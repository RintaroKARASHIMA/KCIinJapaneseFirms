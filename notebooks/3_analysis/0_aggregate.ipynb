{
 "cells": [
  {
   "cell_type": "code",
   "execution_count": 6,
   "metadata": {},
   "outputs": [],
   "source": [
    "import pandas as pd\n",
    "import numpy as np\n",
    "from ecomplexity import ecomplexity\n",
    "\n",
    "# 小数点以下 桁数 6\n",
    "pd.options.display.float_format = '{:.6f}'.format\n"
   ]
  },
  {
   "cell_type": "code",
   "execution_count": 7,
   "metadata": {},
   "outputs": [],
   "source": [
    "global data_dir, output_dir\n",
    "data_dir = '../../data/interim/internal/filtered_before_agg/'\n",
    "output_dir = '../../data/interim/internal/filtered_after_agg/'\n"
   ]
  },
  {
   "cell_type": "code",
   "execution_count": 8,
   "metadata": {},
   "outputs": [],
   "source": [
    "def weight_by_ipc(reg_num_df: pd.DataFrame):\n",
    "    ipc_weight_df = reg_num_df.copy()\\\n",
    "                               .groupby(['right_person_name', 'reg_num'])\\\n",
    "                               [['ipc_class']].nunique().reset_index(drop=False)\\\n",
    "                               .rename(columns={'ipc_class':'weight'})\n",
    "    ipc_weight_df['weight'] = round(1 / ipc_weight_df['weight'], 2)\n",
    "\n",
    "    weighted_reg_num_df = pd.merge(reg_num_df, ipc_weight_df, \n",
    "                                   on=['reg_num', 'right_person_name'], \n",
    "                                   how='left')\n",
    "    weighted_reg_num_df = weighted_reg_num_df.drop_duplicates()\\\n",
    "                                .groupby(['right_person_name', 'ipc_class'])[['weight']].sum()\\\n",
    "                                .sort_values('weight', ascending=False)\\\n",
    "                                .reset_index(drop=False)\\\n",
    "                                .rename(columns={'weight':'reg_num'})\n",
    "    return weighted_reg_num_df\n"
   ]
  },
  {
   "cell_type": "code",
   "execution_count": 9,
   "metadata": {},
   "outputs": [],
   "source": [
    "year_start = 1981\n",
    "year_end = 2010\n",
    "year_range = 10\n",
    "\n",
    "\n",
    "ar = 'app'\n",
    "ipc_digit = 4\n",
    "weight = 'fraction' # fraction or duplication\n",
    "how_extract = 'all' # all or sep_year\n",
    "top_p_or_num = ('num', 1000) # (p or num, int)\n"
   ]
  },
  {
   "cell_type": "code",
   "execution_count": 10,
   "metadata": {},
   "outputs": [],
   "source": [
    "# 上位何%までを抽出するか\n",
    "def extract_top(reg_num_df: pd.DataFrame, \n",
    "                top_p_or_num: tuple):\n",
    "    top_right_person_list = reg_num_df.copy().groupby(['right_person_name'])[['reg_num']].sum()\\\n",
    "                                               .sort_values(['reg_num'], ascending=False)\\\n",
    "                                               .reset_index(drop=False)\\\n",
    "                                               .head((reg_num_df['right_person_name'].nunique()*top_p//100)+1)\\\n",
    "                                               ['right_person_name'].to_list()\n",
    "    \n",
    "    reg_num_top_p_df = reg_num_df[reg_num_df['right_person_name'].isin(top_right_person_list)].copy()\n",
    "    # reg_num_top_p_df['segment'] = reg_num_top_p_df['period'].str[:4].astype(np.int64)\n",
    "    return reg_num_top_p_df\n",
    "    # sep_year_top_p_df_dict[p][period] = sep_year_top_p_df.copy()\n",
    "    "
   ]
  },
  {
   "cell_type": "code",
   "execution_count": 11,
   "metadata": {},
   "outputs": [
    {
     "name": "stdout",
     "output_type": "stream",
     "text": [
      "特許数（次数削減前）: 3189395\n",
      "特許権者（次数削減前）: 73393\n",
      "IPCクラス（次数削減前）: 630\n"
     ]
    },
    {
     "data": {
      "text/html": [
       "<div>\n",
       "<style scoped>\n",
       "    .dataframe tbody tr th:only-of-type {\n",
       "        vertical-align: middle;\n",
       "    }\n",
       "\n",
       "    .dataframe tbody tr th {\n",
       "        vertical-align: top;\n",
       "    }\n",
       "\n",
       "    .dataframe thead th {\n",
       "        text-align: right;\n",
       "    }\n",
       "</style>\n",
       "<table border=\"1\" class=\"dataframe\">\n",
       "  <thead>\n",
       "    <tr style=\"text-align: right;\">\n",
       "      <th></th>\n",
       "      <th>reg_num</th>\n",
       "      <th>right_person_name</th>\n",
       "      <th>app_year</th>\n",
       "      <th>ipc_class</th>\n",
       "    </tr>\n",
       "  </thead>\n",
       "  <tbody>\n",
       "    <tr>\n",
       "      <th>0</th>\n",
       "      <td>5684492</td>\n",
       "      <td>ＤＲＣ合同会社</td>\n",
       "      <td>2010</td>\n",
       "      <td>G10H</td>\n",
       "    </tr>\n",
       "    <tr>\n",
       "      <th>1</th>\n",
       "      <td>5684512</td>\n",
       "      <td>株式会社ＩＨＩエアロスペース</td>\n",
       "      <td>2010</td>\n",
       "      <td>B62D</td>\n",
       "    </tr>\n",
       "    <tr>\n",
       "      <th>2</th>\n",
       "      <td>5684598</td>\n",
       "      <td>株式会社オカムラ</td>\n",
       "      <td>2010</td>\n",
       "      <td>A47C</td>\n",
       "    </tr>\n",
       "    <tr>\n",
       "      <th>3</th>\n",
       "      <td>5684620</td>\n",
       "      <td>三井化学株式会社</td>\n",
       "      <td>2010</td>\n",
       "      <td>H01M</td>\n",
       "    </tr>\n",
       "    <tr>\n",
       "      <th>12</th>\n",
       "      <td>5684736</td>\n",
       "      <td>シロキ工業株式会社</td>\n",
       "      <td>2010</td>\n",
       "      <td>B60N</td>\n",
       "    </tr>\n",
       "  </tbody>\n",
       "</table>\n",
       "</div>"
      ],
      "text/plain": [
       "    reg_num right_person_name  app_year ipc_class\n",
       "0   5684492           ＤＲＣ合同会社      2010      G10H\n",
       "1   5684512    株式会社ＩＨＩエアロスペース      2010      B62D\n",
       "2   5684598          株式会社オカムラ      2010      A47C\n",
       "3   5684620          三井化学株式会社      2010      H01M\n",
       "12  5684736         シロキ工業株式会社      2010      B60N"
      ]
     },
     "metadata": {},
     "output_type": "display_data"
    },
    {
     "name": "stdout",
     "output_type": "stream",
     "text": [
      "==============1981-1990==============\n",
      "特許数（次数削減前）: 832268\n",
      "特許権者（次数削減前）: 28148\n",
      "IPCクラス（次数削減前）: 613\n",
      "=====================================\n",
      "\n",
      "==============1991-2000==============\n",
      "特許数（次数削減前）: 1058468\n",
      "特許権者（次数削減前）: 36819\n",
      "IPCクラス（次数削減前）: 616\n",
      "=====================================\n",
      "\n",
      "==============2001-2010==============\n",
      "特許数（次数削減前）: 1298659\n",
      "特許権者（次数削減前）: 38096\n",
      "IPCクラス（次数削減前）: 617\n",
      "=====================================\n",
      "\n"
     ]
    }
   ],
   "source": [
    "# 全体\n",
    "all_df = pd.read_csv(f'{data_dir}{ar}.csv', \n",
    "                     encoding='utf-8', \n",
    "                     sep=',', \n",
    "                     usecols=['reg_num', \n",
    "                              'right_person_name', \n",
    "                              f'{ar}_year', \n",
    "                              'ipc_class'], \n",
    "                     dtype={'reg_num':str, \n",
    "                            'right_person_name':str, \n",
    "                            f'{ar}_year':np.int64, \n",
    "                            'ipc_class':str})\n",
    "\n",
    "all_df['ipc_class'] = all_df['ipc_class'].str[:ipc_digit]\n",
    "all_df = all_df[all_df[f'{ar}_year'].isin(range(year_start, year_end+1))]\\\n",
    "               .drop_duplicates()\\\n",
    "\n",
    "print('特許数（次数削減前）:', all_df['reg_num'].nunique())\n",
    "print('特許権者（次数削減前）:', all_df['right_person_name'].nunique())\n",
    "print('IPCクラス（次数削減前）:', all_df['ipc_class'].nunique())\n",
    "display(all_df.head())\n",
    "\n",
    "\n",
    "# 各期間\n",
    "sep_year_df_dict = {}\n",
    "\n",
    "for year in range(year_start, year_end+1, year_range):\n",
    "    sep_year_df_dict[f'{year}-{year+year_range-1}'] = all_df[all_df[f'{ar}_year'].isin(range(year, year+year_range))]\n",
    "    print(f'=============={year}-{year+year_range-1}==============')\n",
    "    print('特許数（次数削減前）:', sep_year_df_dict[f'{year}-{year+year_range-1}']['reg_num'].nunique())\n",
    "    print('特許権者（次数削減前）:', sep_year_df_dict[f'{year}-{year+year_range-1}']['right_person_name'].nunique())\n",
    "    print('IPCクラス（次数削減前）:', sep_year_df_dict[f'{year}-{year+year_range-1}']['ipc_class'].nunique())\n",
    "    print('=====================================\\n')\n"
   ]
  },
  {
   "cell_type": "code",
   "execution_count": null,
   "metadata": {},
   "outputs": [],
   "source": [
    "# 全体\n",
    "if weight == 'fraction':\n",
    "    all_reg_num_df = weight_by_ipc(all_df)\n",
    "else:\n",
    "    all_reg_num_df = all_df.groupby(['right_person_name', 'ipc_class'])[['reg_num']].nunique().reset_index(drop=False)\n",
    "all_reg_num_df['segment'] = f'{year_start}-{year_end}'\n",
    "\n",
    "\n",
    "# 期間ごと\n",
    "sep_year_reg_num_df_dict = {}\n",
    "sep_year_reg_num_top_p_df_dict = {}\n",
    "for period, sep_year_df in sep_year_df_dict.items():\n",
    "    if weight == 'fraction':\n",
    "        sep_year_reg_num_df_dict[period] = weight_by_ipc(sep_year_df)\n",
    "    else:\n",
    "        all_reg_num_df = sep_year_df.groupby(['right_person_name', 'ipc_class'])[['reg_num']].nunique().reset_index(drop=False)\n",
    "    sep_year_reg_num_df_dict[period]['segment'] = period\n"
   ]
  },
  {
   "cell_type": "code",
   "execution_count": null,
   "metadata": {},
   "outputs": [],
   "source": []
  },
  {
   "cell_type": "code",
   "execution_count": null,
   "metadata": {},
   "outputs": [],
   "source": [
    "\n",
    "all_reg_num_top_p_df = extract_top(all_reg_num_df, \n",
    "                                   top_p_or_num)\n",
    "\n",
    "display(all_reg_num_top_p_df.head())\n",
    "sep_year_reg_num_top_p_df_dict[period] = extract_top(sep_year_reg_num_df_dict[period], top_p)\n",
    "\n",
    "sep_year_reg_num_top_p_df = pd.concat(sep_year_reg_num_top_p_df_dict.values(), \n",
    "                                      axis='index')\n",
    "\n",
    "display(sep_year_reg_num_top_p_df)\n"
   ]
  },
  {
   "cell_type": "code",
   "execution_count": null,
   "metadata": {},
   "outputs": [],
   "source": [
    "print('特許数（次数削減前）:', all_reg_num_top_p_df.groupby('right_person_name')['reg_num'].sum().reset_index(drop=False)['reg_num'].sum())\n",
    "print('特許権者（次数削減前）:', all_reg_num_top_p_df['right_person_name'].nunique())\n",
    "print('IPCクラス（次数削減前）:', all_reg_num_top_p_df['ipc_class'].nunique())\n",
    "display(all_reg_num_top_p_df.head())\n",
    "\n",
    "\n",
    "# 各期間\n",
    "# sep_year_df_dict = {}\n",
    "\n",
    "# for year in range(year_start, year_end+1, year_range):\n",
    "#     sep_year_df_dict[f'{year}-{year+year_range-1}'] = all_df[all_df[f'{ar}_year'].isin(range(year, year+year_range))]\n",
    "#     print(f'=============={year}-{year+year_range-1}==============')\n",
    "#     print('特許数（次数削減前）:', sep_year_df_dict[f'{year}-{year+year_range-1}']['reg_num'].nunique())\n",
    "#     print('特許権者（次数削減前）:', sep_year_df_dict[f'{year}-{year+year_range-1}']['right_person_name'].nunique())\n",
    "#     print('IPCクラス（次数削減前）:', sep_year_df_dict[f'{year}-{year+year_range-1}']['ipc_class'].nunique())\n",
    "#     print('=====================================\\n')\n"
   ]
  }
 ],
 "metadata": {
  "kernelspec": {
   "display_name": "economic_complexity",
   "language": "python",
   "name": "python3"
  },
  "language_info": {
   "codemirror_mode": {
    "name": "ipython",
    "version": 3
   },
   "file_extension": ".py",
   "mimetype": "text/x-python",
   "name": "python",
   "nbconvert_exporter": "python",
   "pygments_lexer": "ipython3",
   "version": "3.11.7"
  }
 },
 "nbformat": 4,
 "nbformat_minor": 2
}
