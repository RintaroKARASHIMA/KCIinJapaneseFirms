{
 "cells": [
  {
   "cell_type": "markdown",
   "metadata": {},
   "source": [
    "<a id=top></a>\n",
    "\n",
    "# **目次**\n",
    "\n",
    "<b>\n",
    "    <details>\n",
    "        <summary>\n",
    "            <a href=\"#modules\", style=\"font-size: xx-large\">1. モジュールインポート</a>\n",
    "        </summary>\n",
    "    </details>\n",
    "    <details>\n",
    "        <summary>\n",
    "            <a href=\"#data\", style=\"font-size: xx-large\">2. データインポート</a>\n",
    "        </summary>\n",
    "    </details>\n",
    "    <details>\n",
    "        <summary>\n",
    "            <a href=\"#meltbulk\", style=\"font-size: xx-large\">3. バルクデータ</a>\n",
    "        </summary>\n",
    "        <table></table>\n",
    "    </details>\n",
    "    <details>\n",
    "        <summary>\n",
    "            <a href=\"#output\", style=\"font-size: xx-large\">4. ファイルに出力</a>\n",
    "        </summary>\n",
    "    </details>\n",
    "</b>\n"
   ]
  },
  {
   "cell_type": "code",
   "execution_count": null,
   "metadata": {},
   "outputs": [],
   "source": [
    "import pandas as pd\n",
    "import numpy as np\n",
    "from glob import glob\n",
    "\n",
    "import datetime\n",
    "import pytz\n"
   ]
  },
  {
   "cell_type": "code",
   "execution_count": null,
   "metadata": {},
   "outputs": [],
   "source": [
    "global data_dir, file_name_list\n",
    "data_dir = '../../data/interim/internal/'\n",
    "output_dir = '../../data/interim/internal/merged/'\n",
    "file_name_list = [\n",
    "                  'hr', # 特許権者\n",
    "                  'ipc', # IPC\n",
    "                  'reg_info' # 登録情報\n",
    "                  ]\n"
   ]
  },
  {
   "cell_type": "code",
   "execution_count": null,
   "metadata": {},
   "outputs": [],
   "source": [
    "bulk_stack_df_dict = {\n",
    "                      file_name: pd.concat([pd.read_csv(f'{data_dir}/{bs}/{file_name}.csv', \n",
    "                                                        sep=',', \n",
    "                                                        encoding='utf-8', \n",
    "                                                        dtype=str) for bs in ['bulk', 'stack']], \n",
    "                                           ignore_index=True, \n",
    "                                           axis='index')\n",
    "                      for file_name in file_name_list\n",
    "                      }\n"
   ]
  },
  {
   "cell_type": "code",
   "execution_count": null,
   "metadata": {},
   "outputs": [],
   "source": [
    "df = pd.merge(bulk_stack_df_dict['reg_info'].copy(), bulk_stack_df_dict['hr'].copy(), \n",
    "              on='reg_num', \n",
    "              how='inner')\n",
    "\n",
    "df = pd.merge(df, bulk_stack_df_dict['ipc'].copy(), \n",
    "              on='app_num', \n",
    "              how='inner')\n",
    "\n",
    "df = df.drop(columns=['app_num'])\\\n",
    "       .drop_duplicates(keep='first')\\\n",
    "       .reset_index(drop=True)\n"
   ]
  },
  {
   "cell_type": "code",
   "execution_count": null,
   "metadata": {},
   "outputs": [],
   "source": [
    "jst = pytz.timezone('Asia/Tokyo')\n",
    "now = datetime.datetime.now(jst)\n",
    "str_now = now.strftime('%Y%m')\n",
    "\n",
    "df.to_csv(f'{output_dir}{str_now}.csv', \n",
    "          sep=',', \n",
    "          encoding='utf-8', \n",
    "          index=False)\n"
   ]
  }
 ],
 "metadata": {
  "kernelspec": {
   "display_name": "Python 3",
   "language": "python",
   "name": "python3"
  },
  "language_info": {
   "codemirror_mode": {
    "name": "ipython",
    "version": 3
   },
   "file_extension": ".py",
   "mimetype": "text/x-python",
   "name": "python",
   "nbconvert_exporter": "python",
   "pygments_lexer": "ipython3",
   "version": "3.11.7"
  }
 },
 "nbformat": 4,
 "nbformat_minor": 2
}
