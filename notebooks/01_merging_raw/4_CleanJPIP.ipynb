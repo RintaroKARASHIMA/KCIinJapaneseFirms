{
 "cells": [
  {
   "cell_type": "code",
   "execution_count": null,
   "metadata": {},
   "outputs": [],
   "source": [
    "import pandas as pd\n",
    "import numpy as np\n"
   ]
  },
  {
   "cell_type": "code",
   "execution_count": null,
   "metadata": {},
   "outputs": [],
   "source": [
    "global data_dir\n",
    "data_dir = '../../data/original/internal/stack/JPIP/'\n",
    "output_dir = '../../data/interim/internal/stack/'\n"
   ]
  },
  {
   "cell_type": "code",
   "execution_count": null,
   "metadata": {},
   "outputs": [],
   "source": [
    "needed_col_dict = {\n",
    "                   'upd_dsptch_fin_ipc.tsv':[\n",
    "                                            'doc_key_num', # 文献番号\n",
    "                                            'ipc', # IPC\n",
    "                                            'first_class_flg'\n",
    "                                            ]\n",
    "                   }\n"
   ]
  },
  {
   "cell_type": "code",
   "execution_count": null,
   "metadata": {},
   "outputs": [],
   "source": [
    "original_df_dict = {file: pd.read_csv(data_dir + file, \n",
    "                                       sep='\\t', \n",
    "                                       encoding='utf-8', \n",
    "                                       dtype=str, \n",
    "                                       usecols=needed_col_dict[file])\\\n",
    "                    for file in needed_col_dict.keys()}\n"
   ]
  },
  {
   "cell_type": "code",
   "execution_count": null,
   "metadata": {},
   "outputs": [],
   "source": [
    "ipc_df = original_df_dict['upd_dsptch_fin_ipc.tsv'].copy()\n",
    "\n",
    "ipc_df['patent_flag'] = ipc_df['doc_key_num'].str[:1]\n",
    "# ipc_df['doc_key_num'] = ipc_df['doc_key_num'].astype(np.int64) # ここでエラーが出れば，例外処理が必要\n",
    "ipc_df['app_num'] = ipc_df['doc_key_num'].str[1:]\n",
    "ipc_exception_df = ipc_df[ipc_df['doc_key_num'].str.contains('JPB')].copy()\n",
    "\n",
    "# 特許文献のみを抽出\n",
    "ipc_df = ipc_df[ipc_df['patent_flag']=='1']\\\n",
    "               .reset_index(drop=True)\\\n",
    "               .drop(['patent_flag', 'doc_key_num'], axis='columns')\n",
    "\n",
    "# 第一分類を使用\n",
    "ipc_df = ipc_df[ipc_df['first_class_flg']=='F'][['ipc', 'app_num']]\n",
    "ipc_df\n"
   ]
  },
  {
   "cell_type": "code",
   "execution_count": null,
   "metadata": {},
   "outputs": [],
   "source": [
    "ipc_df.to_csv(f'{output_dir}ipc.csv', \n",
    "              sep=',', \n",
    "              encoding='utf-8', \n",
    "              index=False)\n"
   ]
  },
  {
   "cell_type": "code",
   "execution_count": null,
   "metadata": {},
   "outputs": [],
   "source": [
    "# ipc_exception_df.to_csv('../Data/Extracted/ipc_exception.csv', sep=',', encoding='utf-8', index=False)\n"
   ]
  }
 ],
 "metadata": {
  "kernelspec": {
   "display_name": "Python 3",
   "language": "python",
   "name": "python3"
  },
  "language_info": {
   "codemirror_mode": {
    "name": "ipython",
    "version": 3
   },
   "file_extension": ".py",
   "mimetype": "text/x-python",
   "name": "python",
   "nbconvert_exporter": "python",
   "pygments_lexer": "ipython3",
   "version": "3.11.7"
  }
 },
 "nbformat": 4,
 "nbformat_minor": 2
}
