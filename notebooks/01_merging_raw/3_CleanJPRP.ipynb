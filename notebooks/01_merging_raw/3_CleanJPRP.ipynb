{
 "cells": [
  {
   "cell_type": "code",
   "execution_count": null,
   "metadata": {},
   "outputs": [],
   "source": [
    "import pandas as pd\n",
    "import numpy as np\n"
   ]
  },
  {
   "cell_type": "code",
   "execution_count": null,
   "metadata": {},
   "outputs": [],
   "source": [
    "global data_dir\n",
    "data_dir = '../../data/original/internal/stack/JPRP/'\n",
    "output_dir = '../../data/interim/internal/stack/'\n"
   ]
  },
  {
   "cell_type": "code",
   "execution_count": null,
   "metadata": {},
   "outputs": [],
   "source": [
    "needed_col_dict = {\n",
    "                   'upd_mgt_info_p.tsv':[\n",
    "                                        # 'processing_type', # 処理種別\n",
    "                                        #  'law_cd', # 四法コード\n",
    "                                         'reg_num', # 登録番号\n",
    "                                        #  'split_num',# 分割番号\n",
    "                                         'app_num', # 出願番号\n",
    "                                         'app_year_month_day', # 出願日\n",
    "                                         'set_reg_year_month_day', # 設定登録日\n",
    "                                         # 'pri_cntry_name_cd' # 優先権国コード\n",
    "                                         ], \n",
    "                   'upd_right_person_art_p.tsv':[\n",
    "                                                #  'law_cd', # 四法コード\n",
    "                                                 'reg_num', # 登録番号\n",
    "                                                #  'split_num', # 分割番号\n",
    "                                                # 'right_person_appl_id', # 特許権者申請人ID\n",
    "                                                 'right_person_addr', # 特許権者住所\n",
    "                                                 'right_person_name' # 特許権者名\n",
    "                                                 ]\n",
    "                   }\n"
   ]
  },
  {
   "cell_type": "code",
   "execution_count": null,
   "metadata": {},
   "outputs": [],
   "source": [
    "original_df_dict = {file: pd.read_csv(data_dir + file,\n",
    "                                      sep='\\t', \n",
    "                                      encoding='utf-8', \n",
    "                                      dtype=str, \n",
    "                                      usecols=needed_col_dict[file])\n",
    "                    for file in needed_col_dict.keys()}\n"
   ]
  },
  {
   "cell_type": "markdown",
   "metadata": {},
   "source": [
    "## 登録情報マスタ\n"
   ]
  },
  {
   "cell_type": "code",
   "execution_count": null,
   "metadata": {},
   "outputs": [],
   "source": [
    "mgt_df = original_df_dict['upd_mgt_info_p.tsv'].copy()\n",
    "# mgt_df = mgt_df[needed_col_dict['upd_mgt_info_p.tsv']]\n",
    "mgt_df.head()\n",
    "# mgt_df.describe(include='all')\n"
   ]
  },
  {
   "cell_type": "code",
   "execution_count": null,
   "metadata": {},
   "outputs": [],
   "source": [
    "mgt_df.to_csv(f'{output_dir}reg_info.csv', \n",
    "              sep=',', \n",
    "              encoding='utf-8', \n",
    "              index=False)\n"
   ]
  },
  {
   "cell_type": "markdown",
   "metadata": {},
   "source": [
    "---\n"
   ]
  },
  {
   "cell_type": "markdown",
   "metadata": {},
   "source": [
    "## 特許権者 全数ver.\n"
   ]
  },
  {
   "cell_type": "code",
   "execution_count": null,
   "metadata": {},
   "outputs": [],
   "source": [
    "hr_df = original_df_dict['upd_right_person_art_p.tsv'].copy()\n",
    "# hr_df = hr_df[needed_col_dict['upd_right_person_art_p.tsv']]\n",
    "hr_df.head()\n",
    "# hr_df#.describe(include='all')\n"
   ]
  },
  {
   "cell_type": "code",
   "execution_count": null,
   "metadata": {},
   "outputs": [],
   "source": [
    "hr_df.to_csv(f'{output_dir}hr.csv', \n",
    "             sep=',', \n",
    "             encoding='utf-8', \n",
    "             index=False)\n"
   ]
  }
 ],
 "metadata": {
  "kernelspec": {
   "display_name": "Python 3",
   "language": "python",
   "name": "python3"
  },
  "language_info": {
   "codemirror_mode": {
    "name": "ipython",
    "version": 3
   },
   "file_extension": ".py",
   "mimetype": "text/x-python",
   "name": "python",
   "nbconvert_exporter": "python",
   "pygments_lexer": "ipython3",
   "version": "3.11.7"
  }
 },
 "nbformat": 4,
 "nbformat_minor": 2
}
