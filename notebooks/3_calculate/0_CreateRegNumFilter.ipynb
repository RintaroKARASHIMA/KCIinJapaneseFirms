{
 "cells": [
  {
   "cell_type": "code",
   "execution_count": null,
   "metadata": {},
   "outputs": [],
   "source": [
    "import pandas as pd\n",
    "import numpy as np\n",
    "import sys\n",
    "\n",
    "sys.path.append('../../src')\n",
    "\n",
    "# 小数点以下 桁数 6\n",
    "pd.options.display.float_format = '{:.2f}'.format"
   ]
  },
  {
   "cell_type": "code",
   "execution_count": null,
   "metadata": {},
   "outputs": [],
   "source": [
    "# 自作モジュールインポート\n",
    "import initial_condition\n"
   ]
  },
  {
   "cell_type": "code",
   "execution_count": null,
   "metadata": {},
   "outputs": [],
   "source": [
    "global data_dir, output_dir\n",
    "data_dir = '../../data/interim/internal/filtered_before_agg/'\n",
    "output_dir = '../../data/interim/internal/filter_after_agg/'\n"
   ]
  },
  {
   "cell_type": "code",
   "execution_count": null,
   "metadata": {},
   "outputs": [],
   "source": [
    "## 初期条件\n",
    "ar = initial_condition.AR\n",
    "year_style = initial_condition.YEAR_STYLE\n",
    "\n",
    "year_start = initial_condition.YEAR_START\n",
    "year_end = initial_condition.YEAR_END\n",
    "year_range = initial_condition.YEAR_RANGE\n",
    "\n",
    "extract_population = initial_condition.EXTRACT_POPULATION\n",
    "top_p_or_num = initial_condition.TOP_P_OR_NUM\n",
    "\n",
    "region_corporation = initial_condition.REGION_CORPORATION\n",
    "\n",
    "condition = f'{ar}_{year_style}_{extract_population}_reg_num_top_{top_p_or_num[0]}_{top_p_or_num[1]}_{region_corporation}'\n"
   ]
  },
  {
   "cell_type": "code",
   "execution_count": null,
   "metadata": {},
   "outputs": [],
   "source": [
    "condition\n"
   ]
  },
  {
   "cell_type": "code",
   "execution_count": null,
   "metadata": {},
   "outputs": [],
   "source": [
    "# 全体\n",
    "all_df = pd.read_csv(\n",
    "    f'{data_dir}japan.csv',\n",
    "    encoding='utf-8',\n",
    "    sep=',',\n",
    "    usecols=['reg_num', region_corporation, f'{ar}_{year_style}'],\n",
    "    dtype={'reg_num': str, region_corporation: str, f'{ar}_{year_style}': np.int64},\n",
    ")\n",
    "all_df = all_df[\n",
    "    all_df[f'{ar}_{year_style}'].isin(range(year_start, year_end + 1))\n",
    "].drop_duplicates()\n",
    "all_df[f'{ar}_{year_style}_period'] = f'{year_start}-{year_end}'\n",
    "\n",
    "# 各期間\n",
    "# sep_year_df_dict = {}\n",
    "sep_year_df_list = []\n",
    "\n",
    "for year in range(year_start, year_end + 1, year_range):\n",
    "    # sep_year_df_dict[f'{year}-{year+year_range-1}'] = all_df[all_df[f'{ar}_year'].isin(range(year, year+year_range))]\n",
    "    sep_year_df = all_df[\n",
    "        all_df[f'{ar}_{year_style}'].isin(range(year, year + year_range))\n",
    "    ].drop_duplicates()\n",
    "    sep_year_df[f'{ar}_{year_style}_period'] = f'{year}-{year+year_range-1}'\n",
    "    sep_year_df_list.append(sep_year_df)\n"
   ]
  },
  {
   "cell_type": "code",
   "execution_count": null,
   "metadata": {},
   "outputs": [],
   "source": [
    "all_applicant_weight_df = (\n",
    "    all_df.groupby([f'{ar}_{year_style}_period', 'reg_num'])[[region_corporation]]\n",
    "    .nunique()\n",
    "    .reset_index(drop=False)\n",
    "    .rename(columns={region_corporation: 'applicant_weight'})\n",
    "    .copy()\n",
    ")\n",
    "\n",
    "all_reg_num_df = pd.merge(\n",
    "    all_df.drop(columns=[f'{ar}_{year_style}']),\n",
    "    all_applicant_weight_df,\n",
    "\n",
    "    on=[f'{ar}_{year_style}_period', 'reg_num'],\n",
    "    how='left',\n",
    ")\n",
    "\n",
    "all_reg_num_df['reg_num'] = round(1 / all_reg_num_df['applicant_weight'], 2)\n",
    "\n",
    "# display(all_reg_num_df.head())\n",
    "\n",
    "all_reg_num_df = (\n",
    "    all_reg_num_df.drop(columns=['applicant_weight'])\n",
    "\n",
    "    .groupby([f'{ar}_{year_style}_period', region_corporation])[['reg_num']]\n",
    "    .sum()\n",
    "    .reset_index()\n",
    "\n",
    ")\n",
    "all_reg_num_df = all_reg_num_df.sort_values(\n",
    "    by=['reg_num'], ascending=[False]\n",
    "\n",
    ").reset_index(drop=True)\n",
    "all_reg_num_df\n"
   ]
  },
  {
   "cell_type": "code",
   "execution_count": null,
   "metadata": {},
   "outputs": [],
   "source": [
    "sep_year_reg_num_df_list = []\n",
    "for sep_year_df in sep_year_df_list:\n",
    "    sep_year_applicant_weight_df = (\n",
    "        sep_year_df.groupby([f'{ar}_{year_style}_period', 'reg_num'])[\n",
    "            [region_corporation]\n",
    "        ]\n",
    "        .nunique()\n",
    "        .reset_index(drop=False)\n",
    "        .rename(columns={region_corporation: 'applicant_weight'})\n",
    "        .copy()\n",
    "    )\n",
    "    sep_year_reg_num_df = pd.merge(\n",
    "        sep_year_df.drop(columns=[f'{ar}_{year_style}']),\n",
    "        sep_year_applicant_weight_df,\n",
    "        on=[f'{ar}_{year_style}_period', 'reg_num'],\n",
    "        how='left',\n",
    "    )\n",
    "    sep_year_reg_num_df['reg_num'] = round(\n",
    "        1 / sep_year_reg_num_df['applicant_weight'], 2\n",
    "    )\n",
    "    # display(sep_year_reg_num_df.head())\n",
    "    sep_year_reg_num_df = (\n",
    "        sep_year_reg_num_df.drop(columns=['applicant_weight'])\n",
    "        .groupby([f'{ar}_{year_style}_period', region_corporation])[['reg_num']]\n",
    "        .sum()\n",
    "        .reset_index()\n",
    "    )\n",
    "    sep_year_reg_num_df = sep_year_reg_num_df.sort_values(\n",
    "        by=['reg_num'], ascending=[False]\n",
    "    ).reset_index(drop=True)\n",
    "    sep_year_reg_num_df_list.append(sep_year_reg_num_df)\n",
    "\n",
    "# sep_year_reg_num_df = pd.concat(sep_year_reg_num_df_list, axis='index', ignore_index=True)\n",
    "# sep_year_reg_num_df"
   ]
  },
  {
   "cell_type": "code",
   "execution_count": null,
   "metadata": {},
   "outputs": [],
   "source": [
    "if extract_population == 'all':\n",
    "    if top_p_or_num[0] == 'p':\n",
    "        top = (all_reg_num_df[region_corporation].nunique() * top_p_or_num[1]) // 100\n",
    "    elif top_p_or_num[0] == 'num':\n",
    "        top = top_p_or_num[1]\n",
    "\n",
    "    all_reg_num_top_df = all_reg_num_df.head(top)\n",
    "    all_reg_num_top_df\n",
    "    all_reg_num_top_df.to_csv(\n",
    "        f'{output_dir}{condition}.csv',\n",
    "        encoding='utf-8',\n",
    "        sep=',',\n",
    "        index=False,\n",
    "    )\n",
    "elif extract_population == 'sep_year':\n",
    "    sep_year_reg_num_top_df_list = []\n",
    "    for sep_year_reg_num_df in sep_year_reg_num_df_list:\n",
    "        if top_p_or_num[0] == 'p':\n",
    "            top = (\n",
    "                sep_year_reg_num_df[region_corporation].nunique() * top_p_or_num[1]\n",
    "            ) // 100\n",
    "        elif top_p_or_num[0] == 'num':\n",
    "            top = top_p_or_num[1]\n",
    "        sep_year_reg_num_top_df_list.append(sep_year_reg_num_df.head(top))\n",
    "    sep_year_reg_num_top_df = pd.concat(\n",
    "        sep_year_reg_num_top_df_list, axis='index', ignore_index=True\n",
    "    )\n",
    "    sep_year_reg_num_top_df.to_csv(\n",
    "        f'{output_dir}{condition}.csv',\n",
    "        encoding='utf-8',\n",
    "        sep=',',\n",
    "        index=False,\n",
    "    )"
   ]
  },
  {
   "cell_type": "code",
   "execution_count": null,
   "metadata": {},
   "outputs": [],
   "source": [
    "all_reg_num_top_df"
   ]
  },
  {
   "cell_type": "code",
   "execution_count": null,
   "metadata": {},
   "outputs": [],
   "source": [
    "print('対象特許権者もしくは都道府県数（日本）：', all_reg_num_top_df[region_corporation].nunique())\n",
    "print(\n",
    "    '対象特許数（日本）',\n",
    "    all_df[all_df[region_corporation].isin(all_reg_num_top_df[region_corporation])][\n",
    "        'reg_num'\n",
    "    ].nunique(),\n",
    ")"
   ]
  }
 ],
 "metadata": {
  "kernelspec": {
   "display_name": "economic_complexity",
   "language": "python",
   "name": "python3"
  },
  "language_info": {
   "codemirror_mode": {
    "name": "ipython",
    "version": 3
   },
   "file_extension": ".py",
   "mimetype": "text/x-python",
   "name": "python",
   "nbconvert_exporter": "python",
   "pygments_lexer": "ipython3",
   "version": "3.11.7"
  }
 },
 "nbformat": 4,
 "nbformat_minor": 2
}
