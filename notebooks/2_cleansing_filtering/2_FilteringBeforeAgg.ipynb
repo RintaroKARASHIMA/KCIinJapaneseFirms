{
 "cells": [
  {
   "cell_type": "markdown",
   "metadata": {},
   "source": [
    "<a id=top></a>\n",
    "\n",
    "# **目次**\n",
    "\n",
    "<b>\n",
    "    <details>\n",
    "        <summary>\n",
    "            <a href=\"#modules\", style=\"font-size: xx-large\">1. モジュールインポート</a>\n",
    "            <ul>※サードパーティライブラリ>>>自作モジュール>>>（ここまで本ipynb外）>>>自作関数（本ipynb内）</ul>\n",
    "        </summary>\n",
    "    </details>\n",
    "    <details>\n",
    "        <summary>\n",
    "            <a href=\"#data\", style=\"font-size: xx-large\">2. オリジナルデータインポート</a>\n",
    "        </summary>\n",
    "    </details>\n",
    "    <details>\n",
    "        <summary>\n",
    "            <a href=\"#neededcol\", style=\"font-size: xx-large\">3. 必要な列への絞り込み</a>\n",
    "        </summary>\n",
    "        <table></table>\n",
    "    </details>\n",
    "    <details>\n",
    "        <summary>\n",
    "            <a href=\"#japan\", style=\"font-size: xx-large\">4. 日本国内への絞り込み</a>\n",
    "        </summary>\n",
    "    </details>\n",
    "    <details>\n",
    "        <summary>\n",
    "            <a href=\"#company\", style=\"font-size: xx-large\">5. 企業・法人への絞り込み</a>\n",
    "        </summary>\n",
    "    </details>\n",
    "    <details>\n",
    "        <summary>\n",
    "            <a href=\"#year\", style=\"font-size: xx-large\">6. 年から年度に</a>\n",
    "        </summary>\n",
    "    </details>\n",
    "    <details>\n",
    "        <summary>\n",
    "            <a href=\"#ipc\", style=\"font-size: xx-large\">7. IPCケタ数</a>\n",
    "        </summary>\n",
    "    </details>\n",
    "</b>\n"
   ]
  },
  {
   "cell_type": "markdown",
   "metadata": {},
   "source": [
    "---\n"
   ]
  },
  {
   "cell_type": "markdown",
   "metadata": {},
   "source": [
    "<a id=modules></a>\n",
    "\n",
    "## **1. モジュールインポート**\n"
   ]
  },
  {
   "cell_type": "code",
   "execution_count": 1,
   "metadata": {},
   "outputs": [],
   "source": [
    "import pandas as pd\n",
    "import numpy as np\n",
    "from glob import glob\n",
    "import sys\n",
    "sys.path.append('../../src')\n",
    "\n"
   ]
  },
  {
   "cell_type": "code",
   "execution_count": 2,
   "metadata": {},
   "outputs": [],
   "source": [
    "from cleansing_filtering import CreateFilterBeforeAgg\n"
   ]
  },
  {
   "cell_type": "code",
   "execution_count": 3,
   "metadata": {},
   "outputs": [],
   "source": [
    "global data_dir, output_dir\n",
    "data_dir = '../../data/interim/internal/fixed/'\n",
    "filter_dir = '../../data/interim/internal/filter_before_agg/'\n",
    "output_dir = '../../data/interim/internal/filtered_before_agg/'\n"
   ]
  },
  {
   "cell_type": "markdown",
   "metadata": {},
   "source": [
    "---\n"
   ]
  },
  {
   "cell_type": "markdown",
   "metadata": {},
   "source": [
    "<a id=data></a>\n",
    "\n",
    "## **2. オリジナルデータインポート**\n"
   ]
  },
  {
   "cell_type": "code",
   "execution_count": 4,
   "metadata": {},
   "outputs": [],
   "source": [
    "# 企業統廃合処理あり\n",
    "df = pd.read_csv(sorted(glob(data_dir + '*.csv'))[-1], \n",
    "                 encoding='utf-8', \n",
    "                 sep=',', \n",
    "                 dtype=str)\n",
    "# df.head()\n"
   ]
  },
  {
   "cell_type": "markdown",
   "metadata": {},
   "source": [
    "---\n"
   ]
  },
  {
   "cell_type": "markdown",
   "metadata": {},
   "source": [
    "<a id=neededcol></a>\n",
    "\n",
    "## **3. 必要な列への絞り込み**\n"
   ]
  },
  {
   "cell_type": "code",
   "execution_count": 5,
   "metadata": {},
   "outputs": [
    {
     "data": {
      "text/html": [
       "<div>\n",
       "<style scoped>\n",
       "    .dataframe tbody tr th:only-of-type {\n",
       "        vertical-align: middle;\n",
       "    }\n",
       "\n",
       "    .dataframe tbody tr th {\n",
       "        vertical-align: top;\n",
       "    }\n",
       "\n",
       "    .dataframe thead th {\n",
       "        text-align: right;\n",
       "    }\n",
       "</style>\n",
       "<table border=\"1\" class=\"dataframe\">\n",
       "  <thead>\n",
       "    <tr style=\"text-align: right;\">\n",
       "      <th></th>\n",
       "      <th>reg_num</th>\n",
       "      <th>app_year_month_day</th>\n",
       "      <th>set_reg_year_month_day</th>\n",
       "      <th>ipc</th>\n",
       "      <th>right_person_addr</th>\n",
       "      <th>right_person_name</th>\n",
       "    </tr>\n",
       "  </thead>\n",
       "  <tbody>\n",
       "    <tr>\n",
       "      <th>0</th>\n",
       "      <td>5684381</td>\n",
       "      <td>20110708</td>\n",
       "      <td>20150123</td>\n",
       "      <td>G01S   5/14</td>\n",
       "      <td>ドイツ連邦共和国</td>\n",
       "      <td>フラウンホツフアーーゲゼルシヤフトツアーフエーデルングデアアンゲバンテンフオルシユングエーフアー</td>\n",
       "    </tr>\n",
       "    <tr>\n",
       "      <th>1</th>\n",
       "      <td>5684381</td>\n",
       "      <td>20110708</td>\n",
       "      <td>20150123</td>\n",
       "      <td>G01S   5/14</td>\n",
       "      <td>ドイツ連邦共和国</td>\n",
       "      <td>フリードリツヒーアレクサンダーーユニバーシタツタエルランゲンーニユルンベルク</td>\n",
       "    </tr>\n",
       "    <tr>\n",
       "      <th>2</th>\n",
       "      <td>5684399</td>\n",
       "      <td>20120209</td>\n",
       "      <td>20150123</td>\n",
       "      <td>B26B  21/52</td>\n",
       "      <td>アメリカ合衆国</td>\n",
       "      <td>ザジレツトカンパニーリミテツドライアビリテイカンパニー</td>\n",
       "    </tr>\n",
       "    <tr>\n",
       "      <th>3</th>\n",
       "      <td>5684492</td>\n",
       "      <td>20100512</td>\n",
       "      <td>20150123</td>\n",
       "      <td>G10H   3/18</td>\n",
       "      <td>東京都渋谷区</td>\n",
       "      <td>ＤＲＣ合同会社</td>\n",
       "    </tr>\n",
       "    <tr>\n",
       "      <th>4</th>\n",
       "      <td>5684500</td>\n",
       "      <td>20100623</td>\n",
       "      <td>20150123</td>\n",
       "      <td>C08G  65/26</td>\n",
       "      <td>アメリカ合衆国</td>\n",
       "      <td>バイエル・マテリアルサイエンス・リミテツド・ライアビリテイ・カンパニー</td>\n",
       "    </tr>\n",
       "  </tbody>\n",
       "</table>\n",
       "</div>"
      ],
      "text/plain": [
       "   reg_num app_year_month_day set_reg_year_month_day          ipc  \\\n",
       "0  5684381           20110708               20150123  G01S   5/14   \n",
       "1  5684381           20110708               20150123  G01S   5/14   \n",
       "2  5684399           20120209               20150123  B26B  21/52   \n",
       "3  5684492           20100512               20150123  G10H   3/18   \n",
       "4  5684500           20100623               20150123  C08G  65/26   \n",
       "\n",
       "  right_person_addr                                 right_person_name  \n",
       "0          ドイツ連邦共和国  フラウンホツフアーーゲゼルシヤフトツアーフエーデルングデアアンゲバンテンフオルシユングエーフアー  \n",
       "1          ドイツ連邦共和国            フリードリツヒーアレクサンダーーユニバーシタツタエルランゲンーニユルンベルク  \n",
       "2           アメリカ合衆国                       ザジレツトカンパニーリミテツドライアビリテイカンパニー  \n",
       "3            東京都渋谷区                                           ＤＲＣ合同会社  \n",
       "4           アメリカ合衆国               バイエル・マテリアルサイエンス・リミテツド・ライアビリテイ・カンパニー  "
      ]
     },
     "execution_count": 5,
     "metadata": {},
     "output_type": "execute_result"
    }
   ],
   "source": [
    "stage0_df = df.copy()\n",
    "stage0_df = stage0_df[['reg_num', \n",
    "                       'app_year_month_day', \n",
    "                       'set_reg_year_month_day', \n",
    "                       'ipc', \n",
    "                       'right_person_addr', \n",
    "                       'right_person_name']]\\\n",
    "                     .dropna()\n",
    "stage0_df.head()\n"
   ]
  },
  {
   "cell_type": "markdown",
   "metadata": {},
   "source": [
    "---\n"
   ]
  },
  {
   "cell_type": "markdown",
   "metadata": {},
   "source": [
    "<a id=japan></a>\n",
    "\n",
    "## **4. 日本国内への絞り込み**\n"
   ]
  },
  {
   "cell_type": "code",
   "execution_count": 6,
   "metadata": {},
   "outputs": [],
   "source": [
    "pref_list = CreateFilterBeforeAgg.pref_list\n",
    "fix_list = CreateFilterBeforeAgg.fix_list\n",
    "jp_exception = pd.read_csv(f'{filter_dir}jp_address.csv', encoding='utf-8')\n",
    "# jp_exception\n"
   ]
  },
  {
   "cell_type": "code",
   "execution_count": 7,
   "metadata": {},
   "outputs": [],
   "source": [
    "# 住所による絞込\n",
    "stage1_df = stage0_df.copy()\n",
    "\n",
    "conditions = (\n",
    "    (stage1_df['right_person_addr'].str.contains('|'.join(pref_list)+'|縣|県|日本国'))|(stage1_df['right_person_addr'].isin(fix_list))\n",
    ")\n",
    "stage1_clone_df = stage1_df[conditions].copy()\n",
    "stage1_clone_df = pd.concat([stage1_clone_df, stage1_df[(stage1_df['right_person_name'].isin(stage1_clone_df['right_person_name']))\\\n",
    "                                      &(stage1_df['right_person_addr'].str.contains('省略'))]], \n",
    "                     ignore_index=True, axis='index')\n",
    "stage1_clone_df = pd.concat([stage1_clone_df, stage1_df[stage1_df['right_person_name'].isin(jp_exception['name'])\\\n",
    "                                      &stage1_df['right_person_addr'].str.contains('省略')]], ignore_index=True, axis='index')\n",
    "stage1_clone_df = stage1_clone_df.drop_duplicates(subset=['right_person_name', 'reg_num', 'ipc'], keep='first')\n",
    "# stage1_df = stage1_clone_df.drop(columns=['right_person_addr'])\n"
   ]
  },
  {
   "cell_type": "markdown",
   "metadata": {},
   "source": [
    "<a href=#top>トップに戻る</a>\n",
    "\n",
    "---\n"
   ]
  },
  {
   "cell_type": "markdown",
   "metadata": {},
   "source": [
    "<a id=company></a>\n",
    "\n",
    "## **5. 企業・法人への絞り込み**\n"
   ]
  },
  {
   "cell_type": "code",
   "execution_count": 8,
   "metadata": {},
   "outputs": [],
   "source": [
    "# 氏名による絞込\n",
    "stage2_df = stage1_df.copy()\n",
    "stage2_df = stage2_df[stage2_df['right_person_name'].str.contains('会社|法人|大学$|組合|機構$|研究所', regex=True)]\n"
   ]
  },
  {
   "cell_type": "code",
   "execution_count": 9,
   "metadata": {},
   "outputs": [],
   "source": [
    "stage3_df = stage1_df[~stage1_df['right_person_name'].isin(stage2_df['right_person_name'])].copy()\n",
    "# pd.DataFrame(stage3_df['right_person_name'].unique()).to_csv(f'{filter_dir}jp_firm.csv', encoding='utf-8', index=False, sep=',')\n"
   ]
  },
  {
   "cell_type": "code",
   "execution_count": 10,
   "metadata": {},
   "outputs": [],
   "source": [
    "extra_jp_df = pd.read_csv(f'{filter_dir}jp_firm_flagged.csv', sep=',', encoding='utf-8', dtype=object)\n"
   ]
  },
  {
   "cell_type": "code",
   "execution_count": 11,
   "metadata": {},
   "outputs": [],
   "source": [
    "stage4_df = stage1_df[stage1_df['right_person_name'].isin(extra_jp_df['name'])].copy()\n",
    "stage4_df = pd.concat([stage2_df, stage4_df], \n",
    "                      ignore_index=True, \n",
    "                      axis='index')\n",
    "stage4_df['right_person_name'] = stage4_df['right_person_name'].str.replace('東京都新宿区戸塚町１丁目１０４番地', '学校法人早稲田大学')\n",
    "# stage4_df\n"
   ]
  },
  {
   "cell_type": "code",
   "execution_count": 12,
   "metadata": {},
   "outputs": [],
   "source": [
    "# stage1_df[(stage1_df['app_year_month_day'].astype(np.int64).isin(range(19810401, 20160400)))&(stage1_df['right_person_name'].isin(stage4_df['right_person_name']))]\\\n",
    "#     .groupby('right_person_name')[['reg_num']].nunique().describe()"
   ]
  },
  {
   "cell_type": "markdown",
   "metadata": {},
   "source": [
    "<a href=#top>トップに戻る</a>\n",
    "\n",
    "---\n"
   ]
  },
  {
   "cell_type": "markdown",
   "metadata": {},
   "source": [
    "<a id=year></a>\n",
    "\n",
    "## **6. 年から年度に**\n"
   ]
  },
  {
   "cell_type": "code",
   "execution_count": 13,
   "metadata": {},
   "outputs": [
    {
     "data": {
      "text/html": [
       "<div>\n",
       "<style scoped>\n",
       "    .dataframe tbody tr th:only-of-type {\n",
       "        vertical-align: middle;\n",
       "    }\n",
       "\n",
       "    .dataframe tbody tr th {\n",
       "        vertical-align: top;\n",
       "    }\n",
       "\n",
       "    .dataframe thead th {\n",
       "        text-align: right;\n",
       "    }\n",
       "</style>\n",
       "<table border=\"1\" class=\"dataframe\">\n",
       "  <thead>\n",
       "    <tr style=\"text-align: right;\">\n",
       "      <th></th>\n",
       "      <th>reg_num</th>\n",
       "      <th>ipc</th>\n",
       "      <th>right_person_addr</th>\n",
       "      <th>right_person_name</th>\n",
       "      <th>app_year</th>\n",
       "      <th>app_nendo</th>\n",
       "      <th>reg_year</th>\n",
       "      <th>reg_nendo</th>\n",
       "    </tr>\n",
       "  </thead>\n",
       "  <tbody>\n",
       "    <tr>\n",
       "      <th>0</th>\n",
       "      <td>5684492</td>\n",
       "      <td>G10H   3/18</td>\n",
       "      <td>東京都渋谷区</td>\n",
       "      <td>ＤＲＣ合同会社</td>\n",
       "      <td>2010</td>\n",
       "      <td>2010</td>\n",
       "      <td>2015</td>\n",
       "      <td>2014</td>\n",
       "    </tr>\n",
       "    <tr>\n",
       "      <th>1</th>\n",
       "      <td>5684512</td>\n",
       "      <td>B62D  57/02</td>\n",
       "      <td>東京都江東区</td>\n",
       "      <td>株式会社ＩＨＩエアロスペース</td>\n",
       "      <td>2010</td>\n",
       "      <td>2010</td>\n",
       "      <td>2015</td>\n",
       "      <td>2014</td>\n",
       "    </tr>\n",
       "    <tr>\n",
       "      <th>2</th>\n",
       "      <td>5684598</td>\n",
       "      <td>A47C   7/62</td>\n",
       "      <td>神奈川県横浜市</td>\n",
       "      <td>株式会社オカムラ</td>\n",
       "      <td>2011</td>\n",
       "      <td>2010</td>\n",
       "      <td>2015</td>\n",
       "      <td>2014</td>\n",
       "    </tr>\n",
       "    <tr>\n",
       "      <th>3</th>\n",
       "      <td>5684620</td>\n",
       "      <td>H01M   4/62</td>\n",
       "      <td>東京都港区</td>\n",
       "      <td>三井化学株式会社</td>\n",
       "      <td>2011</td>\n",
       "      <td>2010</td>\n",
       "      <td>2015</td>\n",
       "      <td>2014</td>\n",
       "    </tr>\n",
       "    <tr>\n",
       "      <th>4</th>\n",
       "      <td>5684633</td>\n",
       "      <td>G06F  12/02</td>\n",
       "      <td>東京都千代田区</td>\n",
       "      <td>日本電信電話株式会社</td>\n",
       "      <td>2011</td>\n",
       "      <td>2011</td>\n",
       "      <td>2015</td>\n",
       "      <td>2014</td>\n",
       "    </tr>\n",
       "  </tbody>\n",
       "</table>\n",
       "</div>"
      ],
      "text/plain": [
       "   reg_num          ipc right_person_addr right_person_name  app_year  \\\n",
       "0  5684492  G10H   3/18            東京都渋谷区           ＤＲＣ合同会社      2010   \n",
       "1  5684512  B62D  57/02            東京都江東区    株式会社ＩＨＩエアロスペース      2010   \n",
       "2  5684598  A47C   7/62           神奈川県横浜市          株式会社オカムラ      2011   \n",
       "3  5684620  H01M   4/62             東京都港区          三井化学株式会社      2011   \n",
       "4  5684633  G06F  12/02           東京都千代田区        日本電信電話株式会社      2011   \n",
       "\n",
       "   app_nendo  reg_year  reg_nendo  \n",
       "0       2010      2015       2014  \n",
       "1       2010      2015       2014  \n",
       "2       2010      2015       2014  \n",
       "3       2010      2015       2014  \n",
       "4       2011      2015       2014  "
      ]
     },
     "execution_count": 13,
     "metadata": {},
     "output_type": "execute_result"
    }
   ],
   "source": [
    "# 年月日から年に処理\n",
    "# さらに年を年度に処理\n",
    "stage5_df = stage4_df.copy()\n",
    "stage5_df = stage5_df.rename(columns={'set_reg_year_month_day': 'reg_year_month_day'})\n",
    "for ar in ['app', 'reg']:\n",
    "    stage5_df[f'{ar}_year'] = stage5_df[f'{ar}_year_month_day'].str[:4].astype(np.int64)\n",
    "    stage5_df[f'{ar}_month'] = stage5_df[f'{ar}_year_month_day'].str[4:6].astype(np.int64)\n",
    "    stage5_df[f'{ar}_nendo'] = np.where(stage5_df[f'{ar}_month'] <= 3, \n",
    "                                        stage5_df[f'{ar}_year'] - 1, \n",
    "                                        stage5_df[f'{ar}_year'])\n",
    "\n",
    "stage5_df = stage5_df.drop(columns=['app_year_month_day', 'app_month', \n",
    "                                    'reg_year_month_day', 'reg_month'])\n",
    "#                     [['reg_num', 'right_person_name', 'reg_nendo', 'app_nendo', 'ipc']]\\\n",
    "#                     .rename(columns={'app_year_jp':'app_year', 'reg_year_jp':'reg_year'})\n",
    "stage5_df.head()\n"
   ]
  },
  {
   "cell_type": "code",
   "execution_count": 14,
   "metadata": {},
   "outputs": [],
   "source": [
    "\n",
    "stage5_df.to_csv(f'{output_dir}filtered.csv', \n",
    "                 encoding='utf-8', \n",
    "                 index=False, \n",
    "                 sep=',')\n",
    "# stage6_df[['reg_num', 'right_person_name', 'app_year', 'ipc_class']]\\\n",
    "#          .to_csv('../Data/Dealed/app_notmerged.csv', \n",
    "#                  encoding='utf-8', \n",
    "#                  index=False, \n",
    "#                  sep=',')\n"
   ]
  },
  {
   "cell_type": "markdown",
   "metadata": {},
   "source": [
    "<a href=#top>トップに戻る</a>\n",
    "\n",
    "---\n"
   ]
  }
 ],
 "metadata": {
  "kernelspec": {
   "display_name": "economic_complexity",
   "language": "python",
   "name": "python3"
  },
  "language_info": {
   "codemirror_mode": {
    "name": "ipython",
    "version": 3
   },
   "file_extension": ".py",
   "mimetype": "text/x-python",
   "name": "python",
   "nbconvert_exporter": "python",
   "pygments_lexer": "ipython3",
   "version": "3.11.4"
  }
 },
 "nbformat": 4,
 "nbformat_minor": 2
}
