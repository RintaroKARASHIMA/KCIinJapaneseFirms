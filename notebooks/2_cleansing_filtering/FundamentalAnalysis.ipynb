{
 "cells": [
  {
   "cell_type": "code",
   "execution_count": null,
   "metadata": {},
   "outputs": [],
   "source": [
    "import pandas as pd\n",
    "import numpy as np\n",
    "import matplotlib.pyplot as plt\n",
    "%matplotlib inline\n",
    "plt.rcParams['font.family'] = 'Meiryo'\n"
   ]
  },
  {
   "cell_type": "code",
   "execution_count": null,
   "metadata": {},
   "outputs": [],
   "source": [
    "df = pd.read_csv('../Data/Tmp/fixed_merged.csv', \n",
    "                 encoding='utf-8', \n",
    "                 sep=',', \n",
    "                 dtype=str)\n",
    "df.head()\n"
   ]
  },
  {
   "cell_type": "code",
   "execution_count": null,
   "metadata": {},
   "outputs": [],
   "source": [
    "df['app_year_month'] = df['app_year_month_day'].str[:6]\n",
    "df['app_year'] = np.where(df['app_year_month'].str[-2:].isin(['01', '02', '03']), \n",
    "                          df['app_year_month'].str[:4].astype(np.float64) - 1, \n",
    "                          df['app_year_month'].str[:4].astype(np.float64))\n",
    "df['reg_year_month'] = df['set_reg_year_month_day'].str[:6]\n",
    "df['reg_year'] = np.where(df['reg_year_month'].str[-2:].isin(['01', '02', '03']), \n",
    "                          df['reg_year_month'].str[:4].astype(np.float64) - 1, \n",
    "                          df['reg_year_month'].str[:4].astype(np.float64))\n",
    "df = df.drop(columns=['app_year_month_day', 'set_reg_year_month_day', 'reg_year_month', 'app_year_month'])\n",
    "df\n"
   ]
  },
  {
   "cell_type": "code",
   "execution_count": null,
   "metadata": {},
   "outputs": [],
   "source": [
    "# 出願年基準と登録年基準どっちが良いか\n",
    "# samp_a = adate_jp_df.groupby(['app_year', 'reg_num'])['right_person_name'].count().reset_index(drop=False).copy()\n",
    "# samp_a = samp_a[['app_year', 'reg_num']].groupby('app_year').count()\n",
    "samp_a = df[df['app_year'].notna()].copy()\n",
    "samp_a['app_year'] = samp_a['app_year'].astype(np.int64)\n",
    "samp_a = samp_a.groupby('app_year')[['reg_num']].nunique().copy()\n",
    "# samp_a = adate_jp_df[adate_jp_df['app_year'].isin([str(y) for y in range(1971, 2015+1)])].groupby('app_year')[['reg_num']].nunique().copy()\n",
    "\n",
    "# samp_r = rdate_jp_df.groupby(['reg_year', 'reg_num'])['right_person_name'].nunique().reset_index(drop=False).copy()\n",
    "# samp_r = samp_r[['reg_year', 'reg_num']].groupby('reg_year').count()\n",
    "samp_r = df[df['reg_year'].notna()].copy()\n",
    "samp_r['reg_year'] = samp_r['reg_year'].astype(np.int64)\n",
    "samp_r = samp_r.groupby('reg_year')[['reg_num']].nunique().copy()\n",
    "# samp_r = rdate_jp_df[rdate_jp_df['reg_year'].isin([str(y) for y in range(1971, 2015+1)])].groupby('reg_year')[['reg_num']].nunique().copy()\n",
    "\n",
    "pd.concat([samp_a.rename(columns={'reg_num':'出願年分布'}), \n",
    "           samp_r.rename(columns={'reg_num':'登録年分布'})], axis=1).plot(kind='bar', \n",
    "                                                                     figsize=(16, 9), \n",
    "                                                                     legend=True, \n",
    "                                                                     color=['orange', 'green'], \n",
    "                                                                     fontsize=15, \n",
    "                                                                     width=0.8)\n",
    "plt.grid(axis='y', color='gray', linestyle='--')\n",
    "plt.legend(fontsize=24, loc='upper left')\n",
    "plt.xlabel('\\n年', fontsize=20)\n",
    "plt.ylabel('登録件数', fontsize=20)\n",
    "# plt.title('出願年分布と登録年分布\\n', fontsize=20)\n",
    "plt.show()\n"
   ]
  },
  {
   "cell_type": "code",
   "execution_count": null,
   "metadata": {},
   "outputs": [],
   "source": [
    "period_num_df = pd.DataFrame(period_num_dict)#.to_csv('../ProcessingData/Fixed/period_num.csv', sep=',', encoding='utf-8', index=False)\n",
    "# Me:reg_numとright_person_nameのperiodごとの推移を表す二軸グラフを作成する\n",
    "\n",
    "x = period_num_df['period']\n",
    "y1 = period_num_df['reg_num'] #折れ線グラフ用データ\n",
    "y2 = period_num_df['right_person_name'] #棒グラフ用データ\n",
    "\n",
    "#第一軸(ax1)と第二軸(ax2)を作って関連付ける\n",
    "fig, ax1 = plt.subplots(figsize=(12, 5))\n",
    "ax2 = ax1.twinx()\n",
    "\n",
    "#第一軸を折れ線グラフ、第二軸を棒グラフに\n",
    "ax1.plot(x, y1, linewidth=3, color=\"red\", linestyle=\"solid\", label='登録数')\n",
    "ax2.bar(x, y2, width=0.6, label='特許権者数')\n",
    "\n",
    "#y軸の範囲 今回は第二軸のみとした\n",
    "# ax2.set_ylim([0,300])\n",
    "\n",
    "#重ね順として折れ線グラフを前面に。\n",
    "#そうしないと棒グラフに折れ線が隠れてしまうので。\n",
    "ax1.set_zorder(2)\n",
    "ax2.set_zorder(1)\n",
    "\n",
    "#折れ線グラフの背景を透明に。\n",
    "#そうしないと重ね順が後ろに回った棒グラフが消えてしまう。\n",
    "ax1.patch.set_alpha(0)\n",
    "\n",
    "#凡例を表示（グラフ左上、ax2をax1のやや下に持っていく）\n",
    "ax1.legend(bbox_to_anchor=(0, 1), loc='upper left', borderaxespad=0.5, fontsize=15)\n",
    "ax2.legend(bbox_to_anchor=(0, 0.9), loc='upper left', borderaxespad=0.5, fontsize=15)\n",
    "\n",
    "#グリッド表示(ax1のみ)\n",
    "# ax1.grid(True)\n",
    "\n",
    "#軸ラベルを表示\n",
    "\n",
    "ax1.set_ylabel('登録数', fontsize=15)\n",
    "ax2.set_ylabel('特許権者数', fontsize=15)\n",
    "ax1.set_xlabel('\\n出願期間（年）', fontsize=15)\n",
    "ax2.set_xlabel('\\n出願期間（年）', fontsize=15)\n",
    "\n",
    "ax1.set_xticks(range(0, 9), x, rotation=60, fontsize=15)\n",
    "ax2.set_xticks(range(0, 9), x, rotation=60, fontsize=15)\n",
    "\n",
    "\n",
    "#グラフ表示\n",
    "plt.show()"
   ]
  }
 ],
 "metadata": {
  "kernelspec": {
   "display_name": "Python 3",
   "language": "python",
   "name": "python3"
  },
  "language_info": {
   "codemirror_mode": {
    "name": "ipython",
    "version": 3
   },
   "file_extension": ".py",
   "mimetype": "text/x-python",
   "name": "python",
   "nbconvert_exporter": "python",
   "pygments_lexer": "ipython3",
   "version": "3.11.4"
  }
 },
 "nbformat": 4,
 "nbformat_minor": 2
}
