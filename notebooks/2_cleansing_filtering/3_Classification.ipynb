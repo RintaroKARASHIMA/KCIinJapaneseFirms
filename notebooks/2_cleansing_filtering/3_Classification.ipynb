{
 "cells": [
  {
   "cell_type": "code",
   "execution_count": null,
   "metadata": {},
   "outputs": [],
   "source": [
    "import pandas as pd\n",
    "import numpy as np\n"
   ]
  },
  {
   "cell_type": "code",
   "execution_count": null,
   "metadata": {},
   "outputs": [],
   "source": [
    "global ex_data_dir, in_data_dir\n",
    "ex_data_dir = '../../data/processed/external/'\n",
    "in_data_dir = '../../data/interim/internal/filtered_before_agg/'\n"
   ]
  },
  {
   "cell_type": "code",
   "execution_count": null,
   "metadata": {},
   "outputs": [],
   "source": [
    "schmoch_df = pd.read_csv(ex_data_dir + 'schmoch/35.csv', \n",
    "                         encoding='utf-8', \n",
    "                         sep=',', \n",
    "                         dtype=str)\n",
    "schmoch_df = schmoch_df.sort_values(by='IPC_code', \n",
    "                                    key=lambda s: s.str.len(), \n",
    "                                    ascending=True)\n",
    "# schmoch_df['Field_en'].nunique()\n",
    "ipc_to_schmoch35_dict = dict(zip(schmoch_df['IPC_code'], schmoch_df['Field_number']))\n",
    "schmoch35_to_describe_dict = dict(zip(schmoch_df['IPC_code'], schmoch_df['Field_number']))\n",
    "# ipc_to_schmoch35_dict\n"
   ]
  },
  {
   "cell_type": "code",
   "execution_count": null,
   "metadata": {},
   "outputs": [],
   "source": [
    "df = pd.read_csv(in_data_dir + 'filtered.csv')\n",
    "df\n"
   ]
  },
  {
   "cell_type": "code",
   "execution_count": null,
   "metadata": {},
   "outputs": [],
   "source": [
    "df['schmoch35'] = ''\n",
    "for ipc, schmoch35 in ipc_to_schmoch35_dict.items():\n",
    "    df['schmoch35'] = np.where(df['ipc'].str.startswith(ipc), \n",
    "                                ipc_to_schmoch35_dict[ipc], \n",
    "                                df['schmoch35'])\n",
    "df\n"
   ]
  },
  {
   "cell_type": "code",
   "execution_count": null,
   "metadata": {},
   "outputs": [],
   "source": [
    "# df['schmoch35'].unique()"
   ]
  },
  {
   "cell_type": "code",
   "execution_count": null,
   "metadata": {},
   "outputs": [],
   "source": [
    "df.to_csv(in_data_dir + 'addedclassification.csv', \n",
    "          encoding='utf-8', \n",
    "          index=False, \n",
    "          sep=',')\n"
   ]
  }
 ],
 "metadata": {
  "kernelspec": {
   "display_name": "economic_complexity",
   "language": "python",
   "name": "python3"
  },
  "language_info": {
   "codemirror_mode": {
    "name": "ipython",
    "version": 3
   },
   "file_extension": ".py",
   "mimetype": "text/x-python",
   "name": "python",
   "nbconvert_exporter": "python",
   "pygments_lexer": "ipython3",
   "version": "3.11.4"
  }
 },
 "nbformat": 4,
 "nbformat_minor": 2
}
