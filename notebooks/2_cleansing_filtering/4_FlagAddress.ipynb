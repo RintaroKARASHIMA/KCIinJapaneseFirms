{
 "cells": [
  {
   "cell_type": "code",
   "execution_count": null,
   "metadata": {},
   "outputs": [],
   "source": [
    "import pandas as pd\n",
    "import numpy as np\n"
   ]
  },
  {
   "cell_type": "code",
   "execution_count": null,
   "metadata": {},
   "outputs": [],
   "source": [
    "global ex_data_dir, in_data_dir, in_filter_dir\n",
    "ex_data_dir = '../../data/processed/external/'\n",
    "in_data_dir = '../../data/interim/internal/filtered_before_agg/'\n",
    "in_filter_dir = '../../data/interim/internal/filter_before_agg/'\n"
   ]
  },
  {
   "cell_type": "code",
   "execution_count": null,
   "metadata": {},
   "outputs": [],
   "source": [
    "pref_list = [\n",
    "    \"北海道\",\n",
    "    \"青森県\",\n",
    "    \"岩手県\",\n",
    "    \"宮城県\",\n",
    "    \"秋田県\",\n",
    "    \"山形県\",\n",
    "    \"福島県\",\n",
    "    \"茨城県\",\n",
    "    \"栃木県\",\n",
    "    \"群馬県\",\n",
    "    \"埼玉県\",\n",
    "    \"千葉県\",\n",
    "    \"東京都\",\n",
    "    \"神奈川県\",\n",
    "    \"新潟県\",\n",
    "    \"富山県\",\n",
    "    \"石川県\",\n",
    "    \"福井県\",\n",
    "    \"山梨県\",\n",
    "    \"長野県\",\n",
    "    \"岐阜県\",\n",
    "    \"静岡県\",\n",
    "    \"愛知県\",\n",
    "    \"三重県\",\n",
    "    \"滋賀県\",\n",
    "    \"京都府\",\n",
    "    \"大阪府\",\n",
    "    \"兵庫県\",\n",
    "    \"奈良県\",\n",
    "    \"和歌山県\",\n",
    "    \"鳥取県\",\n",
    "    \"島根県\",\n",
    "    \"岡山県\",\n",
    "    \"広島県\",\n",
    "    \"山口県\",\n",
    "    \"徳島県\",\n",
    "    \"香川県\",\n",
    "    \"愛媛県\",\n",
    "    \"高知県\",\n",
    "    \"福岡県\",\n",
    "    \"佐賀県\",\n",
    "    \"長崎県\",\n",
    "    \"熊本県\",\n",
    "    \"大分県\",\n",
    "    \"宮崎県\",\n",
    "    \"鹿児島県\",\n",
    "    \"沖縄県\",\n",
    "]"
   ]
  },
  {
   "cell_type": "code",
   "execution_count": null,
   "metadata": {},
   "outputs": [],
   "source": [
    "df = pd.read_csv(in_data_dir + 'addedclassification.csv', \n",
    "                encoding='utf-8', \n",
    "                sep=',', \n",
    "                dtype=str)\n",
    "df\n",
    "\n",
    "city_df = pd.read_csv(\n",
    "    in_filter_dir + \"jp_address_flagged.csv\", encoding=\"utf-8\", sep=\",\", dtype=str\n",
    ")\n",
    "city_df"
   ]
  },
  {
   "cell_type": "code",
   "execution_count": null,
   "metadata": {},
   "outputs": [],
   "source": [
    "# df[~df['prefecture'].isin(pref_list)]['right_person_addr'].unique()"
   ]
  },
  {
   "cell_type": "code",
   "execution_count": null,
   "metadata": {},
   "outputs": [],
   "source": [
    "japan_df = pd.merge(df, city_df, left_on='right_person_addr', right_on='city', \n",
    "         how='left').drop(columns=['city']).copy()\n",
    "for pref in pref_list:\n",
    "    japan_df['prefecture'] = np.where(japan_df['right_person_addr'].str.startswith(pref), \n",
    "                                pref, \n",
    "                                japan_df['prefecture'])\n",
    "japan_df = japan_df.dropna(subset=['prefecture'])\\\n",
    "                    .drop(columns=['right_person_addr'])\\\n",
    "                    .rename(columns={'prefecture': 'right_person_addr'})\n",
    "japan_df\n"
   ]
  },
  {
   "cell_type": "code",
   "execution_count": null,
   "metadata": {},
   "outputs": [],
   "source": [
    "japan_df['right_person_addr'] = japan_df['right_person_addr'].str.replace('省略', '')\n",
    "japan_df['right_person_addr'] = pd.Categorical(japan_df['right_person_addr'], \n",
    "                                               categories=pref_list+[''], \n",
    "                                               ordered=True)\n",
    "japan_df = japan_df.sort_values(by=['app_year', 'right_person_name', 'right_person_addr'], \n",
    "                                ascending=True)\n",
    "japan_df['right_person_addr'] = japan_df['right_person_addr'].replace('', np.nan).ffill()\n",
    "japan_df\n"
   ]
  },
  {
   "cell_type": "code",
   "execution_count": null,
   "metadata": {},
   "outputs": [],
   "source": [
    "in_data_dir"
   ]
  },
  {
   "cell_type": "code",
   "execution_count": null,
   "metadata": {},
   "outputs": [],
   "source": [
    "japan_df.to_csv(in_data_dir + 'japan.csv', \n",
    "                encoding='utf-8', \n",
    "                sep=',', \n",
    "                index=False)"
   ]
  }
 ],
 "metadata": {
  "kernelspec": {
   "display_name": "economic_complexity",
   "language": "python",
   "name": "python3"
  },
  "language_info": {
   "codemirror_mode": {
    "name": "ipython",
    "version": 3
   },
   "file_extension": ".py",
   "mimetype": "text/x-python",
   "name": "python",
   "nbconvert_exporter": "python",
   "pygments_lexer": "ipython3",
   "version": "3.11.7"
  }
 },
 "nbformat": 4,
 "nbformat_minor": 2
}
