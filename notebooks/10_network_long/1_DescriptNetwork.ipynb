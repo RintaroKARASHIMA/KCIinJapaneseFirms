{
 "cells": [
  {
   "cell_type": "code",
   "execution_count": null,
   "metadata": {},
   "outputs": [],
   "source": [
    "# color_count = 0\n",
    "# fig, ax = plt.subplots(figsize=(8, 8))\n",
    "# for s in list(right_person_df['segment'].unique())[0:1]:\n",
    "#     ccdf_array = ccdf(right_person_df[right_person_df['segment']==s]['diversity'].to_list())\n",
    "#     ax.plot(range(1, len(ccdf_array)+1), ccdf_array, 'o', markersize=7, \n",
    "#                     color=color_list[color_count], label=s+'年度', alpha=0.6)\n",
    "#     color_count += 1\n",
    "#     # print(right_person_df[right_person_df['segment']==s]['diversity'].mean())\n",
    "#     # print(right_person_df[right_person_df['segment']==s]['right_person_name'].nunique())\n",
    "#     # print(right_person_df[right_person_df['segment']==s]['diversity'].mean() * right_person_df[right_person_df['segment']==s]['right_person_name'].nunique())\n",
    "#     # print(right_person_df[right_person_df['segment']==s]['diversity'].mean() * right_person_df[right_person_df['segment']==s]['right_person_name'].nunique()/627)\n",
    "#     # print(right_person_df[right_person_df['segment']==s]['diversity'].mean())\n",
    "# ax.legend(loc='lower left', fontsize=18)\n",
    "# # ax.legend(loc='upper right', fontsize=18)\n",
    "\n",
    "# # ax.set_title('各期間における特許権者の補累積次数（Diversity）分布（両対数スケール）'+'\\n', fontsize=20)\n",
    "# ax.set_xlabel('特許権者次数（Diversity）', fontsize=18)\n",
    "# ax.set_ylabel('ccdf', fontsize=18)\n",
    "\n",
    "# ax.set_xscale('log')\n",
    "# ax.set_yscale('log')\n",
    "\n",
    "# ax.tick_params(labelsize=18)\n",
    "# ax.set_xlim(0.8, 300)\n",
    "\n",
    "# # x軸の指数表記を普通に戻す魔法\n",
    "# ax.xaxis.set_major_formatter(ptick.ScalarFormatter(useMathText=True))\n",
    "\n",
    "# # ax.set_xlim(prop_dict['xlim'])\n",
    "# # ax.set_ylim(prop_dict['ylim'])\n",
    "\n",
    "# ax.grid(axis='both', \n",
    "#         which='major', \n",
    "#         alpha=1, \n",
    "#         linestyle='--', \n",
    "#         linewidth=0.6, \n",
    "#         color='gray')\n",
    "    \n",
    "# plt.show()\n"
   ]
  }
 ],
 "metadata": {
  "language_info": {
   "name": "python"
  }
 },
 "nbformat": 4,
 "nbformat_minor": 2
}
