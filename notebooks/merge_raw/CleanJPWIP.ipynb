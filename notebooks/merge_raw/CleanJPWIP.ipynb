{
 "cells": [
  {
   "cell_type": "code",
   "execution_count": 1,
   "metadata": {},
   "outputs": [],
   "source": [
    "import pandas as pd\n",
    "import numpy as np\n",
    "from glob import glob\n"
   ]
  },
  {
   "cell_type": "code",
   "execution_count": 2,
   "metadata": {},
   "outputs": [],
   "source": [
    "needed_col_list = [\n",
    "                   'doc_key_num', # 文献番号\n",
    "                   'ipc', # IPC\n",
    "                   'first_class_flg'\n",
    "                   ]\n",
    "\n",
    "original_df_list = [pd.read_csv(path, \n",
    "                                sep='\\t', \n",
    "                                encoding='utf-8', \n",
    "                                dtype=object)\n",
    "                    for path in glob('../Data/Original/*/JPWIP/upd_dsptch_fin_ipc.tsv')]\n"
   ]
  },
  {
   "cell_type": "code",
   "execution_count": 3,
   "metadata": {},
   "outputs": [
    {
     "data": {
      "text/html": [
       "<div>\n",
       "<style scoped>\n",
       "    .dataframe tbody tr th:only-of-type {\n",
       "        vertical-align: middle;\n",
       "    }\n",
       "\n",
       "    .dataframe tbody tr th {\n",
       "        vertical-align: top;\n",
       "    }\n",
       "\n",
       "    .dataframe thead th {\n",
       "        text-align: right;\n",
       "    }\n",
       "</style>\n",
       "<table border=\"1\" class=\"dataframe\">\n",
       "  <thead>\n",
       "    <tr style=\"text-align: right;\">\n",
       "      <th></th>\n",
       "      <th>ipc</th>\n",
       "      <th>app_num</th>\n",
       "    </tr>\n",
       "  </thead>\n",
       "  <tbody>\n",
       "    <tr>\n",
       "      <th>0</th>\n",
       "      <td>B01J  20/08</td>\n",
       "      <td>2016174271</td>\n",
       "    </tr>\n",
       "    <tr>\n",
       "      <th>10</th>\n",
       "      <td>H01L  27/11575</td>\n",
       "      <td>2016245031</td>\n",
       "    </tr>\n",
       "    <tr>\n",
       "      <th>17</th>\n",
       "      <td>D06M  11/00</td>\n",
       "      <td>2017022828</td>\n",
       "    </tr>\n",
       "    <tr>\n",
       "      <th>25</th>\n",
       "      <td>B23K  26/142</td>\n",
       "      <td>2017038084</td>\n",
       "    </tr>\n",
       "    <tr>\n",
       "      <th>28</th>\n",
       "      <td>B01D  61/22</td>\n",
       "      <td>2017181003</td>\n",
       "    </tr>\n",
       "    <tr>\n",
       "      <th>...</th>\n",
       "      <td>...</td>\n",
       "      <td>...</td>\n",
       "    </tr>\n",
       "    <tr>\n",
       "      <th>1724049</th>\n",
       "      <td>B65G   1/06</td>\n",
       "      <td>2023517335</td>\n",
       "    </tr>\n",
       "    <tr>\n",
       "      <th>1724050</th>\n",
       "      <td>B66B  11/02</td>\n",
       "      <td>2023532592</td>\n",
       "    </tr>\n",
       "    <tr>\n",
       "      <th>1724051</th>\n",
       "      <td>B05D   1/36</td>\n",
       "      <td>2023533762</td>\n",
       "    </tr>\n",
       "    <tr>\n",
       "      <th>1724061</th>\n",
       "      <td>H05K   7/20</td>\n",
       "      <td>2023540983</td>\n",
       "    </tr>\n",
       "    <tr>\n",
       "      <th>1724062</th>\n",
       "      <td>B21D  22/22</td>\n",
       "      <td>2023543421</td>\n",
       "    </tr>\n",
       "  </tbody>\n",
       "</table>\n",
       "<p>405855 rows × 2 columns</p>\n",
       "</div>"
      ],
      "text/plain": [
       "                    ipc     app_num\n",
       "0           B01J  20/08  2016174271\n",
       "10       H01L  27/11575  2016245031\n",
       "17          D06M  11/00  2017022828\n",
       "25         B23K  26/142  2017038084\n",
       "28          B01D  61/22  2017181003\n",
       "...                 ...         ...\n",
       "1724049     B65G   1/06  2023517335\n",
       "1724050     B66B  11/02  2023532592\n",
       "1724051     B05D   1/36  2023533762\n",
       "1724061     H05K   7/20  2023540983\n",
       "1724062     B21D  22/22  2023543421\n",
       "\n",
       "[405855 rows x 2 columns]"
      ]
     },
     "execution_count": 3,
     "metadata": {},
     "output_type": "execute_result"
    }
   ],
   "source": [
    "ipc_df_list = original_df_list.copy()\n",
    "ipc_df = pd.concat(ipc_df_list, \n",
    "                   ignore_index=True, \n",
    "                   axis='index')\\\n",
    "                   [needed_col_list]\n",
    "\n",
    "ipc_df['patent_flag'] = ipc_df['doc_key_num'].str[:1]\n",
    "# ipc_df['doc_key_num'] = ipc_df['doc_key_num'].astype(np.int64) # ここでエラーが出れば，例外処理が必要\n",
    "ipc_df['app_num'] = ipc_df['doc_key_num'].str[1:]\n",
    "ipc_exception_df = ipc_df[ipc_df['doc_key_num'].str.contains('JPB')].copy()\n",
    "\n",
    "ipc_df = ipc_df[ipc_df['patent_flag']=='1']\\\n",
    "               .reset_index(drop=True)\\\n",
    "               .drop(['patent_flag', 'doc_key_num'], axis='columns')\n",
    "\n",
    "ipc_df = ipc_df[ipc_df['first_class_flg']=='F'][['ipc', 'app_num']]\n",
    "ipc_df"
   ]
  },
  {
   "cell_type": "code",
   "execution_count": 4,
   "metadata": {},
   "outputs": [],
   "source": [
    "ipc_df.to_csv('../Data/Dealed/ipc.csv', sep=',', encoding='utf-8', index=False)\n"
   ]
  },
  {
   "cell_type": "code",
   "execution_count": null,
   "metadata": {},
   "outputs": [],
   "source": [
    "# ipc_exception_df.to_csv('../Data/Extracted/ipc_exception.csv', sep=',', encoding='utf-8', index=False)\n"
   ]
  }
 ],
 "metadata": {
  "kernelspec": {
   "display_name": "Python 3",
   "language": "python",
   "name": "python3"
  },
  "language_info": {
   "codemirror_mode": {
    "name": "ipython",
    "version": 3
   },
   "file_extension": ".py",
   "mimetype": "text/x-python",
   "name": "python",
   "nbconvert_exporter": "python",
   "pygments_lexer": "ipython3",
   "version": "3.11.4"
  }
 },
 "nbformat": 4,
 "nbformat_minor": 2
}
