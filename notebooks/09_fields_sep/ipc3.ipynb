{
 "cells": [
  {
   "cell_type": "code",
   "execution_count": null,
   "metadata": {},
   "outputs": [],
   "source": [
    "import pandas as pd\n",
    "import numpy as np\n",
    "import sys\n",
    "sys.path.append('../../src')\n",
    "from ecomplexity import ecomplexity\n",
    "\n",
    "# 小数点以下 桁数 6\n",
    "pd.options.display.float_format = '{:.3f}'.format\n"
   ]
  },
  {
   "cell_type": "code",
   "execution_count": null,
   "metadata": {},
   "outputs": [],
   "source": [
    "import initial_condition\n"
   ]
  },
  {
   "cell_type": "code",
   "execution_count": null,
   "metadata": {},
   "outputs": [],
   "source": [
    "global data_dir, output_dir, ex_dir\n",
    "data_dir = '../../data/processed/internal/tech/'\n",
    "ex_dir = '../../data/processed/external/schmoch/'\n"
   ]
  },
  {
   "cell_type": "code",
   "execution_count": null,
   "metadata": {},
   "outputs": [],
   "source": [
    "# 初期条件\n",
    "ar = initial_condition.AR\n",
    "year_style = initial_condition.YEAR_STYLE\n",
    "\n",
    "year_start = initial_condition.YEAR_START\n",
    "year_end = initial_condition.YEAR_END\n",
    "year_range = initial_condition.YEAR_RANGE\n",
    "\n",
    "extract_population = initial_condition.EXTRACT_POPULATION\n",
    "# top_p_or_num = initial_condition.TOP_P_OR_NUM\n",
    "top_p_or_num = ('p', 3)\n",
    "region_corporation = initial_condition.REGION_CORPORATION\n",
    "region_corporation = 'right_person_name'\n",
    "applicant_weight = initial_condition.APPLICANT_WEIGHT\n",
    "\n",
    "classification = initial_condition.CLASSIFICATION\n",
    "classification = 'ipc3'\n",
    "class_weight = initial_condition.CLASS_WEIGHT\n",
    "\n",
    "input_condition = f'{ar}_{year_style}_{extract_population}_{top_p_or_num[0]}_{top_p_or_num[1]}_{region_corporation}_{applicant_weight}_{classification}_{class_weight}'\n",
    "output_condition = f'{ar}_{year_style}_{extract_population}_{top_p_or_num[0]}_{top_p_or_num[1]}_{region_corporation}_{applicant_weight}_{classification}_{class_weight}'\n"
   ]
  },
  {
   "cell_type": "code",
   "execution_count": null,
   "metadata": {},
   "outputs": [],
   "source": [
    "output_condition"
   ]
  },
  {
   "cell_type": "code",
   "execution_count": null,
   "metadata": {},
   "outputs": [],
   "source": [
    "df = pd.read_csv(data_dir + f'{input_condition}.csv', encoding='utf-8', engine='python', sep=',')\n",
    "df"
   ]
  },
  {
   "cell_type": "code",
   "execution_count": null,
   "metadata": {},
   "outputs": [],
   "source": [
    "# 各期間\n",
    "classification_df = pd.merge(c_df.groupby([f'{ar}_{year_style}_period', classification])[['reg_num']].sum().reset_index(drop=False), \n",
    "                        c_df.groupby([f'{ar}_{year_style}_period', classification])[[region_corporation]].nunique().reset_index(drop=False), \n",
    "                        on=[f'{ar}_{year_style}_period', classification], \n",
    "                        how='inner')\n",
    "classification_df = pd.merge(classification_df, \n",
    "                      c_df[[f'{ar}_{year_style}_period', classification, 'ubiquity', 'tci']\\\n",
    "                          +[f'ki_{i}' for i in range(1, 20+1)]]\\\n",
    "                          .drop_duplicates(keep='first'), \n",
    "                      on=[f'{ar}_{year_style}_period', classification], \n",
    "                      how='inner')\n",
    "\n",
    "# classification_df['reg_num'] = classification_df['reg_num'].astype(np.int64)\n",
    "classification_df = pd.merge(classification_df, \n",
    "                            schmoch_df.rename(columns={'Field_number':classification}), \n",
    "                            on=[classification], \n",
    "                            how='inner')\\\n",
    "                            .drop(columns=[classification])\\\n",
    "                            .rename(columns={'Field_en':classification})\n",
    "# display(classification_df)\n",
    "# schmoch_df['ipc3'] = schmoch_df['IPC_code'].str[:3]\n",
    "# schmoch_df = schmoch_df.drop_duplicates()\n",
    "# schmoch_df\n",
    "# classification_df = pd.merge(classification_df,\n",
    "#                                 schmoch_df,\n",
    "#                                 # on=['ipc3'],\n",
    "#                                 on=['schmoch35'],\n",
    "#                                 how='left')\\\n",
    "#                             .rename(columns={'Field_en':'schmoch35'})\\\n",
    "#                             .drop(columns=['IPC_code', 'Field_number'])\\\n",
    "#                             .drop_duplicates()\n",
    "# for period in classification_df[f'{ar}_{year_style}_period'].unique():\n",
    "#     classification_df[classification_df[f'{ar}_{year_style}_period']==period]['tci'] = (classification_df[classification_df[f'{ar}_{year_style}_period']==period]['tci'] - classification_df[classification_df[f'{ar}_{year_style}_period']==period]['tci'].min()) / (classification_df[classification_df[f'{ar}_{year_style}_period']==period]['tci'].max() - classification_df[classification_df[f'{ar}_{year_style}_period']==period]['tci'].min())\n",
    "\n",
    "\n",
    "fiveyears_df_dict = {\n",
    "    f'{year}': classification_df[classification_df[f'{ar}_{year_style}_period']==f'{year}'][[f'{ar}_{year_style}_period', classification, 'tci']].drop_duplicates(keep='first')\\\n",
    "        for year in classification_df[f'{ar}_{year_style}_period'].unique() if year != f'{year_start}-{year_end}'\n",
    "}\n",
    "\n",
    "rank.rank_doubleaxis(fiveyears_df_dict, \n",
    "                     rank_num=35, \n",
    "                     member_col=classification,\n",
    "                     value_col='tci',\n",
    "                     prop_dict={\n",
    "                                \"figsize\": (16, 10),\n",
    "                                \"xlabel\": \"Period\",\n",
    "                                \"ylabel\": \"Technological Fields\",\n",
    "                                \"title\": \"\",\n",
    "                                \"fontsize\": 15,\n",
    "                                \"year_range\": 15,\n",
    "                                \"ascending\": False,\n",
    "                                \"color\": \"default\",\n",
    "    })\n"
   ]
  },
  {
   "cell_type": "code",
   "execution_count": null,
   "metadata": {},
   "outputs": [],
   "source": []
  }
 ],
 "metadata": {
  "kernelspec": {
   "display_name": "economic_complexity",
   "language": "python",
   "name": "python3"
  },
  "language_info": {
   "codemirror_mode": {
    "name": "ipython",
    "version": 3
   },
   "file_extension": ".py",
   "mimetype": "text/x-python",
   "name": "python",
   "nbconvert_exporter": "python",
   "pygments_lexer": "ipython3",
   "version": "3.11.7"
  }
 },
 "nbformat": 4,
 "nbformat_minor": 2
}
